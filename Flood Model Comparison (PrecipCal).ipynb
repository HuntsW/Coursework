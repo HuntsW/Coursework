{
 "cells": [
  {
   "cell_type": "code",
   "execution_count": 1,
   "id": "4a04c098",
   "metadata": {},
   "outputs": [],
   "source": [
    "import matplotlib.pyplot as plt\n",
    "import matplotlib.cm as cm\n",
    "import numpy as np\n",
    "import pandas as pd\n",
    "import xarray as xr"
   ]
  },
  {
   "cell_type": "markdown",
   "id": "2cb6097d",
   "metadata": {},
   "source": [
    "### Preprocessing"
   ]
  },
  {
   "cell_type": "code",
   "execution_count": 2,
   "id": "aa8d526a",
   "metadata": {},
   "outputs": [],
   "source": [
    "precipCal = pd.read_csv('precipitationCal Data.csv')"
   ]
  },
  {
   "cell_type": "code",
   "execution_count": 3,
   "id": "13339876",
   "metadata": {},
   "outputs": [
    {
     "data": {
      "text/html": [
       "<div>\n",
       "<style scoped>\n",
       "    .dataframe tbody tr th:only-of-type {\n",
       "        vertical-align: middle;\n",
       "    }\n",
       "\n",
       "    .dataframe tbody tr th {\n",
       "        vertical-align: top;\n",
       "    }\n",
       "\n",
       "    .dataframe thead th {\n",
       "        text-align: right;\n",
       "    }\n",
       "</style>\n",
       "<table border=\"1\" class=\"dataframe\">\n",
       "  <thead>\n",
       "    <tr style=\"text-align: right;\">\n",
       "      <th></th>\n",
       "      <th>time</th>\n",
       "      <th>precipitationCal</th>\n",
       "    </tr>\n",
       "  </thead>\n",
       "  <tbody>\n",
       "    <tr>\n",
       "      <th>0</th>\n",
       "      <td>2001-01-01</td>\n",
       "      <td>[17.329309463500977, 27.902912139892578, 34.33...</td>\n",
       "    </tr>\n",
       "    <tr>\n",
       "      <th>1</th>\n",
       "      <td>2001-01-02</td>\n",
       "      <td>[35.19463348388672, 27.76654052734375, 18.4890...</td>\n",
       "    </tr>\n",
       "    <tr>\n",
       "      <th>2</th>\n",
       "      <td>2001-01-03</td>\n",
       "      <td>[16.94203758239746, 11.227675437927246, 48.812...</td>\n",
       "    </tr>\n",
       "    <tr>\n",
       "      <th>3</th>\n",
       "      <td>2001-01-04</td>\n",
       "      <td>[20.935012817382812, 14.287378311157227, 13.11...</td>\n",
       "    </tr>\n",
       "    <tr>\n",
       "      <th>4</th>\n",
       "      <td>2001-01-05</td>\n",
       "      <td>[2.271533727645874, 10.376913070678711, 8.9069...</td>\n",
       "    </tr>\n",
       "  </tbody>\n",
       "</table>\n",
       "</div>"
      ],
      "text/plain": [
       "        time                                   precipitationCal\n",
       "0 2001-01-01  [17.329309463500977, 27.902912139892578, 34.33...\n",
       "1 2001-01-02  [35.19463348388672, 27.76654052734375, 18.4890...\n",
       "2 2001-01-03  [16.94203758239746, 11.227675437927246, 48.812...\n",
       "3 2001-01-04  [20.935012817382812, 14.287378311157227, 13.11...\n",
       "4 2001-01-05  [2.271533727645874, 10.376913070678711, 8.9069..."
      ]
     },
     "execution_count": 3,
     "metadata": {},
     "output_type": "execute_result"
    }
   ],
   "source": [
    "for i in range(3652):\n",
    "    precipCal['time'][i] = precipCal['time'][i][:10]\n",
    "    \n",
    "precipCal['time'] = pd.to_datetime(precipCal['time'], format='%Y-%m-%d')\n",
    "precipCal.head()"
   ]
  },
  {
   "cell_type": "code",
   "execution_count": 4,
   "id": "22f9c7bf",
   "metadata": {},
   "outputs": [],
   "source": [
    "column_list = []\n",
    "for i in range(225):\n",
    "    colName = 'precipitationCal_'+str(i)\n",
    "    column_list.append(colName)\n",
    "    \n",
    "column = []\n",
    "for i in range(3652):\n",
    "    values = (precipCal['precipitationCal'][i])[1:-1].split(', ')\n",
    "    for j in range(225):\n",
    "        values[j] = float(values[j])\n",
    "    column.append(values)"
   ]
  },
  {
   "cell_type": "code",
   "execution_count": 5,
   "id": "bfeb0430",
   "metadata": {},
   "outputs": [],
   "source": [
    "calSplit = pd.DataFrame(np.column_stack(list(zip(*column))), columns=column_list)"
   ]
  },
  {
   "cell_type": "code",
   "execution_count": 6,
   "id": "39bb5418",
   "metadata": {},
   "outputs": [
    {
     "data": {
      "text/html": [
       "<div>\n",
       "<style scoped>\n",
       "    .dataframe tbody tr th:only-of-type {\n",
       "        vertical-align: middle;\n",
       "    }\n",
       "\n",
       "    .dataframe tbody tr th {\n",
       "        vertical-align: top;\n",
       "    }\n",
       "\n",
       "    .dataframe thead th {\n",
       "        text-align: right;\n",
       "    }\n",
       "</style>\n",
       "<table border=\"1\" class=\"dataframe\">\n",
       "  <thead>\n",
       "    <tr style=\"text-align: right;\">\n",
       "      <th></th>\n",
       "      <th>precipitationCal_0</th>\n",
       "      <th>precipitationCal_1</th>\n",
       "      <th>precipitationCal_2</th>\n",
       "      <th>precipitationCal_3</th>\n",
       "      <th>precipitationCal_4</th>\n",
       "      <th>precipitationCal_5</th>\n",
       "      <th>precipitationCal_6</th>\n",
       "      <th>precipitationCal_7</th>\n",
       "      <th>precipitationCal_8</th>\n",
       "      <th>precipitationCal_9</th>\n",
       "      <th>...</th>\n",
       "      <th>precipitationCal_215</th>\n",
       "      <th>precipitationCal_216</th>\n",
       "      <th>precipitationCal_217</th>\n",
       "      <th>precipitationCal_218</th>\n",
       "      <th>precipitationCal_219</th>\n",
       "      <th>precipitationCal_220</th>\n",
       "      <th>precipitationCal_221</th>\n",
       "      <th>precipitationCal_222</th>\n",
       "      <th>precipitationCal_223</th>\n",
       "      <th>precipitationCal_224</th>\n",
       "    </tr>\n",
       "  </thead>\n",
       "  <tbody>\n",
       "    <tr>\n",
       "      <th>0</th>\n",
       "      <td>17.329309</td>\n",
       "      <td>27.902912</td>\n",
       "      <td>34.331448</td>\n",
       "      <td>36.106491</td>\n",
       "      <td>28.313553</td>\n",
       "      <td>22.343315</td>\n",
       "      <td>15.562146</td>\n",
       "      <td>17.313404</td>\n",
       "      <td>17.398394</td>\n",
       "      <td>15.631536</td>\n",
       "      <td>...</td>\n",
       "      <td>0.017672</td>\n",
       "      <td>0.623855</td>\n",
       "      <td>0.000000</td>\n",
       "      <td>0.990622</td>\n",
       "      <td>0.107623</td>\n",
       "      <td>0.155027</td>\n",
       "      <td>0.000000</td>\n",
       "      <td>0.000222</td>\n",
       "      <td>0.001059</td>\n",
       "      <td>0.170179</td>\n",
       "    </tr>\n",
       "    <tr>\n",
       "      <th>1</th>\n",
       "      <td>35.194633</td>\n",
       "      <td>27.766541</td>\n",
       "      <td>18.489019</td>\n",
       "      <td>21.819479</td>\n",
       "      <td>17.775288</td>\n",
       "      <td>21.556389</td>\n",
       "      <td>18.234875</td>\n",
       "      <td>24.476213</td>\n",
       "      <td>20.709044</td>\n",
       "      <td>27.433151</td>\n",
       "      <td>...</td>\n",
       "      <td>0.259616</td>\n",
       "      <td>0.918001</td>\n",
       "      <td>1.337987</td>\n",
       "      <td>0.881817</td>\n",
       "      <td>0.166394</td>\n",
       "      <td>0.011014</td>\n",
       "      <td>1.055559</td>\n",
       "      <td>1.027510</td>\n",
       "      <td>0.096882</td>\n",
       "      <td>0.081447</td>\n",
       "    </tr>\n",
       "    <tr>\n",
       "      <th>2</th>\n",
       "      <td>16.942038</td>\n",
       "      <td>11.227675</td>\n",
       "      <td>48.812778</td>\n",
       "      <td>65.612114</td>\n",
       "      <td>48.224422</td>\n",
       "      <td>24.605593</td>\n",
       "      <td>25.185324</td>\n",
       "      <td>23.278702</td>\n",
       "      <td>24.141319</td>\n",
       "      <td>23.886179</td>\n",
       "      <td>...</td>\n",
       "      <td>1.560159</td>\n",
       "      <td>1.613709</td>\n",
       "      <td>1.589815</td>\n",
       "      <td>1.566429</td>\n",
       "      <td>3.053795</td>\n",
       "      <td>2.147802</td>\n",
       "      <td>1.876650</td>\n",
       "      <td>3.852067</td>\n",
       "      <td>2.415415</td>\n",
       "      <td>1.993752</td>\n",
       "    </tr>\n",
       "    <tr>\n",
       "      <th>3</th>\n",
       "      <td>20.935013</td>\n",
       "      <td>14.287378</td>\n",
       "      <td>13.114537</td>\n",
       "      <td>8.286098</td>\n",
       "      <td>9.234212</td>\n",
       "      <td>8.688240</td>\n",
       "      <td>8.543026</td>\n",
       "      <td>13.017234</td>\n",
       "      <td>16.213320</td>\n",
       "      <td>14.230496</td>\n",
       "      <td>...</td>\n",
       "      <td>13.936455</td>\n",
       "      <td>10.887053</td>\n",
       "      <td>10.416513</td>\n",
       "      <td>10.058251</td>\n",
       "      <td>10.060767</td>\n",
       "      <td>1.924302</td>\n",
       "      <td>0.931968</td>\n",
       "      <td>1.362625</td>\n",
       "      <td>2.775538</td>\n",
       "      <td>4.240115</td>\n",
       "    </tr>\n",
       "    <tr>\n",
       "      <th>4</th>\n",
       "      <td>2.271534</td>\n",
       "      <td>10.376913</td>\n",
       "      <td>8.906925</td>\n",
       "      <td>5.326809</td>\n",
       "      <td>1.420617</td>\n",
       "      <td>1.467431</td>\n",
       "      <td>1.464463</td>\n",
       "      <td>2.688712</td>\n",
       "      <td>2.712233</td>\n",
       "      <td>3.335240</td>\n",
       "      <td>...</td>\n",
       "      <td>0.062611</td>\n",
       "      <td>0.066455</td>\n",
       "      <td>0.000000</td>\n",
       "      <td>0.000000</td>\n",
       "      <td>0.000000</td>\n",
       "      <td>0.062558</td>\n",
       "      <td>0.057333</td>\n",
       "      <td>0.031409</td>\n",
       "      <td>0.037391</td>\n",
       "      <td>0.038596</td>\n",
       "    </tr>\n",
       "    <tr>\n",
       "      <th>...</th>\n",
       "      <td>...</td>\n",
       "      <td>...</td>\n",
       "      <td>...</td>\n",
       "      <td>...</td>\n",
       "      <td>...</td>\n",
       "      <td>...</td>\n",
       "      <td>...</td>\n",
       "      <td>...</td>\n",
       "      <td>...</td>\n",
       "      <td>...</td>\n",
       "      <td>...</td>\n",
       "      <td>...</td>\n",
       "      <td>...</td>\n",
       "      <td>...</td>\n",
       "      <td>...</td>\n",
       "      <td>...</td>\n",
       "      <td>...</td>\n",
       "      <td>...</td>\n",
       "      <td>...</td>\n",
       "      <td>...</td>\n",
       "      <td>...</td>\n",
       "    </tr>\n",
       "    <tr>\n",
       "      <th>3647</th>\n",
       "      <td>0.283610</td>\n",
       "      <td>1.980873</td>\n",
       "      <td>3.468959</td>\n",
       "      <td>2.447074</td>\n",
       "      <td>3.278378</td>\n",
       "      <td>4.044055</td>\n",
       "      <td>6.886439</td>\n",
       "      <td>9.649260</td>\n",
       "      <td>10.885081</td>\n",
       "      <td>12.220076</td>\n",
       "      <td>...</td>\n",
       "      <td>6.917093</td>\n",
       "      <td>3.263332</td>\n",
       "      <td>1.354083</td>\n",
       "      <td>0.833713</td>\n",
       "      <td>0.535352</td>\n",
       "      <td>0.715669</td>\n",
       "      <td>0.831271</td>\n",
       "      <td>0.615990</td>\n",
       "      <td>1.478001</td>\n",
       "      <td>2.224321</td>\n",
       "    </tr>\n",
       "    <tr>\n",
       "      <th>3648</th>\n",
       "      <td>5.900194</td>\n",
       "      <td>6.176653</td>\n",
       "      <td>12.422379</td>\n",
       "      <td>9.719407</td>\n",
       "      <td>6.237170</td>\n",
       "      <td>3.182266</td>\n",
       "      <td>2.363985</td>\n",
       "      <td>4.677182</td>\n",
       "      <td>8.332596</td>\n",
       "      <td>8.176822</td>\n",
       "      <td>...</td>\n",
       "      <td>1.146102</td>\n",
       "      <td>2.090024</td>\n",
       "      <td>5.205466</td>\n",
       "      <td>7.212513</td>\n",
       "      <td>7.440534</td>\n",
       "      <td>7.167834</td>\n",
       "      <td>5.182045</td>\n",
       "      <td>6.113485</td>\n",
       "      <td>9.934593</td>\n",
       "      <td>10.943758</td>\n",
       "    </tr>\n",
       "    <tr>\n",
       "      <th>3649</th>\n",
       "      <td>28.648680</td>\n",
       "      <td>26.562168</td>\n",
       "      <td>22.368481</td>\n",
       "      <td>14.666425</td>\n",
       "      <td>7.834162</td>\n",
       "      <td>25.859035</td>\n",
       "      <td>25.537550</td>\n",
       "      <td>15.084959</td>\n",
       "      <td>12.371813</td>\n",
       "      <td>9.517365</td>\n",
       "      <td>...</td>\n",
       "      <td>1.286098</td>\n",
       "      <td>2.161227</td>\n",
       "      <td>4.295135</td>\n",
       "      <td>5.332625</td>\n",
       "      <td>11.310312</td>\n",
       "      <td>8.567055</td>\n",
       "      <td>13.202668</td>\n",
       "      <td>16.849140</td>\n",
       "      <td>21.299393</td>\n",
       "      <td>29.786797</td>\n",
       "    </tr>\n",
       "    <tr>\n",
       "      <th>3650</th>\n",
       "      <td>8.735123</td>\n",
       "      <td>10.223583</td>\n",
       "      <td>3.327227</td>\n",
       "      <td>2.403113</td>\n",
       "      <td>3.273492</td>\n",
       "      <td>4.727993</td>\n",
       "      <td>5.481760</td>\n",
       "      <td>4.328533</td>\n",
       "      <td>3.439352</td>\n",
       "      <td>4.006973</td>\n",
       "      <td>...</td>\n",
       "      <td>15.128482</td>\n",
       "      <td>16.702799</td>\n",
       "      <td>12.655154</td>\n",
       "      <td>13.225263</td>\n",
       "      <td>19.979506</td>\n",
       "      <td>21.561136</td>\n",
       "      <td>17.428755</td>\n",
       "      <td>16.170801</td>\n",
       "      <td>17.212297</td>\n",
       "      <td>16.897997</td>\n",
       "    </tr>\n",
       "    <tr>\n",
       "      <th>3651</th>\n",
       "      <td>4.818583</td>\n",
       "      <td>7.065346</td>\n",
       "      <td>28.322924</td>\n",
       "      <td>18.000153</td>\n",
       "      <td>46.652203</td>\n",
       "      <td>33.687405</td>\n",
       "      <td>57.556473</td>\n",
       "      <td>56.221066</td>\n",
       "      <td>34.281143</td>\n",
       "      <td>9.358627</td>\n",
       "      <td>...</td>\n",
       "      <td>1.204704</td>\n",
       "      <td>1.565608</td>\n",
       "      <td>2.306154</td>\n",
       "      <td>3.525729</td>\n",
       "      <td>6.505203</td>\n",
       "      <td>12.978116</td>\n",
       "      <td>27.332581</td>\n",
       "      <td>26.116873</td>\n",
       "      <td>15.763901</td>\n",
       "      <td>12.441750</td>\n",
       "    </tr>\n",
       "  </tbody>\n",
       "</table>\n",
       "<p>3652 rows × 225 columns</p>\n",
       "</div>"
      ],
      "text/plain": [
       "      precipitationCal_0  precipitationCal_1  precipitationCal_2  \\\n",
       "0              17.329309           27.902912           34.331448   \n",
       "1              35.194633           27.766541           18.489019   \n",
       "2              16.942038           11.227675           48.812778   \n",
       "3              20.935013           14.287378           13.114537   \n",
       "4               2.271534           10.376913            8.906925   \n",
       "...                  ...                 ...                 ...   \n",
       "3647            0.283610            1.980873            3.468959   \n",
       "3648            5.900194            6.176653           12.422379   \n",
       "3649           28.648680           26.562168           22.368481   \n",
       "3650            8.735123           10.223583            3.327227   \n",
       "3651            4.818583            7.065346           28.322924   \n",
       "\n",
       "      precipitationCal_3  precipitationCal_4  precipitationCal_5  \\\n",
       "0              36.106491           28.313553           22.343315   \n",
       "1              21.819479           17.775288           21.556389   \n",
       "2              65.612114           48.224422           24.605593   \n",
       "3               8.286098            9.234212            8.688240   \n",
       "4               5.326809            1.420617            1.467431   \n",
       "...                  ...                 ...                 ...   \n",
       "3647            2.447074            3.278378            4.044055   \n",
       "3648            9.719407            6.237170            3.182266   \n",
       "3649           14.666425            7.834162           25.859035   \n",
       "3650            2.403113            3.273492            4.727993   \n",
       "3651           18.000153           46.652203           33.687405   \n",
       "\n",
       "      precipitationCal_6  precipitationCal_7  precipitationCal_8  \\\n",
       "0              15.562146           17.313404           17.398394   \n",
       "1              18.234875           24.476213           20.709044   \n",
       "2              25.185324           23.278702           24.141319   \n",
       "3               8.543026           13.017234           16.213320   \n",
       "4               1.464463            2.688712            2.712233   \n",
       "...                  ...                 ...                 ...   \n",
       "3647            6.886439            9.649260           10.885081   \n",
       "3648            2.363985            4.677182            8.332596   \n",
       "3649           25.537550           15.084959           12.371813   \n",
       "3650            5.481760            4.328533            3.439352   \n",
       "3651           57.556473           56.221066           34.281143   \n",
       "\n",
       "      precipitationCal_9  ...  precipitationCal_215  precipitationCal_216  \\\n",
       "0              15.631536  ...              0.017672              0.623855   \n",
       "1              27.433151  ...              0.259616              0.918001   \n",
       "2              23.886179  ...              1.560159              1.613709   \n",
       "3              14.230496  ...             13.936455             10.887053   \n",
       "4               3.335240  ...              0.062611              0.066455   \n",
       "...                  ...  ...                   ...                   ...   \n",
       "3647           12.220076  ...              6.917093              3.263332   \n",
       "3648            8.176822  ...              1.146102              2.090024   \n",
       "3649            9.517365  ...              1.286098              2.161227   \n",
       "3650            4.006973  ...             15.128482             16.702799   \n",
       "3651            9.358627  ...              1.204704              1.565608   \n",
       "\n",
       "      precipitationCal_217  precipitationCal_218  precipitationCal_219  \\\n",
       "0                 0.000000              0.990622              0.107623   \n",
       "1                 1.337987              0.881817              0.166394   \n",
       "2                 1.589815              1.566429              3.053795   \n",
       "3                10.416513             10.058251             10.060767   \n",
       "4                 0.000000              0.000000              0.000000   \n",
       "...                    ...                   ...                   ...   \n",
       "3647              1.354083              0.833713              0.535352   \n",
       "3648              5.205466              7.212513              7.440534   \n",
       "3649              4.295135              5.332625             11.310312   \n",
       "3650             12.655154             13.225263             19.979506   \n",
       "3651              2.306154              3.525729              6.505203   \n",
       "\n",
       "      precipitationCal_220  precipitationCal_221  precipitationCal_222  \\\n",
       "0                 0.155027              0.000000              0.000222   \n",
       "1                 0.011014              1.055559              1.027510   \n",
       "2                 2.147802              1.876650              3.852067   \n",
       "3                 1.924302              0.931968              1.362625   \n",
       "4                 0.062558              0.057333              0.031409   \n",
       "...                    ...                   ...                   ...   \n",
       "3647              0.715669              0.831271              0.615990   \n",
       "3648              7.167834              5.182045              6.113485   \n",
       "3649              8.567055             13.202668             16.849140   \n",
       "3650             21.561136             17.428755             16.170801   \n",
       "3651             12.978116             27.332581             26.116873   \n",
       "\n",
       "      precipitationCal_223  precipitationCal_224  \n",
       "0                 0.001059              0.170179  \n",
       "1                 0.096882              0.081447  \n",
       "2                 2.415415              1.993752  \n",
       "3                 2.775538              4.240115  \n",
       "4                 0.037391              0.038596  \n",
       "...                    ...                   ...  \n",
       "3647              1.478001              2.224321  \n",
       "3648              9.934593             10.943758  \n",
       "3649             21.299393             29.786797  \n",
       "3650             17.212297             16.897997  \n",
       "3651             15.763901             12.441750  \n",
       "\n",
       "[3652 rows x 225 columns]"
      ]
     },
     "execution_count": 6,
     "metadata": {},
     "output_type": "execute_result"
    }
   ],
   "source": [
    "calSplit"
   ]
  },
  {
   "cell_type": "code",
   "execution_count": 7,
   "id": "b323bd5e",
   "metadata": {},
   "outputs": [
    {
     "data": {
      "text/html": [
       "<div>\n",
       "<style scoped>\n",
       "    .dataframe tbody tr th:only-of-type {\n",
       "        vertical-align: middle;\n",
       "    }\n",
       "\n",
       "    .dataframe tbody tr th {\n",
       "        vertical-align: top;\n",
       "    }\n",
       "\n",
       "    .dataframe thead th {\n",
       "        text-align: right;\n",
       "    }\n",
       "</style>\n",
       "<table border=\"1\" class=\"dataframe\">\n",
       "  <thead>\n",
       "    <tr style=\"text-align: right;\">\n",
       "      <th></th>\n",
       "      <th>Date</th>\n",
       "      <th>Bernam River</th>\n",
       "      <th>Selangor River</th>\n",
       "      <th>Buloh River</th>\n",
       "      <th>Klang River</th>\n",
       "      <th>Langat River</th>\n",
       "      <th>Sepang River</th>\n",
       "    </tr>\n",
       "  </thead>\n",
       "  <tbody>\n",
       "    <tr>\n",
       "      <th>0</th>\n",
       "      <td>2001-01-25</td>\n",
       "      <td>0</td>\n",
       "      <td>0</td>\n",
       "      <td>0</td>\n",
       "      <td>1</td>\n",
       "      <td>0</td>\n",
       "      <td>0</td>\n",
       "    </tr>\n",
       "    <tr>\n",
       "      <th>1</th>\n",
       "      <td>2001-02-19</td>\n",
       "      <td>1</td>\n",
       "      <td>0</td>\n",
       "      <td>0</td>\n",
       "      <td>0</td>\n",
       "      <td>0</td>\n",
       "      <td>0</td>\n",
       "    </tr>\n",
       "    <tr>\n",
       "      <th>2</th>\n",
       "      <td>2001-04-03</td>\n",
       "      <td>0</td>\n",
       "      <td>0</td>\n",
       "      <td>0</td>\n",
       "      <td>1</td>\n",
       "      <td>1</td>\n",
       "      <td>0</td>\n",
       "    </tr>\n",
       "    <tr>\n",
       "      <th>3</th>\n",
       "      <td>2001-04-09</td>\n",
       "      <td>0</td>\n",
       "      <td>0</td>\n",
       "      <td>0</td>\n",
       "      <td>1</td>\n",
       "      <td>1</td>\n",
       "      <td>0</td>\n",
       "    </tr>\n",
       "    <tr>\n",
       "      <th>4</th>\n",
       "      <td>2001-04-13</td>\n",
       "      <td>0</td>\n",
       "      <td>0</td>\n",
       "      <td>0</td>\n",
       "      <td>1</td>\n",
       "      <td>0</td>\n",
       "      <td>0</td>\n",
       "    </tr>\n",
       "  </tbody>\n",
       "</table>\n",
       "</div>"
      ],
      "text/plain": [
       "        Date  Bernam River  Selangor River  Buloh River  Klang River  \\\n",
       "0 2001-01-25             0               0            0            1   \n",
       "1 2001-02-19             1               0            0            0   \n",
       "2 2001-04-03             0               0            0            1   \n",
       "3 2001-04-09             0               0            0            1   \n",
       "4 2001-04-13             0               0            0            1   \n",
       "\n",
       "   Langat River  Sepang River  \n",
       "0             0             0  \n",
       "1             0             0  \n",
       "2             1             0  \n",
       "3             1             0  \n",
       "4             0             0  "
      ]
     },
     "execution_count": 7,
     "metadata": {},
     "output_type": "execute_result"
    }
   ],
   "source": [
    "floods = pd.read_excel('Flood Events Final.xlsx')\n",
    "floods = floods.drop(columns=['Unnamed: 0'])\n",
    "floods.head()"
   ]
  },
  {
   "cell_type": "code",
   "execution_count": 8,
   "id": "4ffa81f5",
   "metadata": {},
   "outputs": [
    {
     "data": {
      "text/plain": [
       "(3652, 7)"
      ]
     },
     "execution_count": 8,
     "metadata": {},
     "output_type": "execute_result"
    }
   ],
   "source": [
    "from datetime import date, timedelta\n",
    "\n",
    "def daterange(start_date, end_date):\n",
    "    for n in range(int((end_date - start_date).days)):\n",
    "        yield start_date + timedelta(n)\n",
    "\n",
    "start_date = date(2001, 1, 1)\n",
    "end_date = date(2011, 1, 1)\n",
    "dates = []\n",
    "for single_date in daterange(start_date, end_date):\n",
    "    dates.append(single_date.strftime(\"%Y-%m-%d\"))\n",
    "\n",
    "nonFloods = pd.DataFrame({\n",
    "    'Date':dates,\n",
    "    'Bernam River':0,\n",
    "    'Selangor River':0,\n",
    "    'Buloh River':0,\n",
    "    'Klang River':0,\n",
    "    'Langat River':0,\n",
    "    'Sepang River':0,\n",
    "})\n",
    "\n",
    "nonFloods['Date'] = pd.to_datetime(nonFloods['Date'], format='%Y-%m-%d')\n",
    "nonFloods.shape"
   ]
  },
  {
   "cell_type": "code",
   "execution_count": 9,
   "id": "4a96f8e6",
   "metadata": {},
   "outputs": [
    {
     "name": "stderr",
     "output_type": "stream",
     "text": [
      "C:\\Users\\Hunts\\AppData\\Local\\Temp\\ipykernel_18284\\3410022939.py:1: FutureWarning: The frame.append method is deprecated and will be removed from pandas in a future version. Use pandas.concat instead.\n",
      "  floods = floods.append(nonFloods, ignore_index=True)\n"
     ]
    }
   ],
   "source": [
    "floods = floods.append(nonFloods, ignore_index=True)\n",
    "floods = floods.groupby(['Date']).sum().reset_index()"
   ]
  },
  {
   "cell_type": "code",
   "execution_count": 10,
   "id": "6c158c35",
   "metadata": {},
   "outputs": [],
   "source": [
    "result = []\n",
    "for i in range(3652):\n",
    "    if 1 in list(floods.iloc[i][1:]):\n",
    "        result.append(1)\n",
    "    else:\n",
    "        result.append(0)"
   ]
  },
  {
   "cell_type": "code",
   "execution_count": 11,
   "id": "32a83b14",
   "metadata": {},
   "outputs": [],
   "source": [
    "simpleFloods = pd.DataFrame({\n",
    "    'Date':floods['Date'],\n",
    "    'Flood':result\n",
    "})"
   ]
  },
  {
   "cell_type": "code",
   "execution_count": 12,
   "id": "763cdd08",
   "metadata": {},
   "outputs": [],
   "source": [
    "simpleFloods = simpleFloods.drop(columns=['Date'])"
   ]
  },
  {
   "cell_type": "code",
   "execution_count": 13,
   "id": "61b35980",
   "metadata": {},
   "outputs": [],
   "source": [
    "# December 2021 test case preprocessing\n",
    "dec21 = pd.read_csv('precipitationCal Data Test Cases (Dec2021).csv')\n",
    "\n",
    "for i in range(31):\n",
    "    dec21['time'][i] = dec21['time'][i][:10]\n",
    "    \n",
    "dec21 = dec21.drop(columns=['time'])\n",
    "\n",
    "column_list = []\n",
    "for i in range(225):\n",
    "    colName = 'precipitationCal_'+str(i)\n",
    "    column_list.append(colName)\n",
    "    \n",
    "column = []\n",
    "for i in range(31):\n",
    "    values = (dec21['PrecipCals'][i])[1:-1].split(', ')\n",
    "    for j in range(225):\n",
    "        values[j] = float(values[j])\n",
    "    column.append(values)\n",
    "\n",
    "Dec21HqSplit = pd.DataFrame(np.column_stack(list(zip(*column))), columns=column_list)"
   ]
  },
  {
   "cell_type": "code",
   "execution_count": 14,
   "id": "c96e8a1b",
   "metadata": {},
   "outputs": [],
   "source": [
    "# June 2021 test case preprocessing\n",
    "jun21 = pd.read_csv('precipitationCal Data Test Cases (Jun2021).csv')\n",
    "\n",
    "for i in range(30):\n",
    "    jun21['time'][i] = jun21['time'][i][:10]\n",
    "\n",
    "jun21 = jun21.drop(columns=['time'])\n",
    "\n",
    "column_list = []\n",
    "for i in range(225):\n",
    "    colName = 'precipitationCal_'+str(i)\n",
    "    column_list.append(colName)\n",
    "    \n",
    "column = []\n",
    "for i in range(30):\n",
    "    values = (jun21['PrecipCals'][i])[1:-1].split(', ')\n",
    "    for j in range(225):\n",
    "        values[j] = float(values[j])\n",
    "    column.append(values)\n",
    "    \n",
    "Jun21HqSplit = pd.DataFrame(np.column_stack(list(zip(*column))), columns=column_list)"
   ]
  },
  {
   "cell_type": "markdown",
   "id": "7704c454",
   "metadata": {},
   "source": [
    "### Decision Tree"
   ]
  },
  {
   "cell_type": "code",
   "execution_count": 15,
   "id": "557ab74a",
   "metadata": {},
   "outputs": [],
   "source": [
    "from sklearn.model_selection import train_test_split\n",
    "from sklearn.linear_model import LogisticRegression\n",
    "from sklearn import metrics\n",
    "from sklearn.tree import DecisionTreeClassifier\n",
    "from sklearn import svm\n",
    "from sklearn.naive_bayes import GaussianNB"
   ]
  },
  {
   "cell_type": "code",
   "execution_count": 16,
   "id": "ad9e664c",
   "metadata": {},
   "outputs": [],
   "source": [
    "import imblearn\n",
    "oversample = imblearn.over_sampling.SMOTE()\n",
    "calSplit, simpleFloods = oversample.fit_resample(calSplit, simpleFloods)"
   ]
  },
  {
   "cell_type": "code",
   "execution_count": 17,
   "id": "f8b8a121",
   "metadata": {},
   "outputs": [],
   "source": [
    "x_train, x_test, y_train, y_test = train_test_split(calSplit, simpleFloods, test_size=0.3, random_state=42)"
   ]
  },
  {
   "cell_type": "code",
   "execution_count": 18,
   "id": "ef0edf26",
   "metadata": {},
   "outputs": [
    {
     "data": {
      "text/html": [
       "<style>#sk-container-id-1 {color: black;background-color: white;}#sk-container-id-1 pre{padding: 0;}#sk-container-id-1 div.sk-toggleable {background-color: white;}#sk-container-id-1 label.sk-toggleable__label {cursor: pointer;display: block;width: 100%;margin-bottom: 0;padding: 0.3em;box-sizing: border-box;text-align: center;}#sk-container-id-1 label.sk-toggleable__label-arrow:before {content: \"▸\";float: left;margin-right: 0.25em;color: #696969;}#sk-container-id-1 label.sk-toggleable__label-arrow:hover:before {color: black;}#sk-container-id-1 div.sk-estimator:hover label.sk-toggleable__label-arrow:before {color: black;}#sk-container-id-1 div.sk-toggleable__content {max-height: 0;max-width: 0;overflow: hidden;text-align: left;background-color: #f0f8ff;}#sk-container-id-1 div.sk-toggleable__content pre {margin: 0.2em;color: black;border-radius: 0.25em;background-color: #f0f8ff;}#sk-container-id-1 input.sk-toggleable__control:checked~div.sk-toggleable__content {max-height: 200px;max-width: 100%;overflow: auto;}#sk-container-id-1 input.sk-toggleable__control:checked~label.sk-toggleable__label-arrow:before {content: \"▾\";}#sk-container-id-1 div.sk-estimator input.sk-toggleable__control:checked~label.sk-toggleable__label {background-color: #d4ebff;}#sk-container-id-1 div.sk-label input.sk-toggleable__control:checked~label.sk-toggleable__label {background-color: #d4ebff;}#sk-container-id-1 input.sk-hidden--visually {border: 0;clip: rect(1px 1px 1px 1px);clip: rect(1px, 1px, 1px, 1px);height: 1px;margin: -1px;overflow: hidden;padding: 0;position: absolute;width: 1px;}#sk-container-id-1 div.sk-estimator {font-family: monospace;background-color: #f0f8ff;border: 1px dotted black;border-radius: 0.25em;box-sizing: border-box;margin-bottom: 0.5em;}#sk-container-id-1 div.sk-estimator:hover {background-color: #d4ebff;}#sk-container-id-1 div.sk-parallel-item::after {content: \"\";width: 100%;border-bottom: 1px solid gray;flex-grow: 1;}#sk-container-id-1 div.sk-label:hover label.sk-toggleable__label {background-color: #d4ebff;}#sk-container-id-1 div.sk-serial::before {content: \"\";position: absolute;border-left: 1px solid gray;box-sizing: border-box;top: 0;bottom: 0;left: 50%;z-index: 0;}#sk-container-id-1 div.sk-serial {display: flex;flex-direction: column;align-items: center;background-color: white;padding-right: 0.2em;padding-left: 0.2em;position: relative;}#sk-container-id-1 div.sk-item {position: relative;z-index: 1;}#sk-container-id-1 div.sk-parallel {display: flex;align-items: stretch;justify-content: center;background-color: white;position: relative;}#sk-container-id-1 div.sk-item::before, #sk-container-id-1 div.sk-parallel-item::before {content: \"\";position: absolute;border-left: 1px solid gray;box-sizing: border-box;top: 0;bottom: 0;left: 50%;z-index: -1;}#sk-container-id-1 div.sk-parallel-item {display: flex;flex-direction: column;z-index: 1;position: relative;background-color: white;}#sk-container-id-1 div.sk-parallel-item:first-child::after {align-self: flex-end;width: 50%;}#sk-container-id-1 div.sk-parallel-item:last-child::after {align-self: flex-start;width: 50%;}#sk-container-id-1 div.sk-parallel-item:only-child::after {width: 0;}#sk-container-id-1 div.sk-dashed-wrapped {border: 1px dashed gray;margin: 0 0.4em 0.5em 0.4em;box-sizing: border-box;padding-bottom: 0.4em;background-color: white;}#sk-container-id-1 div.sk-label label {font-family: monospace;font-weight: bold;display: inline-block;line-height: 1.2em;}#sk-container-id-1 div.sk-label-container {text-align: center;}#sk-container-id-1 div.sk-container {/* jupyter's `normalize.less` sets `[hidden] { display: none; }` but bootstrap.min.css set `[hidden] { display: none !important; }` so we also need the `!important` here to be able to override the default hidden behavior on the sphinx rendered scikit-learn.org. See: https://github.com/scikit-learn/scikit-learn/issues/21755 */display: inline-block !important;position: relative;}#sk-container-id-1 div.sk-text-repr-fallback {display: none;}</style><div id=\"sk-container-id-1\" class=\"sk-top-container\"><div class=\"sk-text-repr-fallback\"><pre>DecisionTreeClassifier(class_weight=&#x27;balanced&#x27;, random_state=42)</pre><b>In a Jupyter environment, please rerun this cell to show the HTML representation or trust the notebook. <br />On GitHub, the HTML representation is unable to render, please try loading this page with nbviewer.org.</b></div><div class=\"sk-container\" hidden><div class=\"sk-item\"><div class=\"sk-estimator sk-toggleable\"><input class=\"sk-toggleable__control sk-hidden--visually\" id=\"sk-estimator-id-1\" type=\"checkbox\" checked><label for=\"sk-estimator-id-1\" class=\"sk-toggleable__label sk-toggleable__label-arrow\">DecisionTreeClassifier</label><div class=\"sk-toggleable__content\"><pre>DecisionTreeClassifier(class_weight=&#x27;balanced&#x27;, random_state=42)</pre></div></div></div></div></div>"
      ],
      "text/plain": [
       "DecisionTreeClassifier(class_weight='balanced', random_state=42)"
      ]
     },
     "execution_count": 18,
     "metadata": {},
     "output_type": "execute_result"
    }
   ],
   "source": [
    "dt = DecisionTreeClassifier(random_state=42, class_weight='balanced')\n",
    "dt.fit(x_train, y_train)"
   ]
  },
  {
   "cell_type": "code",
   "execution_count": 19,
   "id": "59c9ac72",
   "metadata": {},
   "outputs": [],
   "source": [
    "dt_predictions = dt.predict(x_test)\n",
    "cm = metrics.confusion_matrix(y_test,dt_predictions,labels=dt.classes_)"
   ]
  },
  {
   "cell_type": "code",
   "execution_count": 20,
   "id": "d2a07374",
   "metadata": {},
   "outputs": [
    {
     "data": {
      "image/png": "[encoded data removed]",
      "text/plain": [
       "<Figure size 640x480 with 2 Axes>"
      ]
     },
     "metadata": {},
     "output_type": "display_data"
    }
   ],
   "source": [
    "display = metrics.ConfusionMatrixDisplay(confusion_matrix=cm, display_labels=dt.classes_)\n",
    "display.plot()\n",
    "plt.show()"
   ]
  },
  {
   "cell_type": "code",
   "execution_count": 21,
   "id": "b786f751",
   "metadata": {},
   "outputs": [
    {
     "name": "stdout",
     "output_type": "stream",
     "text": [
      "Accuracy: 0.847\n",
      "Precision: 0.820\n",
      "Recall: 0.881\n",
      "F1 Score: 0.849\n"
     ]
    }
   ],
   "source": [
    "from sklearn.metrics import precision_score, recall_score, f1_score, accuracy_score\n",
    "print('Accuracy: %.3f' % accuracy_score(y_test, dt_predictions))\n",
    "print('Precision: %.3f' % precision_score(y_test, dt_predictions))\n",
    "print('Recall: %.3f' % recall_score(y_test, dt_predictions))\n",
    "print('F1 Score: %.3f' % f1_score(y_test, dt_predictions))"
   ]
  },
  {
   "cell_type": "code",
   "execution_count": 22,
   "id": "7deedb34",
   "metadata": {},
   "outputs": [
    {
     "data": {
      "text/plain": [
       "array([1, 0, 0, 1, 0, 0, 1, 0, 1, 0, 0, 0, 0, 0, 0, 0, 0, 0, 0, 0, 1, 0,\n",
       "       0, 0, 0, 0, 0, 0, 0, 0, 1], dtype=int64)"
      ]
     },
     "execution_count": 22,
     "metadata": {},
     "output_type": "execute_result"
    }
   ],
   "source": [
    "dt_dec_predictions = dt.predict(Dec21HqSplit)\n",
    "dt_dec_predictions"
   ]
  },
  {
   "cell_type": "code",
   "execution_count": 23,
   "id": "54adb128",
   "metadata": {},
   "outputs": [
    {
     "data": {
      "text/plain": [
       "array([0, 0, 0, 1, 0, 0, 0, 0, 0, 0, 1, 0, 0, 1, 1, 0, 0, 0, 0, 0, 0, 0,\n",
       "       0, 0, 1, 0, 1, 1, 0, 0], dtype=int64)"
      ]
     },
     "execution_count": 23,
     "metadata": {},
     "output_type": "execute_result"
    }
   ],
   "source": [
    "dt_jun_predictions = dt.predict(Jun21HqSplit)\n",
    "dt_jun_predictions"
   ]
  },
  {
   "cell_type": "code",
   "execution_count": 24,
   "id": "3e4d67fc",
   "metadata": {},
   "outputs": [],
   "source": [
    "import pickle\n",
    "pickle.dump(dt, open('PrecipCalDtModel.pkl', 'wb'))"
   ]
  },
  {
   "cell_type": "markdown",
   "id": "6aa11b23",
   "metadata": {},
   "source": [
    "### Logistic Regression"
   ]
  },
  {
   "cell_type": "code",
   "execution_count": 25,
   "id": "33a681ac",
   "metadata": {},
   "outputs": [
    {
     "name": "stderr",
     "output_type": "stream",
     "text": [
      "C:\\Users\\Hunts\\AppData\\Local\\Programs\\Python\\Python39\\lib\\site-packages\\sklearn\\utils\\validation.py:1141: DataConversionWarning: A column-vector y was passed when a 1d array was expected. Please change the shape of y to (n_samples, ), for example using ravel().\n",
      "  y = column_or_1d(y, warn=True)\n"
     ]
    },
    {
     "data": {
      "text/html": [
       "<style>#sk-container-id-2 {color: black;background-color: white;}#sk-container-id-2 pre{padding: 0;}#sk-container-id-2 div.sk-toggleable {background-color: white;}#sk-container-id-2 label.sk-toggleable__label {cursor: pointer;display: block;width: 100%;margin-bottom: 0;padding: 0.3em;box-sizing: border-box;text-align: center;}#sk-container-id-2 label.sk-toggleable__label-arrow:before {content: \"▸\";float: left;margin-right: 0.25em;color: #696969;}#sk-container-id-2 label.sk-toggleable__label-arrow:hover:before {color: black;}#sk-container-id-2 div.sk-estimator:hover label.sk-toggleable__label-arrow:before {color: black;}#sk-container-id-2 div.sk-toggleable__content {max-height: 0;max-width: 0;overflow: hidden;text-align: left;background-color: #f0f8ff;}#sk-container-id-2 div.sk-toggleable__content pre {margin: 0.2em;color: black;border-radius: 0.25em;background-color: #f0f8ff;}#sk-container-id-2 input.sk-toggleable__control:checked~div.sk-toggleable__content {max-height: 200px;max-width: 100%;overflow: auto;}#sk-container-id-2 input.sk-toggleable__control:checked~label.sk-toggleable__label-arrow:before {content: \"▾\";}#sk-container-id-2 div.sk-estimator input.sk-toggleable__control:checked~label.sk-toggleable__label {background-color: #d4ebff;}#sk-container-id-2 div.sk-label input.sk-toggleable__control:checked~label.sk-toggleable__label {background-color: #d4ebff;}#sk-container-id-2 input.sk-hidden--visually {border: 0;clip: rect(1px 1px 1px 1px);clip: rect(1px, 1px, 1px, 1px);height: 1px;margin: -1px;overflow: hidden;padding: 0;position: absolute;width: 1px;}#sk-container-id-2 div.sk-estimator {font-family: monospace;background-color: #f0f8ff;border: 1px dotted black;border-radius: 0.25em;box-sizing: border-box;margin-bottom: 0.5em;}#sk-container-id-2 div.sk-estimator:hover {background-color: #d4ebff;}#sk-container-id-2 div.sk-parallel-item::after {content: \"\";width: 100%;border-bottom: 1px solid gray;flex-grow: 1;}#sk-container-id-2 div.sk-label:hover label.sk-toggleable__label {background-color: #d4ebff;}#sk-container-id-2 div.sk-serial::before {content: \"\";position: absolute;border-left: 1px solid gray;box-sizing: border-box;top: 0;bottom: 0;left: 50%;z-index: 0;}#sk-container-id-2 div.sk-serial {display: flex;flex-direction: column;align-items: center;background-color: white;padding-right: 0.2em;padding-left: 0.2em;position: relative;}#sk-container-id-2 div.sk-item {position: relative;z-index: 1;}#sk-container-id-2 div.sk-parallel {display: flex;align-items: stretch;justify-content: center;background-color: white;position: relative;}#sk-container-id-2 div.sk-item::before, #sk-container-id-2 div.sk-parallel-item::before {content: \"\";position: absolute;border-left: 1px solid gray;box-sizing: border-box;top: 0;bottom: 0;left: 50%;z-index: -1;}#sk-container-id-2 div.sk-parallel-item {display: flex;flex-direction: column;z-index: 1;position: relative;background-color: white;}#sk-container-id-2 div.sk-parallel-item:first-child::after {align-self: flex-end;width: 50%;}#sk-container-id-2 div.sk-parallel-item:last-child::after {align-self: flex-start;width: 50%;}#sk-container-id-2 div.sk-parallel-item:only-child::after {width: 0;}#sk-container-id-2 div.sk-dashed-wrapped {border: 1px dashed gray;margin: 0 0.4em 0.5em 0.4em;box-sizing: border-box;padding-bottom: 0.4em;background-color: white;}#sk-container-id-2 div.sk-label label {font-family: monospace;font-weight: bold;display: inline-block;line-height: 1.2em;}#sk-container-id-2 div.sk-label-container {text-align: center;}#sk-container-id-2 div.sk-container {/* jupyter's `normalize.less` sets `[hidden] { display: none; }` but bootstrap.min.css set `[hidden] { display: none !important; }` so we also need the `!important` here to be able to override the default hidden behavior on the sphinx rendered scikit-learn.org. See: https://github.com/scikit-learn/scikit-learn/issues/21755 */display: inline-block !important;position: relative;}#sk-container-id-2 div.sk-text-repr-fallback {display: none;}</style><div id=\"sk-container-id-2\" class=\"sk-top-container\"><div class=\"sk-text-repr-fallback\"><pre>LogisticRegression(class_weight=&#x27;balanced&#x27;, max_iter=10000)</pre><b>In a Jupyter environment, please rerun this cell to show the HTML representation or trust the notebook. <br />On GitHub, the HTML representation is unable to render, please try loading this page with nbviewer.org.</b></div><div class=\"sk-container\" hidden><div class=\"sk-item\"><div class=\"sk-estimator sk-toggleable\"><input class=\"sk-toggleable__control sk-hidden--visually\" id=\"sk-estimator-id-2\" type=\"checkbox\" checked><label for=\"sk-estimator-id-2\" class=\"sk-toggleable__label sk-toggleable__label-arrow\">LogisticRegression</label><div class=\"sk-toggleable__content\"><pre>LogisticRegression(class_weight=&#x27;balanced&#x27;, max_iter=10000)</pre></div></div></div></div></div>"
      ],
      "text/plain": [
       "LogisticRegression(class_weight='balanced', max_iter=10000)"
      ]
     },
     "execution_count": 25,
     "metadata": {},
     "output_type": "execute_result"
    }
   ],
   "source": [
    "logReg = LogisticRegression(max_iter=10000, class_weight='balanced')\n",
    "logReg.fit(x_train, y_train)"
   ]
  },
  {
   "cell_type": "code",
   "execution_count": 26,
   "id": "f140c31b",
   "metadata": {},
   "outputs": [
    {
     "name": "stdout",
     "output_type": "stream",
     "text": [
      "0.734297108673978\n"
     ]
    }
   ],
   "source": [
    "score = logReg.score(x_test,y_test)\n",
    "print(score)"
   ]
  },
  {
   "cell_type": "code",
   "execution_count": 27,
   "id": "58379b41",
   "metadata": {},
   "outputs": [
    {
     "name": "stdout",
     "output_type": "stream",
     "text": [
      "[[792 231]\n",
      " [302 681]]\n"
     ]
    }
   ],
   "source": [
    "predictions = logReg.predict(x_test)\n",
    "cm = metrics.confusion_matrix(y_test,predictions,labels=logReg.classes_)\n",
    "print(cm)"
   ]
  },
  {
   "cell_type": "code",
   "execution_count": 28,
   "id": "299dba27",
   "metadata": {},
   "outputs": [
    {
     "data": {
      "image/png": "[encoded data removed]",
      "text/plain": [
       "<Figure size 640x480 with 2 Axes>"
      ]
     },
     "metadata": {},
     "output_type": "display_data"
    }
   ],
   "source": [
    "display = metrics.ConfusionMatrixDisplay(confusion_matrix=cm, display_labels=logReg.classes_)\n",
    "display.plot()\n",
    "plt.show()"
   ]
  },
  {
   "cell_type": "code",
   "execution_count": 29,
   "id": "f0c847fb",
   "metadata": {},
   "outputs": [
    {
     "name": "stdout",
     "output_type": "stream",
     "text": [
      "Accuracy: 0.734\n",
      "Precision: 0.747\n",
      "Recall: 0.693\n",
      "F1 Score: 0.719\n"
     ]
    }
   ],
   "source": [
    "print('Accuracy: %.3f' % accuracy_score(y_test, predictions))\n",
    "print('Precision: %.3f' % precision_score(y_test, predictions))\n",
    "print('Recall: %.3f' % recall_score(y_test, predictions))\n",
    "print('F1 Score: %.3f' % f1_score(y_test, predictions))"
   ]
  },
  {
   "cell_type": "code",
   "execution_count": 30,
   "id": "6a23bd2e",
   "metadata": {},
   "outputs": [
    {
     "data": {
      "text/plain": [
       "array([0, 0, 0, 1, 0, 0, 0, 0, 0, 0, 0, 0, 1, 0, 0, 0, 1, 1, 0, 0, 1, 0,\n",
       "       0, 0, 0, 0, 0, 0, 0, 0, 0], dtype=int64)"
      ]
     },
     "execution_count": 30,
     "metadata": {},
     "output_type": "execute_result"
    }
   ],
   "source": [
    "logreg_dec_predictions = logReg.predict(Dec21HqSplit)\n",
    "logreg_dec_predictions"
   ]
  },
  {
   "cell_type": "code",
   "execution_count": 31,
   "id": "76439d28",
   "metadata": {},
   "outputs": [
    {
     "data": {
      "text/plain": [
       "array([0, 0, 0, 0, 0, 0, 0, 0, 0, 0, 0, 1, 0, 0, 0, 0, 0, 0, 0, 1, 0, 1,\n",
       "       0, 0, 0, 0, 0, 0, 0, 0], dtype=int64)"
      ]
     },
     "execution_count": 31,
     "metadata": {},
     "output_type": "execute_result"
    }
   ],
   "source": [
    "logreg_jun_predictions = logReg.predict(Jun21HqSplit)\n",
    "logreg_jun_predictions"
   ]
  },
  {
   "cell_type": "code",
   "execution_count": 32,
   "id": "6421f33e",
   "metadata": {},
   "outputs": [],
   "source": [
    "pickle.dump(logReg, open('PrecipCalLogRegModel.pkl', 'wb'))"
   ]
  },
  {
   "cell_type": "markdown",
   "id": "242ac159",
   "metadata": {},
   "source": [
    "### Naive Bayes"
   ]
  },
  {
   "cell_type": "code",
   "execution_count": 33,
   "id": "e2331a13",
   "metadata": {},
   "outputs": [
    {
     "name": "stderr",
     "output_type": "stream",
     "text": [
      "C:\\Users\\Hunts\\AppData\\Local\\Programs\\Python\\Python39\\lib\\site-packages\\sklearn\\utils\\validation.py:1141: DataConversionWarning: A column-vector y was passed when a 1d array was expected. Please change the shape of y to (n_samples, ), for example using ravel().\n",
      "  y = column_or_1d(y, warn=True)\n"
     ]
    }
   ],
   "source": [
    "bayes = GaussianNB()\n",
    "bayesPredictions = bayes.fit(x_train, y_train).predict(x_test)"
   ]
  },
  {
   "cell_type": "code",
   "execution_count": 34,
   "id": "64e1ccb3",
   "metadata": {},
   "outputs": [
    {
     "name": "stdout",
     "output_type": "stream",
     "text": [
      "[[824 199]\n",
      " [554 429]]\n"
     ]
    }
   ],
   "source": [
    "cm = metrics.confusion_matrix(y_test,bayesPredictions,labels=bayes.classes_)\n",
    "print(cm)"
   ]
  },
  {
   "cell_type": "code",
   "execution_count": 35,
   "id": "2d329c94",
   "metadata": {},
   "outputs": [
    {
     "data": {
      "image/png": "[encoded data removed]",
      "text/plain": [
       "<Figure size 640x480 with 2 Axes>"
      ]
     },
     "metadata": {},
     "output_type": "display_data"
    }
   ],
   "source": [
    "display = metrics.ConfusionMatrixDisplay(confusion_matrix=cm, display_labels=bayes.classes_)\n",
    "display.plot()\n",
    "plt.show()"
   ]
  },
  {
   "cell_type": "code",
   "execution_count": 36,
   "id": "96ae691a",
   "metadata": {},
   "outputs": [
    {
     "name": "stdout",
     "output_type": "stream",
     "text": [
      "Accuracy: 0.625\n",
      "Precision: 0.683\n",
      "Recall: 0.436\n",
      "F1 Score: 0.533\n"
     ]
    }
   ],
   "source": [
    "print('Accuracy: %.3f' % accuracy_score(y_test, bayesPredictions))\n",
    "print('Precision: %.3f' % precision_score(y_test, bayesPredictions))\n",
    "print('Recall: %.3f' % recall_score(y_test, bayesPredictions))\n",
    "print('F1 Score: %.3f' % f1_score(y_test, bayesPredictions))"
   ]
  },
  {
   "cell_type": "code",
   "execution_count": 37,
   "id": "2be7d6ce",
   "metadata": {},
   "outputs": [
    {
     "data": {
      "text/plain": [
       "array([0, 1, 0, 0, 0, 0, 0, 0, 0, 0, 0, 0, 0, 0, 0, 1, 1, 1, 0, 0, 0, 0,\n",
       "       0, 0, 0, 0, 0, 0, 0, 0, 1], dtype=int64)"
      ]
     },
     "execution_count": 37,
     "metadata": {},
     "output_type": "execute_result"
    }
   ],
   "source": [
    "bayes_dec_predictions = bayes.predict(Dec21HqSplit)\n",
    "bayes_dec_predictions"
   ]
  },
  {
   "cell_type": "code",
   "execution_count": 38,
   "id": "5ccc3880",
   "metadata": {},
   "outputs": [
    {
     "data": {
      "text/plain": [
       "array([0, 0, 0, 0, 0, 0, 0, 0, 0, 0, 0, 0, 0, 0, 0, 0, 0, 0, 0, 0, 0, 0,\n",
       "       0, 0, 0, 0, 0, 0, 0, 0], dtype=int64)"
      ]
     },
     "execution_count": 38,
     "metadata": {},
     "output_type": "execute_result"
    }
   ],
   "source": [
    "bayes_dec_predictions = bayes.predict(Jun21HqSplit)\n",
    "bayes_dec_predictions"
   ]
  },
  {
   "cell_type": "code",
   "execution_count": 39,
   "id": "b362f16e",
   "metadata": {},
   "outputs": [],
   "source": [
    "pickle.dump(bayes, open('PrecipCalBayesModel.pkl', 'wb'))"
   ]
  },
  {
   "cell_type": "markdown",
   "id": "acc94ed0",
   "metadata": {},
   "source": [
    "### Support Vector Machine"
   ]
  },
  {
   "cell_type": "code",
   "execution_count": 40,
   "id": "3b02902d",
   "metadata": {},
   "outputs": [
    {
     "name": "stderr",
     "output_type": "stream",
     "text": [
      "C:\\Users\\Hunts\\AppData\\Local\\Programs\\Python\\Python39\\lib\\site-packages\\sklearn\\utils\\validation.py:1141: DataConversionWarning: A column-vector y was passed when a 1d array was expected. Please change the shape of y to (n_samples, ), for example using ravel().\n",
      "  y = column_or_1d(y, warn=True)\n"
     ]
    },
    {
     "data": {
      "text/html": [
       "<style>#sk-container-id-3 {color: black;background-color: white;}#sk-container-id-3 pre{padding: 0;}#sk-container-id-3 div.sk-toggleable {background-color: white;}#sk-container-id-3 label.sk-toggleable__label {cursor: pointer;display: block;width: 100%;margin-bottom: 0;padding: 0.3em;box-sizing: border-box;text-align: center;}#sk-container-id-3 label.sk-toggleable__label-arrow:before {content: \"▸\";float: left;margin-right: 0.25em;color: #696969;}#sk-container-id-3 label.sk-toggleable__label-arrow:hover:before {color: black;}#sk-container-id-3 div.sk-estimator:hover label.sk-toggleable__label-arrow:before {color: black;}#sk-container-id-3 div.sk-toggleable__content {max-height: 0;max-width: 0;overflow: hidden;text-align: left;background-color: #f0f8ff;}#sk-container-id-3 div.sk-toggleable__content pre {margin: 0.2em;color: black;border-radius: 0.25em;background-color: #f0f8ff;}#sk-container-id-3 input.sk-toggleable__control:checked~div.sk-toggleable__content {max-height: 200px;max-width: 100%;overflow: auto;}#sk-container-id-3 input.sk-toggleable__control:checked~label.sk-toggleable__label-arrow:before {content: \"▾\";}#sk-container-id-3 div.sk-estimator input.sk-toggleable__control:checked~label.sk-toggleable__label {background-color: #d4ebff;}#sk-container-id-3 div.sk-label input.sk-toggleable__control:checked~label.sk-toggleable__label {background-color: #d4ebff;}#sk-container-id-3 input.sk-hidden--visually {border: 0;clip: rect(1px 1px 1px 1px);clip: rect(1px, 1px, 1px, 1px);height: 1px;margin: -1px;overflow: hidden;padding: 0;position: absolute;width: 1px;}#sk-container-id-3 div.sk-estimator {font-family: monospace;background-color: #f0f8ff;border: 1px dotted black;border-radius: 0.25em;box-sizing: border-box;margin-bottom: 0.5em;}#sk-container-id-3 div.sk-estimator:hover {background-color: #d4ebff;}#sk-container-id-3 div.sk-parallel-item::after {content: \"\";width: 100%;border-bottom: 1px solid gray;flex-grow: 1;}#sk-container-id-3 div.sk-label:hover label.sk-toggleable__label {background-color: #d4ebff;}#sk-container-id-3 div.sk-serial::before {content: \"\";position: absolute;border-left: 1px solid gray;box-sizing: border-box;top: 0;bottom: 0;left: 50%;z-index: 0;}#sk-container-id-3 div.sk-serial {display: flex;flex-direction: column;align-items: center;background-color: white;padding-right: 0.2em;padding-left: 0.2em;position: relative;}#sk-container-id-3 div.sk-item {position: relative;z-index: 1;}#sk-container-id-3 div.sk-parallel {display: flex;align-items: stretch;justify-content: center;background-color: white;position: relative;}#sk-container-id-3 div.sk-item::before, #sk-container-id-3 div.sk-parallel-item::before {content: \"\";position: absolute;border-left: 1px solid gray;box-sizing: border-box;top: 0;bottom: 0;left: 50%;z-index: -1;}#sk-container-id-3 div.sk-parallel-item {display: flex;flex-direction: column;z-index: 1;position: relative;background-color: white;}#sk-container-id-3 div.sk-parallel-item:first-child::after {align-self: flex-end;width: 50%;}#sk-container-id-3 div.sk-parallel-item:last-child::after {align-self: flex-start;width: 50%;}#sk-container-id-3 div.sk-parallel-item:only-child::after {width: 0;}#sk-container-id-3 div.sk-dashed-wrapped {border: 1px dashed gray;margin: 0 0.4em 0.5em 0.4em;box-sizing: border-box;padding-bottom: 0.4em;background-color: white;}#sk-container-id-3 div.sk-label label {font-family: monospace;font-weight: bold;display: inline-block;line-height: 1.2em;}#sk-container-id-3 div.sk-label-container {text-align: center;}#sk-container-id-3 div.sk-container {/* jupyter's `normalize.less` sets `[hidden] { display: none; }` but bootstrap.min.css set `[hidden] { display: none !important; }` so we also need the `!important` here to be able to override the default hidden behavior on the sphinx rendered scikit-learn.org. See: https://github.com/scikit-learn/scikit-learn/issues/21755 */display: inline-block !important;position: relative;}#sk-container-id-3 div.sk-text-repr-fallback {display: none;}</style><div id=\"sk-container-id-3\" class=\"sk-top-container\"><div class=\"sk-text-repr-fallback\"><pre>SVC()</pre><b>In a Jupyter environment, please rerun this cell to show the HTML representation or trust the notebook. <br />On GitHub, the HTML representation is unable to render, please try loading this page with nbviewer.org.</b></div><div class=\"sk-container\" hidden><div class=\"sk-item\"><div class=\"sk-estimator sk-toggleable\"><input class=\"sk-toggleable__control sk-hidden--visually\" id=\"sk-estimator-id-3\" type=\"checkbox\" checked><label for=\"sk-estimator-id-3\" class=\"sk-toggleable__label sk-toggleable__label-arrow\">SVC</label><div class=\"sk-toggleable__content\"><pre>SVC()</pre></div></div></div></div></div>"
      ],
      "text/plain": [
       "SVC()"
      ]
     },
     "execution_count": 40,
     "metadata": {},
     "output_type": "execute_result"
    }
   ],
   "source": [
    "svmachine = svm.SVC()\n",
    "svmachine.fit(x_train, y_train)"
   ]
  },
  {
   "cell_type": "code",
   "execution_count": 41,
   "id": "2f53658d",
   "metadata": {},
   "outputs": [
    {
     "name": "stdout",
     "output_type": "stream",
     "text": [
      "[[881 142]\n",
      " [197 786]]\n"
     ]
    }
   ],
   "source": [
    "svmachinePredictions = svmachine.predict(x_test)\n",
    "cm = metrics.confusion_matrix(y_test,svmachinePredictions,labels=svmachine.classes_)\n",
    "print(cm)"
   ]
  },
  {
   "cell_type": "code",
   "execution_count": 42,
   "id": "b0a1c24f",
   "metadata": {},
   "outputs": [
    {
     "data": {
      "image/png": "[encoded data removed]",
      "text/plain": [
       "<Figure size 640x480 with 2 Axes>"
      ]
     },
     "metadata": {},
     "output_type": "display_data"
    }
   ],
   "source": [
    "display = metrics.ConfusionMatrixDisplay(confusion_matrix=cm, display_labels=svmachine.classes_)\n",
    "display.plot()\n",
    "plt.show()"
   ]
  },
  {
   "cell_type": "code",
   "execution_count": 43,
   "id": "2cfa7d88",
   "metadata": {},
   "outputs": [
    {
     "name": "stdout",
     "output_type": "stream",
     "text": [
      "Accuracy: 0.831\n",
      "Precision: 0.847\n",
      "Recall: 0.800\n",
      "F1 Score: 0.823\n"
     ]
    }
   ],
   "source": [
    "print('Accuracy: %.3f' % accuracy_score(y_test, svmachinePredictions))\n",
    "print('Precision: %.3f' % precision_score(y_test, svmachinePredictions))\n",
    "print('Recall: %.3f' % recall_score(y_test, svmachinePredictions))\n",
    "print('F1 Score: %.3f' % f1_score(y_test, svmachinePredictions))"
   ]
  },
  {
   "cell_type": "code",
   "execution_count": 44,
   "id": "e4846d87",
   "metadata": {},
   "outputs": [
    {
     "data": {
      "text/plain": [
       "array([0, 1, 1, 0, 0, 0, 0, 0, 0, 0, 0, 0, 0, 0, 0, 0, 0, 0, 0, 0, 1, 0,\n",
       "       0, 0, 0, 0, 0, 0, 0, 0, 0], dtype=int64)"
      ]
     },
     "execution_count": 44,
     "metadata": {},
     "output_type": "execute_result"
    }
   ],
   "source": [
    "svmachine_dec_predictions = svmachine.predict(Dec21HqSplit)\n",
    "svmachine_dec_predictions"
   ]
  },
  {
   "cell_type": "code",
   "execution_count": 45,
   "id": "99b21bb6",
   "metadata": {},
   "outputs": [
    {
     "data": {
      "text/plain": [
       "array([0, 0, 0, 1, 0, 0, 0, 0, 0, 0, 0, 0, 0, 0, 0, 0, 0, 0, 0, 0, 0, 0,\n",
       "       0, 0, 0, 0, 0, 0, 0, 0], dtype=int64)"
      ]
     },
     "execution_count": 45,
     "metadata": {},
     "output_type": "execute_result"
    }
   ],
   "source": [
    "svmachine_dec_predictions = svmachine.predict(Jun21HqSplit)\n",
    "svmachine_dec_predictions"
   ]
  },
  {
   "cell_type": "code",
   "execution_count": 46,
   "id": "c736946c",
   "metadata": {},
   "outputs": [],
   "source": [
    "pickle.dump(svmachine, open('PrecipCalSvmachineModel.pkl', 'wb'))"
   ]
  }
 ],
 "metadata": {
  "kernelspec": {
   "display_name": "Python 3 (ipykernel)",
   "language": "python",
   "name": "python3"
  },
  "language_info": {
   "codemirror_mode": {
    "name": "ipython",
    "version": 3
   },
   "file_extension": ".py",
   "mimetype": "text/x-python",
   "name": "python",
   "nbconvert_exporter": "python",
   "pygments_lexer": "ipython3",
   "version": "3.9.2"
  }
 },
 "nbformat": 4,
 "nbformat_minor": 5
}
