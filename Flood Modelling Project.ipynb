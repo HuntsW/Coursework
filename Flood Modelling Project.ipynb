{
 "cells": [
  {
   "cell_type": "code",
   "execution_count": 1,
   "id": "443ef435",
   "metadata": {},
   "outputs": [],
   "source": [
    "import matplotlib.pyplot as plt\n",
    "import matplotlib.cm as cm\n",
    "import numpy as np\n",
    "import pandas as pd\n",
    "import xarray as xr"
   ]
  },
  {
   "cell_type": "markdown",
   "id": "4a53ab47",
   "metadata": {},
   "source": [
    "## Preprocessing"
   ]
  },
  {
   "cell_type": "code",
   "execution_count": 2,
   "id": "c6f6dee9",
   "metadata": {},
   "outputs": [
    {
     "data": {
      "text/html": [
       "<div>\n",
       "<style scoped>\n",
       "    .dataframe tbody tr th:only-of-type {\n",
       "        vertical-align: middle;\n",
       "    }\n",
       "\n",
       "    .dataframe tbody tr th {\n",
       "        vertical-align: top;\n",
       "    }\n",
       "\n",
       "    .dataframe thead th {\n",
       "        text-align: right;\n",
       "    }\n",
       "</style>\n",
       "<table border=\"1\" class=\"dataframe\">\n",
       "  <thead>\n",
       "    <tr style=\"text-align: right;\">\n",
       "      <th></th>\n",
       "      <th>time</th>\n",
       "      <th>HqPrecips</th>\n",
       "    </tr>\n",
       "  </thead>\n",
       "  <tbody>\n",
       "    <tr>\n",
       "      <th>0</th>\n",
       "      <td>2001-01-01 00:00:00</td>\n",
       "      <td>[1.744999885559082, 1.899999976158142, 1.55999...</td>\n",
       "    </tr>\n",
       "    <tr>\n",
       "      <th>1</th>\n",
       "      <td>2001-01-02 00:00:00</td>\n",
       "      <td>[6.5149993896484375, 3.3349997997283936, 0.779...</td>\n",
       "    </tr>\n",
       "    <tr>\n",
       "      <th>2</th>\n",
       "      <td>2001-01-03 00:00:00</td>\n",
       "      <td>[1.619999885559082, 1.125, 5.389999866485596, ...</td>\n",
       "    </tr>\n",
       "    <tr>\n",
       "      <th>3</th>\n",
       "      <td>2001-01-04 00:00:00</td>\n",
       "      <td>[3.509999990463257, 2.6349997520446777, 2.3450...</td>\n",
       "    </tr>\n",
       "    <tr>\n",
       "      <th>4</th>\n",
       "      <td>2001-01-05 00:00:00</td>\n",
       "      <td>[0.6399999856948853, 0.6349999904632568, 0.140...</td>\n",
       "    </tr>\n",
       "  </tbody>\n",
       "</table>\n",
       "</div>"
      ],
      "text/plain": [
       "                  time                                          HqPrecips\n",
       "0  2001-01-01 00:00:00  [1.744999885559082, 1.899999976158142, 1.55999...\n",
       "1  2001-01-02 00:00:00  [6.5149993896484375, 3.3349997997283936, 0.779...\n",
       "2  2001-01-03 00:00:00  [1.619999885559082, 1.125, 5.389999866485596, ...\n",
       "3  2001-01-04 00:00:00  [3.509999990463257, 2.6349997520446777, 2.3450...\n",
       "4  2001-01-05 00:00:00  [0.6399999856948853, 0.6349999904632568, 0.140..."
      ]
     },
     "execution_count": 2,
     "metadata": {},
     "output_type": "execute_result"
    }
   ],
   "source": [
    "hqprecip = pd.read_csv('HQprecipitation Data.csv')\n",
    "hqprecip.head()"
   ]
  },
  {
   "cell_type": "code",
   "execution_count": 3,
   "id": "50993e97",
   "metadata": {},
   "outputs": [
    {
     "data": {
      "text/html": [
       "<div>\n",
       "<style scoped>\n",
       "    .dataframe tbody tr th:only-of-type {\n",
       "        vertical-align: middle;\n",
       "    }\n",
       "\n",
       "    .dataframe tbody tr th {\n",
       "        vertical-align: top;\n",
       "    }\n",
       "\n",
       "    .dataframe thead th {\n",
       "        text-align: right;\n",
       "    }\n",
       "</style>\n",
       "<table border=\"1\" class=\"dataframe\">\n",
       "  <thead>\n",
       "    <tr style=\"text-align: right;\">\n",
       "      <th></th>\n",
       "      <th>time</th>\n",
       "      <th>HqPrecips</th>\n",
       "    </tr>\n",
       "  </thead>\n",
       "  <tbody>\n",
       "    <tr>\n",
       "      <th>0</th>\n",
       "      <td>2001-01-01</td>\n",
       "      <td>[1.744999885559082, 1.899999976158142, 1.55999...</td>\n",
       "    </tr>\n",
       "    <tr>\n",
       "      <th>1</th>\n",
       "      <td>2001-01-02</td>\n",
       "      <td>[6.5149993896484375, 3.3349997997283936, 0.779...</td>\n",
       "    </tr>\n",
       "    <tr>\n",
       "      <th>2</th>\n",
       "      <td>2001-01-03</td>\n",
       "      <td>[1.619999885559082, 1.125, 5.389999866485596, ...</td>\n",
       "    </tr>\n",
       "    <tr>\n",
       "      <th>3</th>\n",
       "      <td>2001-01-04</td>\n",
       "      <td>[3.509999990463257, 2.6349997520446777, 2.3450...</td>\n",
       "    </tr>\n",
       "    <tr>\n",
       "      <th>4</th>\n",
       "      <td>2001-01-05</td>\n",
       "      <td>[0.6399999856948853, 0.6349999904632568, 0.140...</td>\n",
       "    </tr>\n",
       "  </tbody>\n",
       "</table>\n",
       "</div>"
      ],
      "text/plain": [
       "         time                                          HqPrecips\n",
       "0  2001-01-01  [1.744999885559082, 1.899999976158142, 1.55999...\n",
       "1  2001-01-02  [6.5149993896484375, 3.3349997997283936, 0.779...\n",
       "2  2001-01-03  [1.619999885559082, 1.125, 5.389999866485596, ...\n",
       "3  2001-01-04  [3.509999990463257, 2.6349997520446777, 2.3450...\n",
       "4  2001-01-05  [0.6399999856948853, 0.6349999904632568, 0.140..."
      ]
     },
     "execution_count": 3,
     "metadata": {},
     "output_type": "execute_result"
    }
   ],
   "source": [
    "for i in range(3652):\n",
    "    hqprecip['time'][i] = hqprecip['time'][i][:10]\n",
    "hqprecip.head()"
   ]
  },
  {
   "cell_type": "code",
   "execution_count": 4,
   "id": "365081ba",
   "metadata": {},
   "outputs": [
    {
     "data": {
      "text/html": [
       "<div>\n",
       "<style scoped>\n",
       "    .dataframe tbody tr th:only-of-type {\n",
       "        vertical-align: middle;\n",
       "    }\n",
       "\n",
       "    .dataframe tbody tr th {\n",
       "        vertical-align: top;\n",
       "    }\n",
       "\n",
       "    .dataframe thead th {\n",
       "        text-align: right;\n",
       "    }\n",
       "</style>\n",
       "<table border=\"1\" class=\"dataframe\">\n",
       "  <thead>\n",
       "    <tr style=\"text-align: right;\">\n",
       "      <th></th>\n",
       "      <th>time</th>\n",
       "      <th>HqPrecips</th>\n",
       "    </tr>\n",
       "  </thead>\n",
       "  <tbody>\n",
       "    <tr>\n",
       "      <th>0</th>\n",
       "      <td>2001-01-01</td>\n",
       "      <td>[1.744999885559082, 1.899999976158142, 1.55999...</td>\n",
       "    </tr>\n",
       "    <tr>\n",
       "      <th>1</th>\n",
       "      <td>2001-01-02</td>\n",
       "      <td>[6.5149993896484375, 3.3349997997283936, 0.779...</td>\n",
       "    </tr>\n",
       "    <tr>\n",
       "      <th>2</th>\n",
       "      <td>2001-01-03</td>\n",
       "      <td>[1.619999885559082, 1.125, 5.389999866485596, ...</td>\n",
       "    </tr>\n",
       "    <tr>\n",
       "      <th>3</th>\n",
       "      <td>2001-01-04</td>\n",
       "      <td>[3.509999990463257, 2.6349997520446777, 2.3450...</td>\n",
       "    </tr>\n",
       "    <tr>\n",
       "      <th>4</th>\n",
       "      <td>2001-01-05</td>\n",
       "      <td>[0.6399999856948853, 0.6349999904632568, 0.140...</td>\n",
       "    </tr>\n",
       "  </tbody>\n",
       "</table>\n",
       "</div>"
      ],
      "text/plain": [
       "        time                                          HqPrecips\n",
       "0 2001-01-01  [1.744999885559082, 1.899999976158142, 1.55999...\n",
       "1 2001-01-02  [6.5149993896484375, 3.3349997997283936, 0.779...\n",
       "2 2001-01-03  [1.619999885559082, 1.125, 5.389999866485596, ...\n",
       "3 2001-01-04  [3.509999990463257, 2.6349997520446777, 2.3450...\n",
       "4 2001-01-05  [0.6399999856948853, 0.6349999904632568, 0.140..."
      ]
     },
     "execution_count": 4,
     "metadata": {},
     "output_type": "execute_result"
    }
   ],
   "source": [
    "hqprecip['time'] = pd.to_datetime(hqprecip['time'], format='%Y-%m-%d')\n",
    "hqprecip.head()"
   ]
  },
  {
   "cell_type": "code",
   "execution_count": 5,
   "id": "b5fd009a",
   "metadata": {},
   "outputs": [
    {
     "data": {
      "text/html": [
       "<div>\n",
       "<style scoped>\n",
       "    .dataframe tbody tr th:only-of-type {\n",
       "        vertical-align: middle;\n",
       "    }\n",
       "\n",
       "    .dataframe tbody tr th {\n",
       "        vertical-align: top;\n",
       "    }\n",
       "\n",
       "    .dataframe thead th {\n",
       "        text-align: right;\n",
       "    }\n",
       "</style>\n",
       "<table border=\"1\" class=\"dataframe\">\n",
       "  <thead>\n",
       "    <tr style=\"text-align: right;\">\n",
       "      <th></th>\n",
       "      <th>Date</th>\n",
       "      <th>Bernam River</th>\n",
       "      <th>Selangor River</th>\n",
       "      <th>Buloh River</th>\n",
       "      <th>Klang River</th>\n",
       "      <th>Langat River</th>\n",
       "      <th>Sepang River</th>\n",
       "    </tr>\n",
       "  </thead>\n",
       "  <tbody>\n",
       "    <tr>\n",
       "      <th>0</th>\n",
       "      <td>2001-01-25</td>\n",
       "      <td>0</td>\n",
       "      <td>0</td>\n",
       "      <td>0</td>\n",
       "      <td>1</td>\n",
       "      <td>0</td>\n",
       "      <td>0</td>\n",
       "    </tr>\n",
       "    <tr>\n",
       "      <th>1</th>\n",
       "      <td>2001-02-19</td>\n",
       "      <td>1</td>\n",
       "      <td>0</td>\n",
       "      <td>0</td>\n",
       "      <td>0</td>\n",
       "      <td>0</td>\n",
       "      <td>0</td>\n",
       "    </tr>\n",
       "    <tr>\n",
       "      <th>2</th>\n",
       "      <td>2001-04-03</td>\n",
       "      <td>0</td>\n",
       "      <td>0</td>\n",
       "      <td>0</td>\n",
       "      <td>1</td>\n",
       "      <td>1</td>\n",
       "      <td>0</td>\n",
       "    </tr>\n",
       "    <tr>\n",
       "      <th>3</th>\n",
       "      <td>2001-04-09</td>\n",
       "      <td>0</td>\n",
       "      <td>0</td>\n",
       "      <td>0</td>\n",
       "      <td>1</td>\n",
       "      <td>1</td>\n",
       "      <td>0</td>\n",
       "    </tr>\n",
       "    <tr>\n",
       "      <th>4</th>\n",
       "      <td>2001-04-13</td>\n",
       "      <td>0</td>\n",
       "      <td>0</td>\n",
       "      <td>0</td>\n",
       "      <td>1</td>\n",
       "      <td>0</td>\n",
       "      <td>0</td>\n",
       "    </tr>\n",
       "  </tbody>\n",
       "</table>\n",
       "</div>"
      ],
      "text/plain": [
       "        Date  Bernam River  Selangor River  Buloh River  Klang River  \\\n",
       "0 2001-01-25             0               0            0            1   \n",
       "1 2001-02-19             1               0            0            0   \n",
       "2 2001-04-03             0               0            0            1   \n",
       "3 2001-04-09             0               0            0            1   \n",
       "4 2001-04-13             0               0            0            1   \n",
       "\n",
       "   Langat River  Sepang River  \n",
       "0             0             0  \n",
       "1             0             0  \n",
       "2             1             0  \n",
       "3             1             0  \n",
       "4             0             0  "
      ]
     },
     "execution_count": 5,
     "metadata": {},
     "output_type": "execute_result"
    }
   ],
   "source": [
    "floods = pd.read_excel('Flood Events Final.xlsx')\n",
    "floods = floods.drop(columns=['Unnamed: 0'])\n",
    "floods.head()"
   ]
  },
  {
   "cell_type": "code",
   "execution_count": 6,
   "id": "8e944e28",
   "metadata": {},
   "outputs": [
    {
     "data": {
      "text/plain": [
       "(3652, 7)"
      ]
     },
     "execution_count": 6,
     "metadata": {},
     "output_type": "execute_result"
    }
   ],
   "source": [
    "from datetime import date, timedelta\n",
    "\n",
    "def daterange(start_date, end_date):\n",
    "    for n in range(int((end_date - start_date).days)):\n",
    "        yield start_date + timedelta(n)\n",
    "\n",
    "start_date = date(2001, 1, 1)\n",
    "end_date = date(2011, 1, 1)\n",
    "dates = []\n",
    "for single_date in daterange(start_date, end_date):\n",
    "    dates.append(single_date.strftime(\"%Y-%m-%d\"))\n",
    "\n",
    "nonFloods = pd.DataFrame({\n",
    "    'Date':dates,\n",
    "    'Bernam River':0,\n",
    "    'Selangor River':0,\n",
    "    'Buloh River':0,\n",
    "    'Klang River':0,\n",
    "    'Langat River':0,\n",
    "    'Sepang River':0,\n",
    "})\n",
    "\n",
    "nonFloods['Date'] = pd.to_datetime(nonFloods['Date'], format='%Y-%m-%d')\n",
    "nonFloods.shape"
   ]
  },
  {
   "cell_type": "code",
   "execution_count": 7,
   "id": "c88d7fd2",
   "metadata": {},
   "outputs": [
    {
     "name": "stderr",
     "output_type": "stream",
     "text": [
      "C:\\Users\\Hunts\\AppData\\Local\\Temp\\ipykernel_19580\\3410022939.py:1: FutureWarning: The frame.append method is deprecated and will be removed from pandas in a future version. Use pandas.concat instead.\n",
      "  floods = floods.append(nonFloods, ignore_index=True)\n"
     ]
    }
   ],
   "source": [
    "floods = floods.append(nonFloods, ignore_index=True)\n",
    "floods = floods.groupby(['Date']).sum().reset_index()"
   ]
  },
  {
   "cell_type": "code",
   "execution_count": 8,
   "id": "e0527a3c",
   "metadata": {},
   "outputs": [],
   "source": [
    "result = []\n",
    "for i in range(3652):\n",
    "    if 1 in list(floods.iloc[i][1:]):\n",
    "        result.append(1)\n",
    "    else:\n",
    "        result.append(0)"
   ]
  },
  {
   "cell_type": "code",
   "execution_count": 9,
   "id": "b1ca00a9",
   "metadata": {},
   "outputs": [],
   "source": [
    "simpleFloods = pd.DataFrame({\n",
    "    'Date':floods['Date'],\n",
    "    'Flood':result\n",
    "})"
   ]
  },
  {
   "cell_type": "code",
   "execution_count": 10,
   "id": "b6c27e0e",
   "metadata": {},
   "outputs": [],
   "source": [
    "combined = hqprecip.merge(simpleFloods, left_on='time', right_on='Date')\n",
    "combined = combined.drop(columns=['time','Date'])\n",
    "combined.head()\n",
    "combined.to_excel('HqFloods.xlsx')"
   ]
  },
  {
   "cell_type": "code",
   "execution_count": 11,
   "id": "0979709e",
   "metadata": {},
   "outputs": [],
   "source": [
    "hqprecip = hqprecip.drop(columns=['time'])"
   ]
  },
  {
   "cell_type": "code",
   "execution_count": 12,
   "id": "a376c267",
   "metadata": {},
   "outputs": [],
   "source": [
    "simpleFloods = simpleFloods.drop(columns=['Date'])"
   ]
  },
  {
   "cell_type": "code",
   "execution_count": 13,
   "id": "659ff9f9",
   "metadata": {},
   "outputs": [],
   "source": [
    "column_list = []\n",
    "for i in range(225):\n",
    "    colName = 'HqPrecip_'+str(i)\n",
    "    column_list.append(colName)"
   ]
  },
  {
   "cell_type": "code",
   "execution_count": 14,
   "id": "08b92674",
   "metadata": {},
   "outputs": [],
   "source": [
    "column = []\n",
    "for i in range(3652):\n",
    "    values = (hqprecip['HqPrecips'][i])[1:-1].split(', ')\n",
    "    for j in range(225):\n",
    "        values[j] = float(values[j])\n",
    "    column.append(values)"
   ]
  },
  {
   "cell_type": "code",
   "execution_count": 16,
   "id": "2d092730",
   "metadata": {},
   "outputs": [],
   "source": [
    "HqSplit = pd.DataFrame(np.column_stack(list(zip(*column))), columns=column_list)"
   ]
  },
  {
   "cell_type": "markdown",
   "id": "172ccc7f",
   "metadata": {},
   "source": [
    "## Simplified Model\n",
    "\n",
    "This model only predicts whether or not a flood will occur within the entire state of Selangor. A more detailed model will be demonstrated later on."
   ]
  },
  {
   "cell_type": "code",
   "execution_count": 17,
   "id": "cb63f17e",
   "metadata": {},
   "outputs": [],
   "source": [
    "import imblearn\n",
    "\n",
    "oversample = imblearn.over_sampling.SMOTE()\n",
    "HqSplit, simpleFloods = oversample.fit_resample(HqSplit, simpleFloods)"
   ]
  },
  {
   "cell_type": "code",
   "execution_count": 18,
   "id": "e896f091",
   "metadata": {},
   "outputs": [],
   "source": [
    "from sklearn.model_selection import train_test_split\n",
    "\n",
    "x_train, x_test, y_train, y_test = train_test_split(HqSplit, simpleFloods, test_size=0.3, random_state=42)"
   ]
  },
  {
   "cell_type": "code",
   "execution_count": 19,
   "id": "28919f2d",
   "metadata": {},
   "outputs": [
    {
     "data": {
      "text/html": [
       "<style>#sk-container-id-1 {color: black;background-color: white;}#sk-container-id-1 pre{padding: 0;}#sk-container-id-1 div.sk-toggleable {background-color: white;}#sk-container-id-1 label.sk-toggleable__label {cursor: pointer;display: block;width: 100%;margin-bottom: 0;padding: 0.3em;box-sizing: border-box;text-align: center;}#sk-container-id-1 label.sk-toggleable__label-arrow:before {content: \"▸\";float: left;margin-right: 0.25em;color: #696969;}#sk-container-id-1 label.sk-toggleable__label-arrow:hover:before {color: black;}#sk-container-id-1 div.sk-estimator:hover label.sk-toggleable__label-arrow:before {color: black;}#sk-container-id-1 div.sk-toggleable__content {max-height: 0;max-width: 0;overflow: hidden;text-align: left;background-color: #f0f8ff;}#sk-container-id-1 div.sk-toggleable__content pre {margin: 0.2em;color: black;border-radius: 0.25em;background-color: #f0f8ff;}#sk-container-id-1 input.sk-toggleable__control:checked~div.sk-toggleable__content {max-height: 200px;max-width: 100%;overflow: auto;}#sk-container-id-1 input.sk-toggleable__control:checked~label.sk-toggleable__label-arrow:before {content: \"▾\";}#sk-container-id-1 div.sk-estimator input.sk-toggleable__control:checked~label.sk-toggleable__label {background-color: #d4ebff;}#sk-container-id-1 div.sk-label input.sk-toggleable__control:checked~label.sk-toggleable__label {background-color: #d4ebff;}#sk-container-id-1 input.sk-hidden--visually {border: 0;clip: rect(1px 1px 1px 1px);clip: rect(1px, 1px, 1px, 1px);height: 1px;margin: -1px;overflow: hidden;padding: 0;position: absolute;width: 1px;}#sk-container-id-1 div.sk-estimator {font-family: monospace;background-color: #f0f8ff;border: 1px dotted black;border-radius: 0.25em;box-sizing: border-box;margin-bottom: 0.5em;}#sk-container-id-1 div.sk-estimator:hover {background-color: #d4ebff;}#sk-container-id-1 div.sk-parallel-item::after {content: \"\";width: 100%;border-bottom: 1px solid gray;flex-grow: 1;}#sk-container-id-1 div.sk-label:hover label.sk-toggleable__label {background-color: #d4ebff;}#sk-container-id-1 div.sk-serial::before {content: \"\";position: absolute;border-left: 1px solid gray;box-sizing: border-box;top: 0;bottom: 0;left: 50%;z-index: 0;}#sk-container-id-1 div.sk-serial {display: flex;flex-direction: column;align-items: center;background-color: white;padding-right: 0.2em;padding-left: 0.2em;position: relative;}#sk-container-id-1 div.sk-item {position: relative;z-index: 1;}#sk-container-id-1 div.sk-parallel {display: flex;align-items: stretch;justify-content: center;background-color: white;position: relative;}#sk-container-id-1 div.sk-item::before, #sk-container-id-1 div.sk-parallel-item::before {content: \"\";position: absolute;border-left: 1px solid gray;box-sizing: border-box;top: 0;bottom: 0;left: 50%;z-index: -1;}#sk-container-id-1 div.sk-parallel-item {display: flex;flex-direction: column;z-index: 1;position: relative;background-color: white;}#sk-container-id-1 div.sk-parallel-item:first-child::after {align-self: flex-end;width: 50%;}#sk-container-id-1 div.sk-parallel-item:last-child::after {align-self: flex-start;width: 50%;}#sk-container-id-1 div.sk-parallel-item:only-child::after {width: 0;}#sk-container-id-1 div.sk-dashed-wrapped {border: 1px dashed gray;margin: 0 0.4em 0.5em 0.4em;box-sizing: border-box;padding-bottom: 0.4em;background-color: white;}#sk-container-id-1 div.sk-label label {font-family: monospace;font-weight: bold;display: inline-block;line-height: 1.2em;}#sk-container-id-1 div.sk-label-container {text-align: center;}#sk-container-id-1 div.sk-container {/* jupyter's `normalize.less` sets `[hidden] { display: none; }` but bootstrap.min.css set `[hidden] { display: none !important; }` so we also need the `!important` here to be able to override the default hidden behavior on the sphinx rendered scikit-learn.org. See: https://github.com/scikit-learn/scikit-learn/issues/21755 */display: inline-block !important;position: relative;}#sk-container-id-1 div.sk-text-repr-fallback {display: none;}</style><div id=\"sk-container-id-1\" class=\"sk-top-container\"><div class=\"sk-text-repr-fallback\"><pre>DecisionTreeClassifier(class_weight=&#x27;balanced&#x27;, random_state=42)</pre><b>In a Jupyter environment, please rerun this cell to show the HTML representation or trust the notebook. <br />On GitHub, the HTML representation is unable to render, please try loading this page with nbviewer.org.</b></div><div class=\"sk-container\" hidden><div class=\"sk-item\"><div class=\"sk-estimator sk-toggleable\"><input class=\"sk-toggleable__control sk-hidden--visually\" id=\"sk-estimator-id-1\" type=\"checkbox\" checked><label for=\"sk-estimator-id-1\" class=\"sk-toggleable__label sk-toggleable__label-arrow\">DecisionTreeClassifier</label><div class=\"sk-toggleable__content\"><pre>DecisionTreeClassifier(class_weight=&#x27;balanced&#x27;, random_state=42)</pre></div></div></div></div></div>"
      ],
      "text/plain": [
       "DecisionTreeClassifier(class_weight='balanced', random_state=42)"
      ]
     },
     "execution_count": 19,
     "metadata": {},
     "output_type": "execute_result"
    }
   ],
   "source": [
    "from sklearn.tree import DecisionTreeClassifier\n",
    "\n",
    "dt = DecisionTreeClassifier(random_state=42, class_weight='balanced')\n",
    "dt.fit(x_train, y_train)"
   ]
  },
  {
   "cell_type": "code",
   "execution_count": 20,
   "id": "31f02a9c",
   "metadata": {},
   "outputs": [],
   "source": [
    "from sklearn import metrics\n",
    "\n",
    "dt_predictions = dt.predict(x_test)\n",
    "cm = metrics.confusion_matrix(y_test,dt_predictions,labels=dt.classes_)"
   ]
  },
  {
   "cell_type": "code",
   "execution_count": 21,
   "id": "2a9341f5",
   "metadata": {},
   "outputs": [
    {
     "data": {
      "image/png": "[encoded data removed]",
      "text/plain": [
       "<Figure size 640x480 with 2 Axes>"
      ]
     },
     "metadata": {},
     "output_type": "display_data"
    }
   ],
   "source": [
    "display = metrics.ConfusionMatrixDisplay(confusion_matrix=cm, display_labels=dt.classes_)\n",
    "display.plot()\n",
    "plt.show()"
   ]
  },
  {
   "cell_type": "markdown",
   "id": "b4ff897b",
   "metadata": {},
   "source": [
    "## Full Model"
   ]
  },
  {
   "cell_type": "code",
   "execution_count": 22,
   "id": "aeb808ce",
   "metadata": {},
   "outputs": [
    {
     "data": {
      "text/html": [
       "<div>\n",
       "<style scoped>\n",
       "    .dataframe tbody tr th:only-of-type {\n",
       "        vertical-align: middle;\n",
       "    }\n",
       "\n",
       "    .dataframe tbody tr th {\n",
       "        vertical-align: top;\n",
       "    }\n",
       "\n",
       "    .dataframe thead th {\n",
       "        text-align: right;\n",
       "    }\n",
       "</style>\n",
       "<table border=\"1\" class=\"dataframe\">\n",
       "  <thead>\n",
       "    <tr style=\"text-align: right;\">\n",
       "      <th></th>\n",
       "      <th>Date</th>\n",
       "      <th>Bernam River</th>\n",
       "      <th>Selangor River</th>\n",
       "      <th>Buloh River</th>\n",
       "      <th>Klang River</th>\n",
       "      <th>Langat River</th>\n",
       "      <th>Sepang River</th>\n",
       "    </tr>\n",
       "  </thead>\n",
       "  <tbody>\n",
       "    <tr>\n",
       "      <th>0</th>\n",
       "      <td>2001-01-25</td>\n",
       "      <td>0</td>\n",
       "      <td>0</td>\n",
       "      <td>0</td>\n",
       "      <td>1</td>\n",
       "      <td>0</td>\n",
       "      <td>0</td>\n",
       "    </tr>\n",
       "    <tr>\n",
       "      <th>1</th>\n",
       "      <td>2001-02-19</td>\n",
       "      <td>1</td>\n",
       "      <td>0</td>\n",
       "      <td>0</td>\n",
       "      <td>0</td>\n",
       "      <td>0</td>\n",
       "      <td>0</td>\n",
       "    </tr>\n",
       "    <tr>\n",
       "      <th>2</th>\n",
       "      <td>2001-04-03</td>\n",
       "      <td>0</td>\n",
       "      <td>0</td>\n",
       "      <td>0</td>\n",
       "      <td>1</td>\n",
       "      <td>1</td>\n",
       "      <td>0</td>\n",
       "    </tr>\n",
       "    <tr>\n",
       "      <th>3</th>\n",
       "      <td>2001-04-09</td>\n",
       "      <td>0</td>\n",
       "      <td>0</td>\n",
       "      <td>0</td>\n",
       "      <td>1</td>\n",
       "      <td>1</td>\n",
       "      <td>0</td>\n",
       "    </tr>\n",
       "    <tr>\n",
       "      <th>4</th>\n",
       "      <td>2001-04-13</td>\n",
       "      <td>0</td>\n",
       "      <td>0</td>\n",
       "      <td>0</td>\n",
       "      <td>1</td>\n",
       "      <td>0</td>\n",
       "      <td>0</td>\n",
       "    </tr>\n",
       "  </tbody>\n",
       "</table>\n",
       "</div>"
      ],
      "text/plain": [
       "        Date  Bernam River  Selangor River  Buloh River  Klang River  \\\n",
       "0 2001-01-25             0               0            0            1   \n",
       "1 2001-02-19             1               0            0            0   \n",
       "2 2001-04-03             0               0            0            1   \n",
       "3 2001-04-09             0               0            0            1   \n",
       "4 2001-04-13             0               0            0            1   \n",
       "\n",
       "   Langat River  Sepang River  \n",
       "0             0             0  \n",
       "1             0             0  \n",
       "2             1             0  \n",
       "3             1             0  \n",
       "4             0             0  "
      ]
     },
     "execution_count": 22,
     "metadata": {},
     "output_type": "execute_result"
    }
   ],
   "source": [
    "floods = pd.read_excel('Flood Events Final.xlsx')\n",
    "floods = floods.drop(columns=['Unnamed: 0'])\n",
    "floods.head()"
   ]
  },
  {
   "cell_type": "code",
   "execution_count": 23,
   "id": "c787f5eb",
   "metadata": {},
   "outputs": [
    {
     "data": {
      "text/plain": [
       "(3652, 7)"
      ]
     },
     "execution_count": 23,
     "metadata": {},
     "output_type": "execute_result"
    }
   ],
   "source": [
    "from datetime import date, timedelta\n",
    "\n",
    "def daterange(start_date, end_date):\n",
    "    for n in range(int((end_date - start_date).days)):\n",
    "        yield start_date + timedelta(n)\n",
    "\n",
    "start_date = date(2001, 1, 1)\n",
    "end_date = date(2011, 1, 1)\n",
    "dates = []\n",
    "for single_date in daterange(start_date, end_date):\n",
    "    dates.append(single_date.strftime(\"%Y-%m-%d\"))\n",
    "\n",
    "nonFloods = pd.DataFrame({\n",
    "    'Date':dates,\n",
    "    'Bernam River':0,\n",
    "    'Selangor River':0,\n",
    "    'Buloh River':0,\n",
    "    'Klang River':0,\n",
    "    'Langat River':0,\n",
    "    'Sepang River':0,\n",
    "})\n",
    "\n",
    "nonFloods['Date'] = pd.to_datetime(nonFloods['Date'], format='%Y-%m-%d')\n",
    "nonFloods.shape"
   ]
  },
  {
   "cell_type": "code",
   "execution_count": 24,
   "id": "e093f50c",
   "metadata": {},
   "outputs": [
    {
     "name": "stderr",
     "output_type": "stream",
     "text": [
      "C:\\Users\\Hunts\\AppData\\Local\\Temp\\ipykernel_19580\\3410022939.py:1: FutureWarning: The frame.append method is deprecated and will be removed from pandas in a future version. Use pandas.concat instead.\n",
      "  floods = floods.append(nonFloods, ignore_index=True)\n"
     ]
    }
   ],
   "source": [
    "floods = floods.append(nonFloods, ignore_index=True)\n",
    "floods = floods.groupby(['Date']).sum().reset_index()"
   ]
  },
  {
   "cell_type": "code",
   "execution_count": 25,
   "id": "8de90393",
   "metadata": {},
   "outputs": [],
   "source": [
    "floodsFixed = []\n",
    "for i in range(3652):\n",
    "    floodsFixed.append(np.array(floods.iloc[i]))"
   ]
  },
  {
   "cell_type": "code",
   "execution_count": 27,
   "id": "d49e7755",
   "metadata": {},
   "outputs": [
    {
     "data": {
      "text/html": [
       "<div>\n",
       "<style scoped>\n",
       "    .dataframe tbody tr th:only-of-type {\n",
       "        vertical-align: middle;\n",
       "    }\n",
       "\n",
       "    .dataframe tbody tr th {\n",
       "        vertical-align: top;\n",
       "    }\n",
       "\n",
       "    .dataframe thead th {\n",
       "        text-align: right;\n",
       "    }\n",
       "</style>\n",
       "<table border=\"1\" class=\"dataframe\">\n",
       "  <thead>\n",
       "    <tr style=\"text-align: right;\">\n",
       "      <th></th>\n",
       "      <th>time</th>\n",
       "      <th>HqPrecips</th>\n",
       "    </tr>\n",
       "  </thead>\n",
       "  <tbody>\n",
       "    <tr>\n",
       "      <th>0</th>\n",
       "      <td>2001-01-01</td>\n",
       "      <td>[1.744999885559082, 1.899999976158142, 1.55999...</td>\n",
       "    </tr>\n",
       "    <tr>\n",
       "      <th>1</th>\n",
       "      <td>2001-01-02</td>\n",
       "      <td>[6.5149993896484375, 3.3349997997283936, 0.779...</td>\n",
       "    </tr>\n",
       "    <tr>\n",
       "      <th>2</th>\n",
       "      <td>2001-01-03</td>\n",
       "      <td>[1.619999885559082, 1.125, 5.389999866485596, ...</td>\n",
       "    </tr>\n",
       "    <tr>\n",
       "      <th>3</th>\n",
       "      <td>2001-01-04</td>\n",
       "      <td>[3.509999990463257, 2.6349997520446777, 2.3450...</td>\n",
       "    </tr>\n",
       "    <tr>\n",
       "      <th>4</th>\n",
       "      <td>2001-01-05</td>\n",
       "      <td>[0.6399999856948853, 0.6349999904632568, 0.140...</td>\n",
       "    </tr>\n",
       "  </tbody>\n",
       "</table>\n",
       "</div>"
      ],
      "text/plain": [
       "        time                                          HqPrecips\n",
       "0 2001-01-01  [1.744999885559082, 1.899999976158142, 1.55999...\n",
       "1 2001-01-02  [6.5149993896484375, 3.3349997997283936, 0.779...\n",
       "2 2001-01-03  [1.619999885559082, 1.125, 5.389999866485596, ...\n",
       "3 2001-01-04  [3.509999990463257, 2.6349997520446777, 2.3450...\n",
       "4 2001-01-05  [0.6399999856948853, 0.6349999904632568, 0.140..."
      ]
     },
     "execution_count": 27,
     "metadata": {},
     "output_type": "execute_result"
    }
   ],
   "source": [
    "hqprecip = pd.read_csv('HQprecipitation Data.csv')\n",
    "\n",
    "for i in range(3652):\n",
    "    hqprecip['time'][i] = hqprecip['time'][i][:10]\n",
    "    \n",
    "hqprecip['time'] = pd.to_datetime(hqprecip['time'], format='%Y-%m-%d')\n",
    "hqprecip.head()"
   ]
  },
  {
   "cell_type": "code",
   "execution_count": 28,
   "id": "a127afc6",
   "metadata": {},
   "outputs": [],
   "source": [
    "column_list = []\n",
    "for i in range(225):\n",
    "    colName = 'HqPrecip_'+str(i)\n",
    "    column_list.append(colName)\n",
    "    \n",
    "column = []\n",
    "for i in range(3652):\n",
    "    values = (hqprecip['HqPrecips'][i])[1:-1].split(', ')\n",
    "    for j in range(225):\n",
    "        values[j] = float(values[j])\n",
    "    column.append(values)\n",
    "\n",
    "HqSplit = pd.DataFrame(np.column_stack(list(zip(*column))), columns=column_list)"
   ]
  },
  {
   "cell_type": "code",
   "execution_count": 29,
   "id": "cc58577b",
   "metadata": {},
   "outputs": [],
   "source": [
    "HqFixed = []\n",
    "for i in range(3652):\n",
    "    HqFixed.append(np.array(HqSplit.iloc[i]))"
   ]
  },
  {
   "cell_type": "code",
   "execution_count": 30,
   "id": "9bfe9432",
   "metadata": {},
   "outputs": [],
   "source": [
    "floods = floods.drop(columns=['Date'])"
   ]
  },
  {
   "cell_type": "code",
   "execution_count": 32,
   "id": "4626d078",
   "metadata": {},
   "outputs": [],
   "source": [
    "X_train, X_test, y_train, y_test = train_test_split(HqSplit, floods, random_state=42)"
   ]
  },
  {
   "cell_type": "code",
   "execution_count": 44,
   "id": "08bc6acc",
   "metadata": {},
   "outputs": [],
   "source": [
    "from sklearn.multioutput import MultiOutputClassifier\n",
    "from sklearn.linear_model import LogisticRegression\n",
    "\n",
    "multiClf = MultiOutputClassifier(LogisticRegression(max_iter=10000)).fit(X_train,y_train)"
   ]
  },
  {
   "cell_type": "code",
   "execution_count": 45,
   "id": "24a0c9d8",
   "metadata": {},
   "outputs": [
    {
     "data": {
      "text/plain": [
       "array([[2.27269884e-03, 9.97727301e-01],\n",
       "       [1.00000000e+00, 1.35237192e-10],\n",
       "       [1.81775802e-03, 9.98182242e-01],\n",
       "       ...,\n",
       "       [5.32373874e-05, 9.99946763e-01],\n",
       "       [9.99942928e-01, 5.70720618e-05],\n",
       "       [9.99989439e-01, 1.05610782e-05]])"
      ]
     },
     "execution_count": 45,
     "metadata": {},
     "output_type": "execute_result"
    }
   ],
   "source": [
    "multiPredictions = multiClf.predict_proba(X_test)\n",
    "multiPredictions[0]"
   ]
  },
  {
   "cell_type": "code",
   "execution_count": 46,
   "id": "cb3d4cf9",
   "metadata": {},
   "outputs": [
    {
     "data": {
      "text/plain": [
       "0.9381970513029759"
      ]
     },
     "execution_count": 46,
     "metadata": {},
     "output_type": "execute_result"
    }
   ],
   "source": [
    "multiScore = multiClf.score(X_test,np.array(y_test))\n",
    "multiScore"
   ]
  },
  {
   "cell_type": "code",
   "execution_count": 43,
   "id": "eb3444c8",
   "metadata": {},
   "outputs": [
    {
     "name": "stdout",
     "output_type": "stream",
     "text": [
      "[[[13438     3]\n",
      "  [    0  4940]]\n",
      "\n",
      " [[10771     7]\n",
      "  [    0  7603]]\n",
      "\n",
      " [[12504    12]\n",
      "  [    0  5865]]\n",
      "\n",
      " [[ 9996    30]\n",
      "  [    4  8351]]\n",
      "\n",
      " [[10789    34]\n",
      "  [    0  7558]]\n",
      "\n",
      " [[15860     0]\n",
      "  [    0  2521]]]\n"
     ]
    }
   ],
   "source": [
    "predictions = clf.predict(X_test)\n",
    "cm = metrics.multilabel_confusion_matrix(y_test,predictions)\n",
    "print(cm)"
   ]
  },
  {
   "cell_type": "markdown",
   "id": "105a2808",
   "metadata": {},
   "source": [
    "### Label Powerset Attempt"
   ]
  },
  {
   "cell_type": "code",
   "execution_count": 37,
   "id": "8e7bd6b4",
   "metadata": {},
   "outputs": [],
   "source": [
    "floods['powerLabel'] = floods.apply(lambda x: 32*x['Bernam River']+16*x[\"Selangor River\"]+8*x['Buloh River']+4*x['Klang River']+2*x['Langat River']+1*x['Sepang River'],axis=1)"
   ]
  },
  {
   "cell_type": "code",
   "execution_count": 38,
   "id": "5edb4eb3",
   "metadata": {},
   "outputs": [],
   "source": [
    "ROS = imblearn.over_sampling.RandomOverSampler(random_state=42)\n",
    "X_res, y_res = ROS.fit_resample(HqSplit, floods['powerLabel'])"
   ]
  },
  {
   "cell_type": "code",
   "execution_count": 39,
   "id": "b24fdb35",
   "metadata": {},
   "outputs": [
    {
     "data": {
      "text/plain": [
       "0         0\n",
       "1         0\n",
       "2         0\n",
       "3         0\n",
       "4         0\n",
       "         ..\n",
       "73519    56\n",
       "73520    56\n",
       "73521    56\n",
       "73522    56\n",
       "73523    56\n",
       "Name: powerLabel, Length: 73524, dtype: int64"
      ]
     },
     "execution_count": 39,
     "metadata": {},
     "output_type": "execute_result"
    }
   ],
   "source": [
    "y_res = y_res.fillna(value=0)\n",
    "y_res"
   ]
  },
  {
   "cell_type": "code",
   "execution_count": 40,
   "id": "9d46e609",
   "metadata": {},
   "outputs": [],
   "source": [
    "def unpowerLabel(label):\n",
    "    value = int(bin(int(label))[2:])\n",
    "    values = [int(x) for x in str(value)]\n",
    "    while len(values) != 6:\n",
    "        values.insert(0,0)\n",
    "    return values"
   ]
  },
  {
   "cell_type": "code",
   "execution_count": 41,
   "id": "0d4a95fe",
   "metadata": {},
   "outputs": [],
   "source": [
    "y_unpowered = []\n",
    "for i in range(len(y_res)):\n",
    "    y_unpowered.append(unpowerLabel(y_res[i]))"
   ]
  },
  {
   "cell_type": "code",
   "execution_count": 42,
   "id": "84270f6a",
   "metadata": {},
   "outputs": [
    {
     "data": {
      "text/plain": [
       "0.9956476796692236"
      ]
     },
     "execution_count": 42,
     "metadata": {},
     "output_type": "execute_result"
    }
   ],
   "source": [
    "from sklearn.neural_network import MLPClassifier\n",
    "\n",
    "X_train, X_test, y_train, y_test = train_test_split(X_res, y_unpowered, random_state=42)\n",
    "clf = MLPClassifier(random_state=42, max_iter=300).fit(X_train, y_train)\n",
    "clf.score(X_test, y_test)"
   ]
  },
  {
   "cell_type": "code",
   "execution_count": null,
   "id": "e4337a16",
   "metadata": {},
   "outputs": [],
   "source": []
  }
 ],
 "metadata": {
  "kernelspec": {
   "display_name": "Python 3 (ipykernel)",
   "language": "python",
   "name": "python3"
  },
  "language_info": {
   "codemirror_mode": {
    "name": "ipython",
    "version": 3
   },
   "file_extension": ".py",
   "mimetype": "text/x-python",
   "name": "python",
   "nbconvert_exporter": "python",
   "pygments_lexer": "ipython3",
   "version": "3.9.2"
  }
 },
 "nbformat": 4,
 "nbformat_minor": 5
}
