{
 "cells": [
  {
   "cell_type": "code",
   "execution_count": 1,
   "id": "b733ec4c",
   "metadata": {},
   "outputs": [],
   "source": [
    "import matplotlib.pyplot as plt\n",
    "import matplotlib.cm as cm\n",
    "import numpy as np\n",
    "import pandas as pd"
   ]
  },
  {
   "cell_type": "markdown",
   "id": "85a387ef",
   "metadata": {},
   "source": [
    "### Preprocessing"
   ]
  },
  {
   "cell_type": "code",
   "execution_count": 2,
   "id": "e9e1e2bf",
   "metadata": {},
   "outputs": [
    {
     "data": {
      "text/html": [
       "<div>\n",
       "<style scoped>\n",
       "    .dataframe tbody tr th:only-of-type {\n",
       "        vertical-align: middle;\n",
       "    }\n",
       "\n",
       "    .dataframe tbody tr th {\n",
       "        vertical-align: top;\n",
       "    }\n",
       "\n",
       "    .dataframe thead th {\n",
       "        text-align: right;\n",
       "    }\n",
       "</style>\n",
       "<table border=\"1\" class=\"dataframe\">\n",
       "  <thead>\n",
       "    <tr style=\"text-align: right;\">\n",
       "      <th></th>\n",
       "      <th>time</th>\n",
       "      <th>HqPrecips</th>\n",
       "    </tr>\n",
       "  </thead>\n",
       "  <tbody>\n",
       "    <tr>\n",
       "      <th>0</th>\n",
       "      <td>2001-01-01 00:00:00</td>\n",
       "      <td>[1.744999885559082, 1.899999976158142, 1.55999...</td>\n",
       "    </tr>\n",
       "    <tr>\n",
       "      <th>1</th>\n",
       "      <td>2001-01-02 00:00:00</td>\n",
       "      <td>[6.5149993896484375, 3.3349997997283936, 0.779...</td>\n",
       "    </tr>\n",
       "    <tr>\n",
       "      <th>2</th>\n",
       "      <td>2001-01-03 00:00:00</td>\n",
       "      <td>[1.619999885559082, 1.125, 5.389999866485596, ...</td>\n",
       "    </tr>\n",
       "    <tr>\n",
       "      <th>3</th>\n",
       "      <td>2001-01-04 00:00:00</td>\n",
       "      <td>[3.509999990463257, 2.6349997520446777, 2.3450...</td>\n",
       "    </tr>\n",
       "    <tr>\n",
       "      <th>4</th>\n",
       "      <td>2001-01-05 00:00:00</td>\n",
       "      <td>[0.6399999856948853, 0.6349999904632568, 0.140...</td>\n",
       "    </tr>\n",
       "  </tbody>\n",
       "</table>\n",
       "</div>"
      ],
      "text/plain": [
       "                  time                                          HqPrecips\n",
       "0  2001-01-01 00:00:00  [1.744999885559082, 1.899999976158142, 1.55999...\n",
       "1  2001-01-02 00:00:00  [6.5149993896484375, 3.3349997997283936, 0.779...\n",
       "2  2001-01-03 00:00:00  [1.619999885559082, 1.125, 5.389999866485596, ...\n",
       "3  2001-01-04 00:00:00  [3.509999990463257, 2.6349997520446777, 2.3450...\n",
       "4  2001-01-05 00:00:00  [0.6399999856948853, 0.6349999904632568, 0.140..."
      ]
     },
     "execution_count": 2,
     "metadata": {},
     "output_type": "execute_result"
    }
   ],
   "source": [
    "hqprecip = pd.read_csv('HQprecipitation Data.csv')\n",
    "hqprecip.head()"
   ]
  },
  {
   "cell_type": "code",
   "execution_count": 3,
   "id": "dd7f13f6",
   "metadata": {},
   "outputs": [
    {
     "data": {
      "text/html": [
       "<div>\n",
       "<style scoped>\n",
       "    .dataframe tbody tr th:only-of-type {\n",
       "        vertical-align: middle;\n",
       "    }\n",
       "\n",
       "    .dataframe tbody tr th {\n",
       "        vertical-align: top;\n",
       "    }\n",
       "\n",
       "    .dataframe thead th {\n",
       "        text-align: right;\n",
       "    }\n",
       "</style>\n",
       "<table border=\"1\" class=\"dataframe\">\n",
       "  <thead>\n",
       "    <tr style=\"text-align: right;\">\n",
       "      <th></th>\n",
       "      <th>time</th>\n",
       "      <th>HqPrecips</th>\n",
       "    </tr>\n",
       "  </thead>\n",
       "  <tbody>\n",
       "    <tr>\n",
       "      <th>0</th>\n",
       "      <td>2001-01-01</td>\n",
       "      <td>[1.744999885559082, 1.899999976158142, 1.55999...</td>\n",
       "    </tr>\n",
       "    <tr>\n",
       "      <th>1</th>\n",
       "      <td>2001-01-02</td>\n",
       "      <td>[6.5149993896484375, 3.3349997997283936, 0.779...</td>\n",
       "    </tr>\n",
       "    <tr>\n",
       "      <th>2</th>\n",
       "      <td>2001-01-03</td>\n",
       "      <td>[1.619999885559082, 1.125, 5.389999866485596, ...</td>\n",
       "    </tr>\n",
       "    <tr>\n",
       "      <th>3</th>\n",
       "      <td>2001-01-04</td>\n",
       "      <td>[3.509999990463257, 2.6349997520446777, 2.3450...</td>\n",
       "    </tr>\n",
       "    <tr>\n",
       "      <th>4</th>\n",
       "      <td>2001-01-05</td>\n",
       "      <td>[0.6399999856948853, 0.6349999904632568, 0.140...</td>\n",
       "    </tr>\n",
       "  </tbody>\n",
       "</table>\n",
       "</div>"
      ],
      "text/plain": [
       "         time                                          HqPrecips\n",
       "0  2001-01-01  [1.744999885559082, 1.899999976158142, 1.55999...\n",
       "1  2001-01-02  [6.5149993896484375, 3.3349997997283936, 0.779...\n",
       "2  2001-01-03  [1.619999885559082, 1.125, 5.389999866485596, ...\n",
       "3  2001-01-04  [3.509999990463257, 2.6349997520446777, 2.3450...\n",
       "4  2001-01-05  [0.6399999856948853, 0.6349999904632568, 0.140..."
      ]
     },
     "execution_count": 3,
     "metadata": {},
     "output_type": "execute_result"
    }
   ],
   "source": [
    "for i in range(3652):\n",
    "    hqprecip['time'][i] = hqprecip['time'][i][:10]\n",
    "hqprecip.head()"
   ]
  },
  {
   "cell_type": "code",
   "execution_count": 4,
   "id": "96637121",
   "metadata": {},
   "outputs": [
    {
     "data": {
      "text/html": [
       "<div>\n",
       "<style scoped>\n",
       "    .dataframe tbody tr th:only-of-type {\n",
       "        vertical-align: middle;\n",
       "    }\n",
       "\n",
       "    .dataframe tbody tr th {\n",
       "        vertical-align: top;\n",
       "    }\n",
       "\n",
       "    .dataframe thead th {\n",
       "        text-align: right;\n",
       "    }\n",
       "</style>\n",
       "<table border=\"1\" class=\"dataframe\">\n",
       "  <thead>\n",
       "    <tr style=\"text-align: right;\">\n",
       "      <th></th>\n",
       "      <th>time</th>\n",
       "      <th>HqPrecips</th>\n",
       "    </tr>\n",
       "  </thead>\n",
       "  <tbody>\n",
       "    <tr>\n",
       "      <th>0</th>\n",
       "      <td>2001-01-01</td>\n",
       "      <td>[1.744999885559082, 1.899999976158142, 1.55999...</td>\n",
       "    </tr>\n",
       "    <tr>\n",
       "      <th>1</th>\n",
       "      <td>2001-01-02</td>\n",
       "      <td>[6.5149993896484375, 3.3349997997283936, 0.779...</td>\n",
       "    </tr>\n",
       "    <tr>\n",
       "      <th>2</th>\n",
       "      <td>2001-01-03</td>\n",
       "      <td>[1.619999885559082, 1.125, 5.389999866485596, ...</td>\n",
       "    </tr>\n",
       "    <tr>\n",
       "      <th>3</th>\n",
       "      <td>2001-01-04</td>\n",
       "      <td>[3.509999990463257, 2.6349997520446777, 2.3450...</td>\n",
       "    </tr>\n",
       "    <tr>\n",
       "      <th>4</th>\n",
       "      <td>2001-01-05</td>\n",
       "      <td>[0.6399999856948853, 0.6349999904632568, 0.140...</td>\n",
       "    </tr>\n",
       "  </tbody>\n",
       "</table>\n",
       "</div>"
      ],
      "text/plain": [
       "        time                                          HqPrecips\n",
       "0 2001-01-01  [1.744999885559082, 1.899999976158142, 1.55999...\n",
       "1 2001-01-02  [6.5149993896484375, 3.3349997997283936, 0.779...\n",
       "2 2001-01-03  [1.619999885559082, 1.125, 5.389999866485596, ...\n",
       "3 2001-01-04  [3.509999990463257, 2.6349997520446777, 2.3450...\n",
       "4 2001-01-05  [0.6399999856948853, 0.6349999904632568, 0.140..."
      ]
     },
     "execution_count": 4,
     "metadata": {},
     "output_type": "execute_result"
    }
   ],
   "source": [
    "hqprecip['time'] = pd.to_datetime(hqprecip['time'], format='%Y-%m-%d')\n",
    "hqprecip.head()"
   ]
  },
  {
   "cell_type": "code",
   "execution_count": 5,
   "id": "0625859b",
   "metadata": {},
   "outputs": [
    {
     "data": {
      "text/html": [
       "<div>\n",
       "<style scoped>\n",
       "    .dataframe tbody tr th:only-of-type {\n",
       "        vertical-align: middle;\n",
       "    }\n",
       "\n",
       "    .dataframe tbody tr th {\n",
       "        vertical-align: top;\n",
       "    }\n",
       "\n",
       "    .dataframe thead th {\n",
       "        text-align: right;\n",
       "    }\n",
       "</style>\n",
       "<table border=\"1\" class=\"dataframe\">\n",
       "  <thead>\n",
       "    <tr style=\"text-align: right;\">\n",
       "      <th></th>\n",
       "      <th>Date</th>\n",
       "      <th>Bernam River</th>\n",
       "      <th>Selangor River</th>\n",
       "      <th>Buloh River</th>\n",
       "      <th>Klang River</th>\n",
       "      <th>Langat River</th>\n",
       "      <th>Sepang River</th>\n",
       "    </tr>\n",
       "  </thead>\n",
       "  <tbody>\n",
       "    <tr>\n",
       "      <th>0</th>\n",
       "      <td>2001-01-25</td>\n",
       "      <td>0</td>\n",
       "      <td>0</td>\n",
       "      <td>0</td>\n",
       "      <td>1</td>\n",
       "      <td>0</td>\n",
       "      <td>0</td>\n",
       "    </tr>\n",
       "    <tr>\n",
       "      <th>1</th>\n",
       "      <td>2001-02-19</td>\n",
       "      <td>1</td>\n",
       "      <td>0</td>\n",
       "      <td>0</td>\n",
       "      <td>0</td>\n",
       "      <td>0</td>\n",
       "      <td>0</td>\n",
       "    </tr>\n",
       "    <tr>\n",
       "      <th>2</th>\n",
       "      <td>2001-04-03</td>\n",
       "      <td>0</td>\n",
       "      <td>0</td>\n",
       "      <td>0</td>\n",
       "      <td>1</td>\n",
       "      <td>1</td>\n",
       "      <td>0</td>\n",
       "    </tr>\n",
       "    <tr>\n",
       "      <th>3</th>\n",
       "      <td>2001-04-09</td>\n",
       "      <td>0</td>\n",
       "      <td>0</td>\n",
       "      <td>0</td>\n",
       "      <td>1</td>\n",
       "      <td>1</td>\n",
       "      <td>0</td>\n",
       "    </tr>\n",
       "    <tr>\n",
       "      <th>4</th>\n",
       "      <td>2001-04-13</td>\n",
       "      <td>0</td>\n",
       "      <td>0</td>\n",
       "      <td>0</td>\n",
       "      <td>1</td>\n",
       "      <td>0</td>\n",
       "      <td>0</td>\n",
       "    </tr>\n",
       "  </tbody>\n",
       "</table>\n",
       "</div>"
      ],
      "text/plain": [
       "        Date  Bernam River  Selangor River  Buloh River  Klang River  \\\n",
       "0 2001-01-25             0               0            0            1   \n",
       "1 2001-02-19             1               0            0            0   \n",
       "2 2001-04-03             0               0            0            1   \n",
       "3 2001-04-09             0               0            0            1   \n",
       "4 2001-04-13             0               0            0            1   \n",
       "\n",
       "   Langat River  Sepang River  \n",
       "0             0             0  \n",
       "1             0             0  \n",
       "2             1             0  \n",
       "3             1             0  \n",
       "4             0             0  "
      ]
     },
     "execution_count": 5,
     "metadata": {},
     "output_type": "execute_result"
    }
   ],
   "source": [
    "floods = pd.read_excel('Flood Events Final.xlsx')\n",
    "floods = floods.drop(columns=['Unnamed: 0'])\n",
    "floods.head()"
   ]
  },
  {
   "cell_type": "code",
   "execution_count": 6,
   "id": "ecf1bae4",
   "metadata": {},
   "outputs": [
    {
     "data": {
      "text/plain": [
       "(3652, 7)"
      ]
     },
     "execution_count": 6,
     "metadata": {},
     "output_type": "execute_result"
    }
   ],
   "source": [
    "from datetime import date, timedelta\n",
    "\n",
    "def daterange(start_date, end_date):\n",
    "    for n in range(int((end_date - start_date).days)):\n",
    "        yield start_date + timedelta(n)\n",
    "\n",
    "start_date = date(2001, 1, 1)\n",
    "end_date = date(2011, 1, 1)\n",
    "dates = []\n",
    "for single_date in daterange(start_date, end_date):\n",
    "    dates.append(single_date.strftime(\"%Y-%m-%d\"))\n",
    "\n",
    "nonFloods = pd.DataFrame({\n",
    "    'Date':dates,\n",
    "    'Bernam River':0,\n",
    "    'Selangor River':0,\n",
    "    'Buloh River':0,\n",
    "    'Klang River':0,\n",
    "    'Langat River':0,\n",
    "    'Sepang River':0,\n",
    "})\n",
    "\n",
    "nonFloods['Date'] = pd.to_datetime(nonFloods['Date'], format='%Y-%m-%d')\n",
    "nonFloods.shape"
   ]
  },
  {
   "cell_type": "code",
   "execution_count": 7,
   "id": "4399f78a",
   "metadata": {},
   "outputs": [
    {
     "name": "stderr",
     "output_type": "stream",
     "text": [
      "C:\\Users\\Hunts\\AppData\\Local\\Temp\\ipykernel_2108\\3410022939.py:1: FutureWarning: The frame.append method is deprecated and will be removed from pandas in a future version. Use pandas.concat instead.\n",
      "  floods = floods.append(nonFloods, ignore_index=True)\n"
     ]
    }
   ],
   "source": [
    "floods = floods.append(nonFloods, ignore_index=True)\n",
    "floods = floods.groupby(['Date']).sum().reset_index()"
   ]
  },
  {
   "cell_type": "code",
   "execution_count": 8,
   "id": "0b85940c",
   "metadata": {},
   "outputs": [],
   "source": [
    "result = []\n",
    "for i in range(3652):\n",
    "    if 1 in list(floods.iloc[i][1:]):\n",
    "        result.append(1)\n",
    "    else:\n",
    "        result.append(0)"
   ]
  },
  {
   "cell_type": "code",
   "execution_count": 9,
   "id": "a7aa33d6",
   "metadata": {},
   "outputs": [],
   "source": [
    "simpleFloods = pd.DataFrame({\n",
    "    'Date':floods['Date'],\n",
    "    'Flood':result\n",
    "})"
   ]
  },
  {
   "cell_type": "code",
   "execution_count": 10,
   "id": "c397b20d",
   "metadata": {},
   "outputs": [],
   "source": [
    "hqprecip = hqprecip.drop(columns=['time'])"
   ]
  },
  {
   "cell_type": "code",
   "execution_count": 11,
   "id": "94531dd1",
   "metadata": {},
   "outputs": [],
   "source": [
    "simpleFloods = simpleFloods.drop(columns=['Date'])"
   ]
  },
  {
   "cell_type": "code",
   "execution_count": 12,
   "id": "3fc77dec",
   "metadata": {},
   "outputs": [],
   "source": [
    "column_list = []\n",
    "for i in range(225):\n",
    "    colName = 'HqPrecip_'+str(i)\n",
    "    column_list.append(colName)"
   ]
  },
  {
   "cell_type": "code",
   "execution_count": 13,
   "id": "056647a4",
   "metadata": {},
   "outputs": [],
   "source": [
    "column = []\n",
    "for i in range(3652):\n",
    "    values = (hqprecip['HqPrecips'][i])[1:-1].split(', ')\n",
    "    for j in range(225):\n",
    "        values[j] = float(values[j])\n",
    "    column.append(values)"
   ]
  },
  {
   "cell_type": "code",
   "execution_count": 14,
   "id": "948be4d1",
   "metadata": {},
   "outputs": [],
   "source": [
    "HqSplit = pd.DataFrame(np.column_stack(list(zip(*column))), columns=column_list)"
   ]
  },
  {
   "cell_type": "code",
   "execution_count": 15,
   "id": "541cfc66",
   "metadata": {},
   "outputs": [
    {
     "data": {
      "text/html": [
       "<div>\n",
       "<style scoped>\n",
       "    .dataframe tbody tr th:only-of-type {\n",
       "        vertical-align: middle;\n",
       "    }\n",
       "\n",
       "    .dataframe tbody tr th {\n",
       "        vertical-align: top;\n",
       "    }\n",
       "\n",
       "    .dataframe thead th {\n",
       "        text-align: right;\n",
       "    }\n",
       "</style>\n",
       "<table border=\"1\" class=\"dataframe\">\n",
       "  <thead>\n",
       "    <tr style=\"text-align: right;\">\n",
       "      <th></th>\n",
       "      <th>HqPrecip_0</th>\n",
       "      <th>HqPrecip_1</th>\n",
       "      <th>HqPrecip_2</th>\n",
       "      <th>HqPrecip_3</th>\n",
       "      <th>HqPrecip_4</th>\n",
       "      <th>HqPrecip_5</th>\n",
       "      <th>HqPrecip_6</th>\n",
       "      <th>HqPrecip_7</th>\n",
       "      <th>HqPrecip_8</th>\n",
       "      <th>HqPrecip_9</th>\n",
       "      <th>...</th>\n",
       "      <th>HqPrecip_215</th>\n",
       "      <th>HqPrecip_216</th>\n",
       "      <th>HqPrecip_217</th>\n",
       "      <th>HqPrecip_218</th>\n",
       "      <th>HqPrecip_219</th>\n",
       "      <th>HqPrecip_220</th>\n",
       "      <th>HqPrecip_221</th>\n",
       "      <th>HqPrecip_222</th>\n",
       "      <th>HqPrecip_223</th>\n",
       "      <th>HqPrecip_224</th>\n",
       "    </tr>\n",
       "  </thead>\n",
       "  <tbody>\n",
       "    <tr>\n",
       "      <th>0</th>\n",
       "      <td>1.745000</td>\n",
       "      <td>1.900</td>\n",
       "      <td>1.560</td>\n",
       "      <td>1.845</td>\n",
       "      <td>1.575</td>\n",
       "      <td>1.770</td>\n",
       "      <td>1.150</td>\n",
       "      <td>1.090</td>\n",
       "      <td>0.750</td>\n",
       "      <td>0.640</td>\n",
       "      <td>...</td>\n",
       "      <td>0.00</td>\n",
       "      <td>0.150</td>\n",
       "      <td>0.000</td>\n",
       "      <td>0.245</td>\n",
       "      <td>0.000</td>\n",
       "      <td>0.000</td>\n",
       "      <td>0.000</td>\n",
       "      <td>0.000</td>\n",
       "      <td>0.000</td>\n",
       "      <td>0.035</td>\n",
       "    </tr>\n",
       "    <tr>\n",
       "      <th>1</th>\n",
       "      <td>6.514999</td>\n",
       "      <td>3.335</td>\n",
       "      <td>0.780</td>\n",
       "      <td>0.725</td>\n",
       "      <td>0.410</td>\n",
       "      <td>1.215</td>\n",
       "      <td>1.005</td>\n",
       "      <td>1.390</td>\n",
       "      <td>0.930</td>\n",
       "      <td>2.485</td>\n",
       "      <td>...</td>\n",
       "      <td>0.00</td>\n",
       "      <td>0.020</td>\n",
       "      <td>0.020</td>\n",
       "      <td>0.000</td>\n",
       "      <td>0.000</td>\n",
       "      <td>0.000</td>\n",
       "      <td>0.200</td>\n",
       "      <td>0.175</td>\n",
       "      <td>0.000</td>\n",
       "      <td>0.000</td>\n",
       "    </tr>\n",
       "    <tr>\n",
       "      <th>2</th>\n",
       "      <td>1.620000</td>\n",
       "      <td>1.125</td>\n",
       "      <td>5.390</td>\n",
       "      <td>6.990</td>\n",
       "      <td>5.195</td>\n",
       "      <td>3.205</td>\n",
       "      <td>3.590</td>\n",
       "      <td>2.805</td>\n",
       "      <td>2.605</td>\n",
       "      <td>2.555</td>\n",
       "      <td>...</td>\n",
       "      <td>0.27</td>\n",
       "      <td>0.265</td>\n",
       "      <td>0.265</td>\n",
       "      <td>0.265</td>\n",
       "      <td>0.530</td>\n",
       "      <td>0.375</td>\n",
       "      <td>0.315</td>\n",
       "      <td>0.625</td>\n",
       "      <td>0.345</td>\n",
       "      <td>0.265</td>\n",
       "    </tr>\n",
       "    <tr>\n",
       "      <th>3</th>\n",
       "      <td>3.510000</td>\n",
       "      <td>2.635</td>\n",
       "      <td>2.345</td>\n",
       "      <td>1.300</td>\n",
       "      <td>1.485</td>\n",
       "      <td>1.490</td>\n",
       "      <td>1.525</td>\n",
       "      <td>2.475</td>\n",
       "      <td>3.130</td>\n",
       "      <td>3.020</td>\n",
       "      <td>...</td>\n",
       "      <td>1.69</td>\n",
       "      <td>1.280</td>\n",
       "      <td>1.360</td>\n",
       "      <td>1.325</td>\n",
       "      <td>1.325</td>\n",
       "      <td>0.220</td>\n",
       "      <td>0.100</td>\n",
       "      <td>0.310</td>\n",
       "      <td>0.620</td>\n",
       "      <td>1.065</td>\n",
       "    </tr>\n",
       "    <tr>\n",
       "      <th>4</th>\n",
       "      <td>0.640000</td>\n",
       "      <td>0.635</td>\n",
       "      <td>0.140</td>\n",
       "      <td>0.195</td>\n",
       "      <td>0.225</td>\n",
       "      <td>0.240</td>\n",
       "      <td>0.240</td>\n",
       "      <td>0.540</td>\n",
       "      <td>0.545</td>\n",
       "      <td>0.880</td>\n",
       "      <td>...</td>\n",
       "      <td>0.01</td>\n",
       "      <td>0.010</td>\n",
       "      <td>0.000</td>\n",
       "      <td>0.000</td>\n",
       "      <td>0.000</td>\n",
       "      <td>0.010</td>\n",
       "      <td>0.010</td>\n",
       "      <td>0.005</td>\n",
       "      <td>0.005</td>\n",
       "      <td>0.005</td>\n",
       "    </tr>\n",
       "  </tbody>\n",
       "</table>\n",
       "<p>5 rows × 225 columns</p>\n",
       "</div>"
      ],
      "text/plain": [
       "   HqPrecip_0  HqPrecip_1  HqPrecip_2  HqPrecip_3  HqPrecip_4  HqPrecip_5  \\\n",
       "0    1.745000       1.900       1.560       1.845       1.575       1.770   \n",
       "1    6.514999       3.335       0.780       0.725       0.410       1.215   \n",
       "2    1.620000       1.125       5.390       6.990       5.195       3.205   \n",
       "3    3.510000       2.635       2.345       1.300       1.485       1.490   \n",
       "4    0.640000       0.635       0.140       0.195       0.225       0.240   \n",
       "\n",
       "   HqPrecip_6  HqPrecip_7  HqPrecip_8  HqPrecip_9  ...  HqPrecip_215  \\\n",
       "0       1.150       1.090       0.750       0.640  ...          0.00   \n",
       "1       1.005       1.390       0.930       2.485  ...          0.00   \n",
       "2       3.590       2.805       2.605       2.555  ...          0.27   \n",
       "3       1.525       2.475       3.130       3.020  ...          1.69   \n",
       "4       0.240       0.540       0.545       0.880  ...          0.01   \n",
       "\n",
       "   HqPrecip_216  HqPrecip_217  HqPrecip_218  HqPrecip_219  HqPrecip_220  \\\n",
       "0         0.150         0.000         0.245         0.000         0.000   \n",
       "1         0.020         0.020         0.000         0.000         0.000   \n",
       "2         0.265         0.265         0.265         0.530         0.375   \n",
       "3         1.280         1.360         1.325         1.325         0.220   \n",
       "4         0.010         0.000         0.000         0.000         0.010   \n",
       "\n",
       "   HqPrecip_221  HqPrecip_222  HqPrecip_223  HqPrecip_224  \n",
       "0         0.000         0.000         0.000         0.035  \n",
       "1         0.200         0.175         0.000         0.000  \n",
       "2         0.315         0.625         0.345         0.265  \n",
       "3         0.100         0.310         0.620         1.065  \n",
       "4         0.010         0.005         0.005         0.005  \n",
       "\n",
       "[5 rows x 225 columns]"
      ]
     },
     "execution_count": 15,
     "metadata": {},
     "output_type": "execute_result"
    }
   ],
   "source": [
    "HqSplit.head()"
   ]
  },
  {
   "cell_type": "code",
   "execution_count": 16,
   "id": "9786f1ec",
   "metadata": {},
   "outputs": [],
   "source": [
    "# December 2021 test case preprocessing\n",
    "dec21 = pd.read_csv('HQprecipitation Data Test Cases (Dec2021).csv')\n",
    "\n",
    "for i in range(31):\n",
    "    dec21['time'][i] = dec21['time'][i][:10]\n",
    "    \n",
    "dec21 = dec21.drop(columns=['time'])\n",
    "\n",
    "column_list = []\n",
    "for i in range(225):\n",
    "    colName = 'HqPrecip_'+str(i)\n",
    "    column_list.append(colName)\n",
    "    \n",
    "column = []\n",
    "for i in range(31):\n",
    "    values = (dec21['HqPrecips'][i])[1:-1].split(', ')\n",
    "    for j in range(225):\n",
    "        values[j] = float(values[j])\n",
    "    column.append(values)\n",
    "\n",
    "Dec21HqSplit = pd.DataFrame(np.column_stack(list(zip(*column))), columns=column_list)"
   ]
  },
  {
   "cell_type": "code",
   "execution_count": 17,
   "id": "b6ff2bd9",
   "metadata": {},
   "outputs": [],
   "source": [
    "# June 2021 test case preprocessing\n",
    "jun21 = pd.read_csv('HQprecipitation Data Test Cases (Jun2021).csv')\n",
    "\n",
    "for i in range(30):\n",
    "    jun21['time'][i] = jun21['time'][i][:10]\n",
    "\n",
    "jun21 = jun21.drop(columns=['time'])\n",
    "\n",
    "column_list = []\n",
    "for i in range(225):\n",
    "    colName = 'HqPrecip_'+str(i)\n",
    "    column_list.append(colName)\n",
    "    \n",
    "column = []\n",
    "for i in range(30):\n",
    "    values = (jun21['HqPrecips'][i])[1:-1].split(', ')\n",
    "    for j in range(225):\n",
    "        values[j] = float(values[j])\n",
    "    column.append(values)\n",
    "    \n",
    "Jun21HqSplit = pd.DataFrame(np.column_stack(list(zip(*column))), columns=column_list)"
   ]
  },
  {
   "cell_type": "markdown",
   "id": "e770386c",
   "metadata": {},
   "source": [
    "### Decision Tree"
   ]
  },
  {
   "cell_type": "code",
   "execution_count": 18,
   "id": "c5abb8b8",
   "metadata": {},
   "outputs": [],
   "source": [
    "from sklearn.model_selection import train_test_split\n",
    "from sklearn.linear_model import LogisticRegression\n",
    "from sklearn import metrics\n",
    "from sklearn.tree import DecisionTreeClassifier\n",
    "from sklearn import svm\n",
    "from sklearn.naive_bayes import GaussianNB"
   ]
  },
  {
   "cell_type": "code",
   "execution_count": 19,
   "id": "9cd845d2",
   "metadata": {},
   "outputs": [],
   "source": [
    "import imblearn\n",
    "oversample = imblearn.over_sampling.SMOTE()\n",
    "HqSplit, simpleFloods = oversample.fit_resample(HqSplit, simpleFloods)"
   ]
  },
  {
   "cell_type": "code",
   "execution_count": 20,
   "id": "1416580b",
   "metadata": {},
   "outputs": [],
   "source": [
    "x_train, x_test, y_train, y_test = train_test_split(HqSplit, simpleFloods, test_size=0.3, random_state=42)"
   ]
  },
  {
   "cell_type": "code",
   "execution_count": 21,
   "id": "dbe552b8",
   "metadata": {},
   "outputs": [
    {
     "data": {
      "text/html": [
       "<style>#sk-container-id-1 {color: black;background-color: white;}#sk-container-id-1 pre{padding: 0;}#sk-container-id-1 div.sk-toggleable {background-color: white;}#sk-container-id-1 label.sk-toggleable__label {cursor: pointer;display: block;width: 100%;margin-bottom: 0;padding: 0.3em;box-sizing: border-box;text-align: center;}#sk-container-id-1 label.sk-toggleable__label-arrow:before {content: \"▸\";float: left;margin-right: 0.25em;color: #696969;}#sk-container-id-1 label.sk-toggleable__label-arrow:hover:before {color: black;}#sk-container-id-1 div.sk-estimator:hover label.sk-toggleable__label-arrow:before {color: black;}#sk-container-id-1 div.sk-toggleable__content {max-height: 0;max-width: 0;overflow: hidden;text-align: left;background-color: #f0f8ff;}#sk-container-id-1 div.sk-toggleable__content pre {margin: 0.2em;color: black;border-radius: 0.25em;background-color: #f0f8ff;}#sk-container-id-1 input.sk-toggleable__control:checked~div.sk-toggleable__content {max-height: 200px;max-width: 100%;overflow: auto;}#sk-container-id-1 input.sk-toggleable__control:checked~label.sk-toggleable__label-arrow:before {content: \"▾\";}#sk-container-id-1 div.sk-estimator input.sk-toggleable__control:checked~label.sk-toggleable__label {background-color: #d4ebff;}#sk-container-id-1 div.sk-label input.sk-toggleable__control:checked~label.sk-toggleable__label {background-color: #d4ebff;}#sk-container-id-1 input.sk-hidden--visually {border: 0;clip: rect(1px 1px 1px 1px);clip: rect(1px, 1px, 1px, 1px);height: 1px;margin: -1px;overflow: hidden;padding: 0;position: absolute;width: 1px;}#sk-container-id-1 div.sk-estimator {font-family: monospace;background-color: #f0f8ff;border: 1px dotted black;border-radius: 0.25em;box-sizing: border-box;margin-bottom: 0.5em;}#sk-container-id-1 div.sk-estimator:hover {background-color: #d4ebff;}#sk-container-id-1 div.sk-parallel-item::after {content: \"\";width: 100%;border-bottom: 1px solid gray;flex-grow: 1;}#sk-container-id-1 div.sk-label:hover label.sk-toggleable__label {background-color: #d4ebff;}#sk-container-id-1 div.sk-serial::before {content: \"\";position: absolute;border-left: 1px solid gray;box-sizing: border-box;top: 0;bottom: 0;left: 50%;z-index: 0;}#sk-container-id-1 div.sk-serial {display: flex;flex-direction: column;align-items: center;background-color: white;padding-right: 0.2em;padding-left: 0.2em;position: relative;}#sk-container-id-1 div.sk-item {position: relative;z-index: 1;}#sk-container-id-1 div.sk-parallel {display: flex;align-items: stretch;justify-content: center;background-color: white;position: relative;}#sk-container-id-1 div.sk-item::before, #sk-container-id-1 div.sk-parallel-item::before {content: \"\";position: absolute;border-left: 1px solid gray;box-sizing: border-box;top: 0;bottom: 0;left: 50%;z-index: -1;}#sk-container-id-1 div.sk-parallel-item {display: flex;flex-direction: column;z-index: 1;position: relative;background-color: white;}#sk-container-id-1 div.sk-parallel-item:first-child::after {align-self: flex-end;width: 50%;}#sk-container-id-1 div.sk-parallel-item:last-child::after {align-self: flex-start;width: 50%;}#sk-container-id-1 div.sk-parallel-item:only-child::after {width: 0;}#sk-container-id-1 div.sk-dashed-wrapped {border: 1px dashed gray;margin: 0 0.4em 0.5em 0.4em;box-sizing: border-box;padding-bottom: 0.4em;background-color: white;}#sk-container-id-1 div.sk-label label {font-family: monospace;font-weight: bold;display: inline-block;line-height: 1.2em;}#sk-container-id-1 div.sk-label-container {text-align: center;}#sk-container-id-1 div.sk-container {/* jupyter's `normalize.less` sets `[hidden] { display: none; }` but bootstrap.min.css set `[hidden] { display: none !important; }` so we also need the `!important` here to be able to override the default hidden behavior on the sphinx rendered scikit-learn.org. See: https://github.com/scikit-learn/scikit-learn/issues/21755 */display: inline-block !important;position: relative;}#sk-container-id-1 div.sk-text-repr-fallback {display: none;}</style><div id=\"sk-container-id-1\" class=\"sk-top-container\"><div class=\"sk-text-repr-fallback\"><pre>DecisionTreeClassifier(class_weight=&#x27;balanced&#x27;, random_state=42)</pre><b>In a Jupyter environment, please rerun this cell to show the HTML representation or trust the notebook. <br />On GitHub, the HTML representation is unable to render, please try loading this page with nbviewer.org.</b></div><div class=\"sk-container\" hidden><div class=\"sk-item\"><div class=\"sk-estimator sk-toggleable\"><input class=\"sk-toggleable__control sk-hidden--visually\" id=\"sk-estimator-id-1\" type=\"checkbox\" checked><label for=\"sk-estimator-id-1\" class=\"sk-toggleable__label sk-toggleable__label-arrow\">DecisionTreeClassifier</label><div class=\"sk-toggleable__content\"><pre>DecisionTreeClassifier(class_weight=&#x27;balanced&#x27;, random_state=42)</pre></div></div></div></div></div>"
      ],
      "text/plain": [
       "DecisionTreeClassifier(class_weight='balanced', random_state=42)"
      ]
     },
     "execution_count": 21,
     "metadata": {},
     "output_type": "execute_result"
    }
   ],
   "source": [
    "dt = DecisionTreeClassifier(random_state=42, class_weight='balanced')\n",
    "dt.fit(x_train, y_train)"
   ]
  },
  {
   "cell_type": "code",
   "execution_count": 22,
   "id": "9a6532b9",
   "metadata": {},
   "outputs": [],
   "source": [
    "dt_predictions = dt.predict(x_test)\n",
    "cm = metrics.confusion_matrix(y_test,dt_predictions,labels=dt.classes_)"
   ]
  },
  {
   "cell_type": "code",
   "execution_count": 23,
   "id": "841f5157",
   "metadata": {},
   "outputs": [
    {
     "data": {
      "image/png": "[encoded data removed]",
      "text/plain": [
       "<Figure size 640x480 with 2 Axes>"
      ]
     },
     "metadata": {},
     "output_type": "display_data"
    }
   ],
   "source": [
    "display = metrics.ConfusionMatrixDisplay(confusion_matrix=cm, display_labels=dt.classes_)\n",
    "display.plot()\n",
    "plt.show()"
   ]
  },
  {
   "cell_type": "code",
   "execution_count": 24,
   "id": "8e1190a4",
   "metadata": {},
   "outputs": [
    {
     "name": "stdout",
     "output_type": "stream",
     "text": [
      "Accuracy: 0.848\n",
      "Precision: 0.821\n",
      "Recall: 0.882\n",
      "F1 Score: 0.850\n"
     ]
    }
   ],
   "source": [
    "from sklearn.metrics import precision_score, recall_score, f1_score, accuracy_score\n",
    "print('Accuracy: %.3f' % accuracy_score(y_test, dt_predictions))\n",
    "print('Precision: %.3f' % precision_score(y_test, dt_predictions))\n",
    "print('Recall: %.3f' % recall_score(y_test, dt_predictions))\n",
    "print('F1 Score: %.3f' % f1_score(y_test, dt_predictions))"
   ]
  },
  {
   "cell_type": "code",
   "execution_count": 25,
   "id": "209d67bd",
   "metadata": {},
   "outputs": [
    {
     "data": {
      "text/plain": [
       "array([0, 1, 0, 0, 0, 0, 0, 0, 1, 0, 0, 0, 0, 0, 0, 1, 0, 0, 0, 0, 0, 0,\n",
       "       0, 0, 0, 0, 0, 0, 0, 1, 1], dtype=int64)"
      ]
     },
     "execution_count": 25,
     "metadata": {},
     "output_type": "execute_result"
    }
   ],
   "source": [
    "dt_dec_predictions = dt.predict(Dec21HqSplit)\n",
    "dt_dec_predictions"
   ]
  },
  {
   "cell_type": "code",
   "execution_count": 26,
   "id": "1eae0270",
   "metadata": {},
   "outputs": [
    {
     "data": {
      "text/plain": [
       "array([0, 1, 1, 0, 0, 0, 0, 0, 0, 1, 1, 0, 0, 1, 0, 0, 1, 0, 0, 0, 0, 0,\n",
       "       0, 0, 0, 0, 1, 0, 0, 0], dtype=int64)"
      ]
     },
     "execution_count": 26,
     "metadata": {},
     "output_type": "execute_result"
    }
   ],
   "source": [
    "dt_jun_predictions = dt.predict(Jun21HqSplit)\n",
    "dt_jun_predictions"
   ]
  },
  {
   "cell_type": "code",
   "execution_count": 27,
   "id": "58e36742",
   "metadata": {},
   "outputs": [],
   "source": [
    "import pickle\n",
    "pickle.dump(dt, open('HQDtModel.pkl', 'wb'))"
   ]
  },
  {
   "cell_type": "markdown",
   "id": "7cb4c2c6",
   "metadata": {},
   "source": [
    "### Logistic Regression"
   ]
  },
  {
   "cell_type": "code",
   "execution_count": 28,
   "id": "07c640ef",
   "metadata": {},
   "outputs": [
    {
     "name": "stderr",
     "output_type": "stream",
     "text": [
      "C:\\Users\\Hunts\\AppData\\Local\\Programs\\Python\\Python39\\lib\\site-packages\\sklearn\\utils\\validation.py:1141: DataConversionWarning: A column-vector y was passed when a 1d array was expected. Please change the shape of y to (n_samples, ), for example using ravel().\n",
      "  y = column_or_1d(y, warn=True)\n"
     ]
    },
    {
     "data": {
      "text/html": [
       "<style>#sk-container-id-2 {color: black;background-color: white;}#sk-container-id-2 pre{padding: 0;}#sk-container-id-2 div.sk-toggleable {background-color: white;}#sk-container-id-2 label.sk-toggleable__label {cursor: pointer;display: block;width: 100%;margin-bottom: 0;padding: 0.3em;box-sizing: border-box;text-align: center;}#sk-container-id-2 label.sk-toggleable__label-arrow:before {content: \"▸\";float: left;margin-right: 0.25em;color: #696969;}#sk-container-id-2 label.sk-toggleable__label-arrow:hover:before {color: black;}#sk-container-id-2 div.sk-estimator:hover label.sk-toggleable__label-arrow:before {color: black;}#sk-container-id-2 div.sk-toggleable__content {max-height: 0;max-width: 0;overflow: hidden;text-align: left;background-color: #f0f8ff;}#sk-container-id-2 div.sk-toggleable__content pre {margin: 0.2em;color: black;border-radius: 0.25em;background-color: #f0f8ff;}#sk-container-id-2 input.sk-toggleable__control:checked~div.sk-toggleable__content {max-height: 200px;max-width: 100%;overflow: auto;}#sk-container-id-2 input.sk-toggleable__control:checked~label.sk-toggleable__label-arrow:before {content: \"▾\";}#sk-container-id-2 div.sk-estimator input.sk-toggleable__control:checked~label.sk-toggleable__label {background-color: #d4ebff;}#sk-container-id-2 div.sk-label input.sk-toggleable__control:checked~label.sk-toggleable__label {background-color: #d4ebff;}#sk-container-id-2 input.sk-hidden--visually {border: 0;clip: rect(1px 1px 1px 1px);clip: rect(1px, 1px, 1px, 1px);height: 1px;margin: -1px;overflow: hidden;padding: 0;position: absolute;width: 1px;}#sk-container-id-2 div.sk-estimator {font-family: monospace;background-color: #f0f8ff;border: 1px dotted black;border-radius: 0.25em;box-sizing: border-box;margin-bottom: 0.5em;}#sk-container-id-2 div.sk-estimator:hover {background-color: #d4ebff;}#sk-container-id-2 div.sk-parallel-item::after {content: \"\";width: 100%;border-bottom: 1px solid gray;flex-grow: 1;}#sk-container-id-2 div.sk-label:hover label.sk-toggleable__label {background-color: #d4ebff;}#sk-container-id-2 div.sk-serial::before {content: \"\";position: absolute;border-left: 1px solid gray;box-sizing: border-box;top: 0;bottom: 0;left: 50%;z-index: 0;}#sk-container-id-2 div.sk-serial {display: flex;flex-direction: column;align-items: center;background-color: white;padding-right: 0.2em;padding-left: 0.2em;position: relative;}#sk-container-id-2 div.sk-item {position: relative;z-index: 1;}#sk-container-id-2 div.sk-parallel {display: flex;align-items: stretch;justify-content: center;background-color: white;position: relative;}#sk-container-id-2 div.sk-item::before, #sk-container-id-2 div.sk-parallel-item::before {content: \"\";position: absolute;border-left: 1px solid gray;box-sizing: border-box;top: 0;bottom: 0;left: 50%;z-index: -1;}#sk-container-id-2 div.sk-parallel-item {display: flex;flex-direction: column;z-index: 1;position: relative;background-color: white;}#sk-container-id-2 div.sk-parallel-item:first-child::after {align-self: flex-end;width: 50%;}#sk-container-id-2 div.sk-parallel-item:last-child::after {align-self: flex-start;width: 50%;}#sk-container-id-2 div.sk-parallel-item:only-child::after {width: 0;}#sk-container-id-2 div.sk-dashed-wrapped {border: 1px dashed gray;margin: 0 0.4em 0.5em 0.4em;box-sizing: border-box;padding-bottom: 0.4em;background-color: white;}#sk-container-id-2 div.sk-label label {font-family: monospace;font-weight: bold;display: inline-block;line-height: 1.2em;}#sk-container-id-2 div.sk-label-container {text-align: center;}#sk-container-id-2 div.sk-container {/* jupyter's `normalize.less` sets `[hidden] { display: none; }` but bootstrap.min.css set `[hidden] { display: none !important; }` so we also need the `!important` here to be able to override the default hidden behavior on the sphinx rendered scikit-learn.org. See: https://github.com/scikit-learn/scikit-learn/issues/21755 */display: inline-block !important;position: relative;}#sk-container-id-2 div.sk-text-repr-fallback {display: none;}</style><div id=\"sk-container-id-2\" class=\"sk-top-container\"><div class=\"sk-text-repr-fallback\"><pre>LogisticRegression(class_weight=&#x27;balanced&#x27;, max_iter=10000)</pre><b>In a Jupyter environment, please rerun this cell to show the HTML representation or trust the notebook. <br />On GitHub, the HTML representation is unable to render, please try loading this page with nbviewer.org.</b></div><div class=\"sk-container\" hidden><div class=\"sk-item\"><div class=\"sk-estimator sk-toggleable\"><input class=\"sk-toggleable__control sk-hidden--visually\" id=\"sk-estimator-id-2\" type=\"checkbox\" checked><label for=\"sk-estimator-id-2\" class=\"sk-toggleable__label sk-toggleable__label-arrow\">LogisticRegression</label><div class=\"sk-toggleable__content\"><pre>LogisticRegression(class_weight=&#x27;balanced&#x27;, max_iter=10000)</pre></div></div></div></div></div>"
      ],
      "text/plain": [
       "LogisticRegression(class_weight='balanced', max_iter=10000)"
      ]
     },
     "execution_count": 28,
     "metadata": {},
     "output_type": "execute_result"
    }
   ],
   "source": [
    "logReg = LogisticRegression(max_iter=10000, class_weight='balanced')\n",
    "logReg.fit(x_train, y_train)"
   ]
  },
  {
   "cell_type": "code",
   "execution_count": 29,
   "id": "545d717a",
   "metadata": {},
   "outputs": [
    {
     "name": "stdout",
     "output_type": "stream",
     "text": [
      "0.7123629112662014\n"
     ]
    }
   ],
   "source": [
    "score = logReg.score(x_test,y_test)\n",
    "print(score)"
   ]
  },
  {
   "cell_type": "code",
   "execution_count": 30,
   "id": "d96f18fc",
   "metadata": {},
   "outputs": [
    {
     "name": "stdout",
     "output_type": "stream",
     "text": [
      "[[783 240]\n",
      " [337 646]]\n"
     ]
    }
   ],
   "source": [
    "predictions = logReg.predict(x_test)\n",
    "cm = metrics.confusion_matrix(y_test,predictions,labels=logReg.classes_)\n",
    "print(cm)"
   ]
  },
  {
   "cell_type": "code",
   "execution_count": 31,
   "id": "e971ee97",
   "metadata": {},
   "outputs": [
    {
     "data": {
      "image/png": "[encoded data removed]",
      "text/plain": [
       "<Figure size 640x480 with 2 Axes>"
      ]
     },
     "metadata": {},
     "output_type": "display_data"
    }
   ],
   "source": [
    "display = metrics.ConfusionMatrixDisplay(confusion_matrix=cm, display_labels=logReg.classes_)\n",
    "display.plot()\n",
    "plt.show()"
   ]
  },
  {
   "cell_type": "code",
   "execution_count": 32,
   "id": "0856eb7b",
   "metadata": {},
   "outputs": [
    {
     "name": "stdout",
     "output_type": "stream",
     "text": [
      "Accuracy: 0.712\n",
      "Precision: 0.729\n",
      "Recall: 0.657\n",
      "F1 Score: 0.691\n"
     ]
    }
   ],
   "source": [
    "print('Accuracy: %.3f' % accuracy_score(y_test, predictions))\n",
    "print('Precision: %.3f' % precision_score(y_test, predictions))\n",
    "print('Recall: %.3f' % recall_score(y_test, predictions))\n",
    "print('F1 Score: %.3f' % f1_score(y_test, predictions))"
   ]
  },
  {
   "cell_type": "code",
   "execution_count": 33,
   "id": "19767887",
   "metadata": {},
   "outputs": [
    {
     "data": {
      "text/plain": [
       "array([0, 0, 0, 0, 0, 0, 0, 0, 0, 0, 0, 0, 1, 0, 0, 0, 1, 1, 0, 0, 0, 0,\n",
       "       0, 0, 0, 0, 0, 0, 0, 0, 0], dtype=int64)"
      ]
     },
     "execution_count": 33,
     "metadata": {},
     "output_type": "execute_result"
    }
   ],
   "source": [
    "logreg_dec_predictions = logReg.predict(Dec21HqSplit)\n",
    "logreg_dec_predictions"
   ]
  },
  {
   "cell_type": "code",
   "execution_count": 34,
   "id": "f1d406ed",
   "metadata": {},
   "outputs": [
    {
     "data": {
      "text/plain": [
       "array([1, 0, 1, 0, 0, 0, 0, 0, 1, 1, 0, 1, 0, 0, 0, 0, 0, 0, 1, 1, 0, 1,\n",
       "       0, 0, 0, 0, 0, 0, 0, 0], dtype=int64)"
      ]
     },
     "execution_count": 34,
     "metadata": {},
     "output_type": "execute_result"
    }
   ],
   "source": [
    "logreg_jun_predictions = logReg.predict(Jun21HqSplit)\n",
    "logreg_jun_predictions"
   ]
  },
  {
   "cell_type": "code",
   "execution_count": 35,
   "id": "2eac1250",
   "metadata": {},
   "outputs": [],
   "source": [
    "pickle.dump(logReg, open('HQLogRegModel.pkl', 'wb'))"
   ]
  },
  {
   "cell_type": "markdown",
   "id": "2b1b3bba",
   "metadata": {},
   "source": [
    "### Naive Bayes"
   ]
  },
  {
   "cell_type": "code",
   "execution_count": 36,
   "id": "61d1ea2e",
   "metadata": {},
   "outputs": [
    {
     "name": "stderr",
     "output_type": "stream",
     "text": [
      "C:\\Users\\Hunts\\AppData\\Local\\Programs\\Python\\Python39\\lib\\site-packages\\sklearn\\utils\\validation.py:1141: DataConversionWarning: A column-vector y was passed when a 1d array was expected. Please change the shape of y to (n_samples, ), for example using ravel().\n",
      "  y = column_or_1d(y, warn=True)\n"
     ]
    }
   ],
   "source": [
    "bayes = GaussianNB()\n",
    "bayesPredictions = bayes.fit(x_train, y_train).predict(x_test)"
   ]
  },
  {
   "cell_type": "code",
   "execution_count": 37,
   "id": "a6d1ea36",
   "metadata": {},
   "outputs": [
    {
     "name": "stdout",
     "output_type": "stream",
     "text": [
      "[[849 174]\n",
      " [618 365]]\n"
     ]
    }
   ],
   "source": [
    "cm = metrics.confusion_matrix(y_test,bayesPredictions,labels=bayes.classes_)\n",
    "print(cm)"
   ]
  },
  {
   "cell_type": "code",
   "execution_count": 38,
   "id": "8d3adf7a",
   "metadata": {},
   "outputs": [
    {
     "data": {
      "image/png": "[encoded data removed]",
      "text/plain": [
       "<Figure size 640x480 with 2 Axes>"
      ]
     },
     "metadata": {},
     "output_type": "display_data"
    }
   ],
   "source": [
    "display = metrics.ConfusionMatrixDisplay(confusion_matrix=cm, display_labels=bayes.classes_)\n",
    "display.plot()\n",
    "plt.show()"
   ]
  },
  {
   "cell_type": "code",
   "execution_count": 39,
   "id": "40bed486",
   "metadata": {},
   "outputs": [
    {
     "name": "stdout",
     "output_type": "stream",
     "text": [
      "Accuracy: 0.605\n",
      "Precision: 0.677\n",
      "Recall: 0.371\n",
      "F1 Score: 0.480\n"
     ]
    }
   ],
   "source": [
    "print('Accuracy: %.3f' % accuracy_score(y_test, bayesPredictions))\n",
    "print('Precision: %.3f' % precision_score(y_test, bayesPredictions))\n",
    "print('Recall: %.3f' % recall_score(y_test, bayesPredictions))\n",
    "print('F1 Score: %.3f' % f1_score(y_test, bayesPredictions))"
   ]
  },
  {
   "cell_type": "code",
   "execution_count": 40,
   "id": "e5d9a4c1",
   "metadata": {},
   "outputs": [
    {
     "data": {
      "text/plain": [
       "array([0, 1, 1, 0, 0, 0, 0, 0, 0, 0, 0, 0, 0, 0, 0, 1, 1, 1, 0, 0, 0, 0,\n",
       "       0, 0, 0, 0, 0, 0, 0, 0, 1], dtype=int64)"
      ]
     },
     "execution_count": 40,
     "metadata": {},
     "output_type": "execute_result"
    }
   ],
   "source": [
    "bayes_dec_predictions = bayes.predict(Dec21HqSplit)\n",
    "bayes_dec_predictions"
   ]
  },
  {
   "cell_type": "code",
   "execution_count": 41,
   "id": "97f9ca59",
   "metadata": {},
   "outputs": [
    {
     "data": {
      "text/plain": [
       "array([0, 0, 0, 0, 0, 0, 0, 0, 0, 0, 0, 0, 0, 0, 0, 0, 0, 0, 0, 0, 0, 0,\n",
       "       0, 0, 0, 0, 0, 0, 0, 0], dtype=int64)"
      ]
     },
     "execution_count": 41,
     "metadata": {},
     "output_type": "execute_result"
    }
   ],
   "source": [
    "bayes_dec_predictions = bayes.predict(Jun21HqSplit)\n",
    "bayes_dec_predictions"
   ]
  },
  {
   "cell_type": "code",
   "execution_count": 42,
   "id": "f9c3c46d",
   "metadata": {},
   "outputs": [],
   "source": [
    "pickle.dump(bayes, open('bayesModel.pkl', 'wb'))"
   ]
  },
  {
   "cell_type": "markdown",
   "id": "aa4dd7d1",
   "metadata": {},
   "source": [
    "### Support Vector Machine"
   ]
  },
  {
   "cell_type": "code",
   "execution_count": 43,
   "id": "f4c43e85",
   "metadata": {},
   "outputs": [
    {
     "name": "stderr",
     "output_type": "stream",
     "text": [
      "C:\\Users\\Hunts\\AppData\\Local\\Programs\\Python\\Python39\\lib\\site-packages\\sklearn\\utils\\validation.py:1141: DataConversionWarning: A column-vector y was passed when a 1d array was expected. Please change the shape of y to (n_samples, ), for example using ravel().\n",
      "  y = column_or_1d(y, warn=True)\n"
     ]
    },
    {
     "data": {
      "text/html": [
       "<style>#sk-container-id-3 {color: black;background-color: white;}#sk-container-id-3 pre{padding: 0;}#sk-container-id-3 div.sk-toggleable {background-color: white;}#sk-container-id-3 label.sk-toggleable__label {cursor: pointer;display: block;width: 100%;margin-bottom: 0;padding: 0.3em;box-sizing: border-box;text-align: center;}#sk-container-id-3 label.sk-toggleable__label-arrow:before {content: \"▸\";float: left;margin-right: 0.25em;color: #696969;}#sk-container-id-3 label.sk-toggleable__label-arrow:hover:before {color: black;}#sk-container-id-3 div.sk-estimator:hover label.sk-toggleable__label-arrow:before {color: black;}#sk-container-id-3 div.sk-toggleable__content {max-height: 0;max-width: 0;overflow: hidden;text-align: left;background-color: #f0f8ff;}#sk-container-id-3 div.sk-toggleable__content pre {margin: 0.2em;color: black;border-radius: 0.25em;background-color: #f0f8ff;}#sk-container-id-3 input.sk-toggleable__control:checked~div.sk-toggleable__content {max-height: 200px;max-width: 100%;overflow: auto;}#sk-container-id-3 input.sk-toggleable__control:checked~label.sk-toggleable__label-arrow:before {content: \"▾\";}#sk-container-id-3 div.sk-estimator input.sk-toggleable__control:checked~label.sk-toggleable__label {background-color: #d4ebff;}#sk-container-id-3 div.sk-label input.sk-toggleable__control:checked~label.sk-toggleable__label {background-color: #d4ebff;}#sk-container-id-3 input.sk-hidden--visually {border: 0;clip: rect(1px 1px 1px 1px);clip: rect(1px, 1px, 1px, 1px);height: 1px;margin: -1px;overflow: hidden;padding: 0;position: absolute;width: 1px;}#sk-container-id-3 div.sk-estimator {font-family: monospace;background-color: #f0f8ff;border: 1px dotted black;border-radius: 0.25em;box-sizing: border-box;margin-bottom: 0.5em;}#sk-container-id-3 div.sk-estimator:hover {background-color: #d4ebff;}#sk-container-id-3 div.sk-parallel-item::after {content: \"\";width: 100%;border-bottom: 1px solid gray;flex-grow: 1;}#sk-container-id-3 div.sk-label:hover label.sk-toggleable__label {background-color: #d4ebff;}#sk-container-id-3 div.sk-serial::before {content: \"\";position: absolute;border-left: 1px solid gray;box-sizing: border-box;top: 0;bottom: 0;left: 50%;z-index: 0;}#sk-container-id-3 div.sk-serial {display: flex;flex-direction: column;align-items: center;background-color: white;padding-right: 0.2em;padding-left: 0.2em;position: relative;}#sk-container-id-3 div.sk-item {position: relative;z-index: 1;}#sk-container-id-3 div.sk-parallel {display: flex;align-items: stretch;justify-content: center;background-color: white;position: relative;}#sk-container-id-3 div.sk-item::before, #sk-container-id-3 div.sk-parallel-item::before {content: \"\";position: absolute;border-left: 1px solid gray;box-sizing: border-box;top: 0;bottom: 0;left: 50%;z-index: -1;}#sk-container-id-3 div.sk-parallel-item {display: flex;flex-direction: column;z-index: 1;position: relative;background-color: white;}#sk-container-id-3 div.sk-parallel-item:first-child::after {align-self: flex-end;width: 50%;}#sk-container-id-3 div.sk-parallel-item:last-child::after {align-self: flex-start;width: 50%;}#sk-container-id-3 div.sk-parallel-item:only-child::after {width: 0;}#sk-container-id-3 div.sk-dashed-wrapped {border: 1px dashed gray;margin: 0 0.4em 0.5em 0.4em;box-sizing: border-box;padding-bottom: 0.4em;background-color: white;}#sk-container-id-3 div.sk-label label {font-family: monospace;font-weight: bold;display: inline-block;line-height: 1.2em;}#sk-container-id-3 div.sk-label-container {text-align: center;}#sk-container-id-3 div.sk-container {/* jupyter's `normalize.less` sets `[hidden] { display: none; }` but bootstrap.min.css set `[hidden] { display: none !important; }` so we also need the `!important` here to be able to override the default hidden behavior on the sphinx rendered scikit-learn.org. See: https://github.com/scikit-learn/scikit-learn/issues/21755 */display: inline-block !important;position: relative;}#sk-container-id-3 div.sk-text-repr-fallback {display: none;}</style><div id=\"sk-container-id-3\" class=\"sk-top-container\"><div class=\"sk-text-repr-fallback\"><pre>SVC()</pre><b>In a Jupyter environment, please rerun this cell to show the HTML representation or trust the notebook. <br />On GitHub, the HTML representation is unable to render, please try loading this page with nbviewer.org.</b></div><div class=\"sk-container\" hidden><div class=\"sk-item\"><div class=\"sk-estimator sk-toggleable\"><input class=\"sk-toggleable__control sk-hidden--visually\" id=\"sk-estimator-id-3\" type=\"checkbox\" checked><label for=\"sk-estimator-id-3\" class=\"sk-toggleable__label sk-toggleable__label-arrow\">SVC</label><div class=\"sk-toggleable__content\"><pre>SVC()</pre></div></div></div></div></div>"
      ],
      "text/plain": [
       "SVC()"
      ]
     },
     "execution_count": 43,
     "metadata": {},
     "output_type": "execute_result"
    }
   ],
   "source": [
    "svmachine = svm.SVC()\n",
    "svmachine.fit(x_train, y_train)"
   ]
  },
  {
   "cell_type": "code",
   "execution_count": 44,
   "id": "2325ffad",
   "metadata": {},
   "outputs": [
    {
     "name": "stdout",
     "output_type": "stream",
     "text": [
      "[[870 153]\n",
      " [189 794]]\n"
     ]
    }
   ],
   "source": [
    "svmachinePredictions = svmachine.predict(x_test)\n",
    "cm = metrics.confusion_matrix(y_test,svmachinePredictions,labels=svmachine.classes_)\n",
    "print(cm)"
   ]
  },
  {
   "cell_type": "code",
   "execution_count": 45,
   "id": "38557b24",
   "metadata": {},
   "outputs": [
    {
     "data": {
      "image/png": "[encoded data removed]",
      "text/plain": [
       "<Figure size 640x480 with 2 Axes>"
      ]
     },
     "metadata": {},
     "output_type": "display_data"
    }
   ],
   "source": [
    "display = metrics.ConfusionMatrixDisplay(confusion_matrix=cm, display_labels=svmachine.classes_)\n",
    "display.plot()\n",
    "plt.show()"
   ]
  },
  {
   "cell_type": "code",
   "execution_count": 46,
   "id": "e6fc514c",
   "metadata": {},
   "outputs": [
    {
     "name": "stdout",
     "output_type": "stream",
     "text": [
      "Accuracy: 0.830\n",
      "Precision: 0.838\n",
      "Recall: 0.808\n",
      "F1 Score: 0.823\n"
     ]
    }
   ],
   "source": [
    "print('Accuracy: %.3f' % accuracy_score(y_test, svmachinePredictions))\n",
    "print('Precision: %.3f' % precision_score(y_test, svmachinePredictions))\n",
    "print('Recall: %.3f' % recall_score(y_test, svmachinePredictions))\n",
    "print('F1 Score: %.3f' % f1_score(y_test, svmachinePredictions))"
   ]
  },
  {
   "cell_type": "code",
   "execution_count": 47,
   "id": "00fd685e",
   "metadata": {},
   "outputs": [
    {
     "data": {
      "text/plain": [
       "array([0, 1, 1, 0, 0, 0, 0, 0, 0, 0, 0, 0, 0, 0, 0, 0, 0, 0, 0, 0, 0, 0,\n",
       "       0, 0, 0, 0, 1, 0, 0, 0, 0], dtype=int64)"
      ]
     },
     "execution_count": 47,
     "metadata": {},
     "output_type": "execute_result"
    }
   ],
   "source": [
    "svmachine_dec_predictions = svmachine.predict(Dec21HqSplit)\n",
    "svmachine_dec_predictions"
   ]
  },
  {
   "cell_type": "code",
   "execution_count": 48,
   "id": "ed20db96",
   "metadata": {},
   "outputs": [
    {
     "data": {
      "text/plain": [
       "array([0, 0, 0, 0, 0, 0, 0, 0, 0, 1, 0, 1, 1, 1, 1, 0, 1, 0, 1, 1, 0, 0,\n",
       "       0, 0, 0, 0, 1, 0, 0, 0], dtype=int64)"
      ]
     },
     "execution_count": 48,
     "metadata": {},
     "output_type": "execute_result"
    }
   ],
   "source": [
    "svmachine_dec_predictions = svmachine.predict(Jun21HqSplit)\n",
    "svmachine_dec_predictions"
   ]
  },
  {
   "cell_type": "code",
   "execution_count": 49,
   "id": "a6510f5a",
   "metadata": {},
   "outputs": [],
   "source": [
    "pickle.dump(svmachine, open('HQSvmachineModel.pkl', 'wb'))"
   ]
  },
  {
   "cell_type": "markdown",
   "id": "3aea989d",
   "metadata": {},
   "source": []
  }
 ],
 "metadata": {
  "kernelspec": {
   "display_name": "Python 3 (ipykernel)",
   "language": "python",
   "name": "python3"
  },
  "language_info": {
   "codemirror_mode": {
    "name": "ipython",
    "version": 3
   },
   "file_extension": ".py",
   "mimetype": "text/x-python",
   "name": "python",
   "nbconvert_exporter": "python",
   "pygments_lexer": "ipython3",
   "version": "3.9.2"
  }
 },
 "nbformat": 4,
 "nbformat_minor": 5
}
