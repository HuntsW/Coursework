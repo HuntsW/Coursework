{
 "cells": [
  {
   "cell_type": "code",
   "execution_count": 1,
   "id": "762b14a6",
   "metadata": {},
   "outputs": [],
   "source": [
    "import pandas as pd\n",
    "import numpy as np\n",
    "import matplotlib.pyplot as plt\n",
    "import matplotlib.cm as cm\n",
    "from sklearn.model_selection import RepeatedKFold\n",
    "from keras.models import Sequential\n",
    "from keras.layers import Dense\n",
    "from sklearn.metrics import accuracy_score"
   ]
  },
  {
   "cell_type": "code",
   "execution_count": 2,
   "id": "d53d780e",
   "metadata": {},
   "outputs": [
    {
     "data": {
      "text/html": [
       "<div>\n",
       "<style scoped>\n",
       "    .dataframe tbody tr th:only-of-type {\n",
       "        vertical-align: middle;\n",
       "    }\n",
       "\n",
       "    .dataframe tbody tr th {\n",
       "        vertical-align: top;\n",
       "    }\n",
       "\n",
       "    .dataframe thead th {\n",
       "        text-align: right;\n",
       "    }\n",
       "</style>\n",
       "<table border=\"1\" class=\"dataframe\">\n",
       "  <thead>\n",
       "    <tr style=\"text-align: right;\">\n",
       "      <th></th>\n",
       "      <th>Date</th>\n",
       "      <th>Bernam River</th>\n",
       "      <th>Selangor River</th>\n",
       "      <th>Buloh River</th>\n",
       "      <th>Klang River</th>\n",
       "      <th>Langat River</th>\n",
       "      <th>Sepang River</th>\n",
       "    </tr>\n",
       "  </thead>\n",
       "  <tbody>\n",
       "    <tr>\n",
       "      <th>0</th>\n",
       "      <td>2001-01-25</td>\n",
       "      <td>0</td>\n",
       "      <td>0</td>\n",
       "      <td>0</td>\n",
       "      <td>1</td>\n",
       "      <td>0</td>\n",
       "      <td>0</td>\n",
       "    </tr>\n",
       "    <tr>\n",
       "      <th>1</th>\n",
       "      <td>2001-02-19</td>\n",
       "      <td>1</td>\n",
       "      <td>0</td>\n",
       "      <td>0</td>\n",
       "      <td>0</td>\n",
       "      <td>0</td>\n",
       "      <td>0</td>\n",
       "    </tr>\n",
       "    <tr>\n",
       "      <th>2</th>\n",
       "      <td>2001-04-03</td>\n",
       "      <td>0</td>\n",
       "      <td>0</td>\n",
       "      <td>0</td>\n",
       "      <td>1</td>\n",
       "      <td>1</td>\n",
       "      <td>0</td>\n",
       "    </tr>\n",
       "    <tr>\n",
       "      <th>3</th>\n",
       "      <td>2001-04-09</td>\n",
       "      <td>0</td>\n",
       "      <td>0</td>\n",
       "      <td>0</td>\n",
       "      <td>1</td>\n",
       "      <td>1</td>\n",
       "      <td>0</td>\n",
       "    </tr>\n",
       "    <tr>\n",
       "      <th>4</th>\n",
       "      <td>2001-04-13</td>\n",
       "      <td>0</td>\n",
       "      <td>0</td>\n",
       "      <td>0</td>\n",
       "      <td>1</td>\n",
       "      <td>0</td>\n",
       "      <td>0</td>\n",
       "    </tr>\n",
       "  </tbody>\n",
       "</table>\n",
       "</div>"
      ],
      "text/plain": [
       "        Date  Bernam River  Selangor River  Buloh River  Klang River  \\\n",
       "0 2001-01-25             0               0            0            1   \n",
       "1 2001-02-19             1               0            0            0   \n",
       "2 2001-04-03             0               0            0            1   \n",
       "3 2001-04-09             0               0            0            1   \n",
       "4 2001-04-13             0               0            0            1   \n",
       "\n",
       "   Langat River  Sepang River  \n",
       "0             0             0  \n",
       "1             0             0  \n",
       "2             1             0  \n",
       "3             1             0  \n",
       "4             0             0  "
      ]
     },
     "execution_count": 2,
     "metadata": {},
     "output_type": "execute_result"
    }
   ],
   "source": [
    "floods = pd.read_excel('Flood Events Final.xlsx')\n",
    "floods = floods.drop(columns=['Unnamed: 0'])\n",
    "floods.head()"
   ]
  },
  {
   "cell_type": "code",
   "execution_count": 3,
   "id": "f7575514",
   "metadata": {},
   "outputs": [
    {
     "data": {
      "text/plain": [
       "(3652, 7)"
      ]
     },
     "execution_count": 3,
     "metadata": {},
     "output_type": "execute_result"
    }
   ],
   "source": [
    "from datetime import date, timedelta\n",
    "\n",
    "def daterange(start_date, end_date):\n",
    "    for n in range(int((end_date - start_date).days)):\n",
    "        yield start_date + timedelta(n)\n",
    "\n",
    "start_date = date(2001, 1, 1)\n",
    "end_date = date(2011, 1, 1)\n",
    "dates = []\n",
    "for single_date in daterange(start_date, end_date):\n",
    "    dates.append(single_date.strftime(\"%Y-%m-%d\"))\n",
    "\n",
    "nonFloods = pd.DataFrame({\n",
    "    'Date':dates,\n",
    "    'Bernam River':0,\n",
    "    'Selangor River':0,\n",
    "    'Buloh River':0,\n",
    "    'Klang River':0,\n",
    "    'Langat River':0,\n",
    "    'Sepang River':0,\n",
    "})\n",
    "\n",
    "nonFloods['Date'] = pd.to_datetime(nonFloods['Date'], format='%Y-%m-%d')\n",
    "nonFloods.shape"
   ]
  },
  {
   "cell_type": "code",
   "execution_count": 4,
   "id": "c43c9788",
   "metadata": {},
   "outputs": [
    {
     "name": "stderr",
     "output_type": "stream",
     "text": [
      "C:\\Users\\Hunts\\AppData\\Local\\Temp\\ipykernel_2812\\3410022939.py:1: FutureWarning: The frame.append method is deprecated and will be removed from pandas in a future version. Use pandas.concat instead.\n",
      "  floods = floods.append(nonFloods, ignore_index=True)\n"
     ]
    }
   ],
   "source": [
    "floods = floods.append(nonFloods, ignore_index=True)\n",
    "floods = floods.groupby(['Date']).sum().reset_index()"
   ]
  },
  {
   "cell_type": "code",
   "execution_count": 19,
   "id": "1f141dd6",
   "metadata": {},
   "outputs": [],
   "source": [
    "floodsFixed = []\n",
    "for i in range(3652):\n",
    "    floodsFixed.append(np.array(floods.iloc[i]))"
   ]
  },
  {
   "cell_type": "code",
   "execution_count": 5,
   "id": "73d1ce94",
   "metadata": {},
   "outputs": [
    {
     "data": {
      "text/html": [
       "<div>\n",
       "<style scoped>\n",
       "    .dataframe tbody tr th:only-of-type {\n",
       "        vertical-align: middle;\n",
       "    }\n",
       "\n",
       "    .dataframe tbody tr th {\n",
       "        vertical-align: top;\n",
       "    }\n",
       "\n",
       "    .dataframe thead th {\n",
       "        text-align: right;\n",
       "    }\n",
       "</style>\n",
       "<table border=\"1\" class=\"dataframe\">\n",
       "  <thead>\n",
       "    <tr style=\"text-align: right;\">\n",
       "      <th></th>\n",
       "      <th>time</th>\n",
       "      <th>HqPrecips</th>\n",
       "    </tr>\n",
       "  </thead>\n",
       "  <tbody>\n",
       "    <tr>\n",
       "      <th>0</th>\n",
       "      <td>2001-01-01</td>\n",
       "      <td>[1.744999885559082, 1.899999976158142, 1.55999...</td>\n",
       "    </tr>\n",
       "    <tr>\n",
       "      <th>1</th>\n",
       "      <td>2001-01-02</td>\n",
       "      <td>[6.5149993896484375, 3.3349997997283936, 0.779...</td>\n",
       "    </tr>\n",
       "    <tr>\n",
       "      <th>2</th>\n",
       "      <td>2001-01-03</td>\n",
       "      <td>[1.619999885559082, 1.125, 5.389999866485596, ...</td>\n",
       "    </tr>\n",
       "    <tr>\n",
       "      <th>3</th>\n",
       "      <td>2001-01-04</td>\n",
       "      <td>[3.509999990463257, 2.6349997520446777, 2.3450...</td>\n",
       "    </tr>\n",
       "    <tr>\n",
       "      <th>4</th>\n",
       "      <td>2001-01-05</td>\n",
       "      <td>[0.6399999856948853, 0.6349999904632568, 0.140...</td>\n",
       "    </tr>\n",
       "  </tbody>\n",
       "</table>\n",
       "</div>"
      ],
      "text/plain": [
       "        time                                          HqPrecips\n",
       "0 2001-01-01  [1.744999885559082, 1.899999976158142, 1.55999...\n",
       "1 2001-01-02  [6.5149993896484375, 3.3349997997283936, 0.779...\n",
       "2 2001-01-03  [1.619999885559082, 1.125, 5.389999866485596, ...\n",
       "3 2001-01-04  [3.509999990463257, 2.6349997520446777, 2.3450...\n",
       "4 2001-01-05  [0.6399999856948853, 0.6349999904632568, 0.140..."
      ]
     },
     "execution_count": 5,
     "metadata": {},
     "output_type": "execute_result"
    }
   ],
   "source": [
    "hqprecip = pd.read_csv('HQprecipitation Data.csv')\n",
    "\n",
    "for i in range(3652):\n",
    "    hqprecip['time'][i] = hqprecip['time'][i][:10]\n",
    "    \n",
    "hqprecip['time'] = pd.to_datetime(hqprecip['time'], format='%Y-%m-%d')\n",
    "hqprecip.head()"
   ]
  },
  {
   "cell_type": "code",
   "execution_count": 6,
   "id": "9e552413",
   "metadata": {},
   "outputs": [],
   "source": [
    "column_list = []\n",
    "for i in range(225):\n",
    "    colName = 'HqPrecip_'+str(i)\n",
    "    column_list.append(colName)\n",
    "    \n",
    "column = []\n",
    "for i in range(3652):\n",
    "    values = (hqprecip['HqPrecips'][i])[1:-1].split(', ')\n",
    "    for j in range(225):\n",
    "        values[j] = float(values[j])\n",
    "    column.append(values)\n",
    "\n",
    "HqSplit = pd.DataFrame(np.column_stack(list(zip(*column))), columns=column_list)"
   ]
  },
  {
   "cell_type": "code",
   "execution_count": 7,
   "id": "ef598f0d",
   "metadata": {},
   "outputs": [],
   "source": [
    "floods = floods.drop(columns=['Date'])"
   ]
  },
  {
   "cell_type": "markdown",
   "id": "a2af79a5",
   "metadata": {},
   "source": [
    "### Multi-Layered Perceptron Test"
   ]
  },
  {
   "cell_type": "code",
   "execution_count": 8,
   "id": "ccf8dc81",
   "metadata": {},
   "outputs": [
    {
     "data": {
      "text/plain": [
       "0.8762322015334063"
      ]
     },
     "execution_count": 8,
     "metadata": {},
     "output_type": "execute_result"
    }
   ],
   "source": [
    "from sklearn.neural_network import MLPClassifier\n",
    "from sklearn.model_selection import train_test_split\n",
    "\n",
    "X_train, X_test, y_train, y_test = train_test_split(HqSplit, floods, random_state=42)\n",
    "clf = MLPClassifier(random_state=42, max_iter=300).fit(X_train, y_train)\n",
    "clf.score(X_test, y_test)"
   ]
  },
  {
   "cell_type": "code",
   "execution_count": 9,
   "id": "96671ef7",
   "metadata": {},
   "outputs": [
    {
     "name": "stdout",
     "output_type": "stream",
     "text": [
      "[[[908   0]\n",
      "  [  5   0]]\n",
      "\n",
      " [[899   5]\n",
      "  [  9   0]]\n",
      "\n",
      " [[906   0]\n",
      "  [  7   0]]\n",
      "\n",
      " [[842  23]\n",
      "  [ 43   5]]\n",
      "\n",
      " [[873   9]\n",
      "  [ 31   0]]\n",
      "\n",
      " [[911   0]\n",
      "  [  2   0]]]\n"
     ]
    }
   ],
   "source": [
    "from sklearn import metrics\n",
    "\n",
    "predictions = clf.predict(X_test)\n",
    "cm = metrics.multilabel_confusion_matrix(y_test,predictions)\n",
    "print(cm)"
   ]
  },
  {
   "cell_type": "markdown",
   "id": "e9f66dfa",
   "metadata": {},
   "source": [
    "### Label Powerset Attempt"
   ]
  },
  {
   "cell_type": "code",
   "execution_count": 33,
   "id": "fe6aaa04",
   "metadata": {},
   "outputs": [],
   "source": [
    "floods['powerLabel'] = floods.apply(lambda x: 32*x['Bernam River']+16*x[\"Selangor River\"]+8*x['Buloh River']+4*x['Klang River']+2*x['Langat River']+1*x['Sepang River'],axis=1)"
   ]
  },
  {
   "cell_type": "code",
   "execution_count": 76,
   "id": "006a01f2",
   "metadata": {},
   "outputs": [
    {
     "data": {
      "text/plain": [
       "0"
      ]
     },
     "execution_count": 76,
     "metadata": {},
     "output_type": "execute_result"
    }
   ],
   "source": [
    "floods['powerLabel'].isna().sum()"
   ]
  },
  {
   "cell_type": "code",
   "execution_count": 62,
   "id": "38122b48",
   "metadata": {},
   "outputs": [],
   "source": [
    "from skmultilearn.problem_transform import LabelPowerset\n",
    "from sklearn.ensemble import RandomForestClassifier\n",
    "\n",
    "# classifier = LabelPowerset(\n",
    "#     classifier = RandomForestClassifier(n_estimators=100)\n",
    "# )\n",
    "\n",
    "classifier = RandomForestClassifier(n_estimators=100)\n",
    "classifier.fit(X_train, y_train)\n",
    "\n",
    "predicitons = classifier.predict(X_test)"
   ]
  },
  {
   "cell_type": "code",
   "execution_count": 63,
   "id": "9cca52e2",
   "metadata": {},
   "outputs": [
    {
     "name": "stdout",
     "output_type": "stream",
     "text": [
      "[[[17552     4]\n",
      "  [   46   779]]\n",
      "\n",
      " [[17547     0]\n",
      "  [    0   834]]\n",
      "\n",
      " [[17524    17]\n",
      "  [    0   840]]\n",
      "\n",
      " [[17544    19]\n",
      "  [    4   814]]\n",
      "\n",
      " [[17527     3]\n",
      "  [    0   851]]\n",
      "\n",
      " [[17578     2]\n",
      "  [    0   801]]\n",
      "\n",
      " [[17558     0]\n",
      "  [    0   823]]\n",
      "\n",
      " [[17514     0]\n",
      "  [    0   867]]\n",
      "\n",
      " [[17551     0]\n",
      "  [    0   830]]\n",
      "\n",
      " [[17502     3]\n",
      "  [    0   876]]\n",
      "\n",
      " [[17496     0]\n",
      "  [    0   885]]\n",
      "\n",
      " [[17507     0]\n",
      "  [    0   874]]\n",
      "\n",
      " [[17535     0]\n",
      "  [    0   846]]\n",
      "\n",
      " [[17579     0]\n",
      "  [    0   802]]\n",
      "\n",
      " [[17560     2]\n",
      "  [    0   819]]\n",
      "\n",
      " [[17531     0]\n",
      "  [    0   850]]\n",
      "\n",
      " [[17564     0]\n",
      "  [    0   817]]\n",
      "\n",
      " [[17581     0]\n",
      "  [    0   800]]\n",
      "\n",
      " [[17580     0]\n",
      "  [    0   801]]\n",
      "\n",
      " [[17510     0]\n",
      "  [    0   871]]\n",
      "\n",
      " [[17553     0]\n",
      "  [    0   828]]\n",
      "\n",
      " [[17558     0]\n",
      "  [    0   823]]]\n"
     ]
    }
   ],
   "source": [
    "cm = metrics.multilabel_confusion_matrix(y_test,predictions)\n",
    "print(cm)"
   ]
  },
  {
   "cell_type": "code",
   "execution_count": 38,
   "id": "2f8d315a",
   "metadata": {},
   "outputs": [
    {
     "ename": "ValueError",
     "evalue": "Expected n_neighbors <= n_samples,  but n_samples = 2, n_neighbors = 6",
     "output_type": "error",
     "traceback": [
      "\u001b[1;31m---------------------------------------------------------------------------\u001b[0m",
      "\u001b[1;31mValueError\u001b[0m                                Traceback (most recent call last)",
      "Cell \u001b[1;32mIn [38], line 3\u001b[0m\n\u001b[0;32m      1\u001b[0m \u001b[38;5;28;01mimport\u001b[39;00m \u001b[38;5;21;01mimblearn\u001b[39;00m\n\u001b[0;32m      2\u001b[0m oversample \u001b[38;5;241m=\u001b[39m imblearn\u001b[38;5;241m.\u001b[39mover_sampling\u001b[38;5;241m.\u001b[39mSMOTE()\n\u001b[1;32m----> 3\u001b[0m HqSplit, floods \u001b[38;5;241m=\u001b[39m oversample\u001b[38;5;241m.\u001b[39mfit_resample(HqSplit, floods[\u001b[38;5;124m'\u001b[39m\u001b[38;5;124mpowerLabel\u001b[39m\u001b[38;5;124m'\u001b[39m])\n",
      "File \u001b[1;32m~\\AppData\\Local\\Programs\\Python\\Python39\\lib\\site-packages\\imblearn\\base.py:203\u001b[0m, in \u001b[0;36mBaseSampler.fit_resample\u001b[1;34m(self, X, y)\u001b[0m\n\u001b[0;32m    182\u001b[0m \u001b[38;5;124;03m\"\"\"Resample the dataset.\u001b[39;00m\n\u001b[0;32m    183\u001b[0m \n\u001b[0;32m    184\u001b[0m \u001b[38;5;124;03mParameters\u001b[39;00m\n\u001b[1;32m   (...)\u001b[0m\n\u001b[0;32m    200\u001b[0m \u001b[38;5;124;03m    The corresponding label of `X_resampled`.\u001b[39;00m\n\u001b[0;32m    201\u001b[0m \u001b[38;5;124;03m\"\"\"\u001b[39;00m\n\u001b[0;32m    202\u001b[0m \u001b[38;5;28mself\u001b[39m\u001b[38;5;241m.\u001b[39m_validate_params()\n\u001b[1;32m--> 203\u001b[0m \u001b[38;5;28;01mreturn\u001b[39;00m \u001b[38;5;28;43msuper\u001b[39;49m\u001b[43m(\u001b[49m\u001b[43m)\u001b[49m\u001b[38;5;241;43m.\u001b[39;49m\u001b[43mfit_resample\u001b[49m\u001b[43m(\u001b[49m\u001b[43mX\u001b[49m\u001b[43m,\u001b[49m\u001b[43m \u001b[49m\u001b[43my\u001b[49m\u001b[43m)\u001b[49m\n",
      "File \u001b[1;32m~\\AppData\\Local\\Programs\\Python\\Python39\\lib\\site-packages\\imblearn\\base.py:88\u001b[0m, in \u001b[0;36mSamplerMixin.fit_resample\u001b[1;34m(self, X, y)\u001b[0m\n\u001b[0;32m     82\u001b[0m X, y, binarize_y \u001b[38;5;241m=\u001b[39m \u001b[38;5;28mself\u001b[39m\u001b[38;5;241m.\u001b[39m_check_X_y(X, y)\n\u001b[0;32m     84\u001b[0m \u001b[38;5;28mself\u001b[39m\u001b[38;5;241m.\u001b[39msampling_strategy_ \u001b[38;5;241m=\u001b[39m check_sampling_strategy(\n\u001b[0;32m     85\u001b[0m     \u001b[38;5;28mself\u001b[39m\u001b[38;5;241m.\u001b[39msampling_strategy, y, \u001b[38;5;28mself\u001b[39m\u001b[38;5;241m.\u001b[39m_sampling_type\n\u001b[0;32m     86\u001b[0m )\n\u001b[1;32m---> 88\u001b[0m output \u001b[38;5;241m=\u001b[39m \u001b[38;5;28;43mself\u001b[39;49m\u001b[38;5;241;43m.\u001b[39;49m\u001b[43m_fit_resample\u001b[49m\u001b[43m(\u001b[49m\u001b[43mX\u001b[49m\u001b[43m,\u001b[49m\u001b[43m \u001b[49m\u001b[43my\u001b[49m\u001b[43m)\u001b[49m\n\u001b[0;32m     90\u001b[0m y_ \u001b[38;5;241m=\u001b[39m (\n\u001b[0;32m     91\u001b[0m     label_binarize(output[\u001b[38;5;241m1\u001b[39m], classes\u001b[38;5;241m=\u001b[39mnp\u001b[38;5;241m.\u001b[39munique(y)) \u001b[38;5;28;01mif\u001b[39;00m binarize_y \u001b[38;5;28;01melse\u001b[39;00m output[\u001b[38;5;241m1\u001b[39m]\n\u001b[0;32m     92\u001b[0m )\n\u001b[0;32m     94\u001b[0m X_, y_ \u001b[38;5;241m=\u001b[39m arrays_transformer\u001b[38;5;241m.\u001b[39mtransform(output[\u001b[38;5;241m0\u001b[39m], y_)\n",
      "File \u001b[1;32m~\\AppData\\Local\\Programs\\Python\\Python39\\lib\\site-packages\\imblearn\\over_sampling\\_smote\\base.py:355\u001b[0m, in \u001b[0;36mSMOTE._fit_resample\u001b[1;34m(self, X, y)\u001b[0m\n\u001b[0;32m    352\u001b[0m X_class \u001b[38;5;241m=\u001b[39m _safe_indexing(X, target_class_indices)\n\u001b[0;32m    354\u001b[0m \u001b[38;5;28mself\u001b[39m\u001b[38;5;241m.\u001b[39mnn_k_\u001b[38;5;241m.\u001b[39mfit(X_class)\n\u001b[1;32m--> 355\u001b[0m nns \u001b[38;5;241m=\u001b[39m \u001b[38;5;28;43mself\u001b[39;49m\u001b[38;5;241;43m.\u001b[39;49m\u001b[43mnn_k_\u001b[49m\u001b[38;5;241;43m.\u001b[39;49m\u001b[43mkneighbors\u001b[49m\u001b[43m(\u001b[49m\u001b[43mX_class\u001b[49m\u001b[43m,\u001b[49m\u001b[43m \u001b[49m\u001b[43mreturn_distance\u001b[49m\u001b[38;5;241;43m=\u001b[39;49m\u001b[38;5;28;43;01mFalse\u001b[39;49;00m\u001b[43m)\u001b[49m[:, \u001b[38;5;241m1\u001b[39m:]\n\u001b[0;32m    356\u001b[0m X_new, y_new \u001b[38;5;241m=\u001b[39m \u001b[38;5;28mself\u001b[39m\u001b[38;5;241m.\u001b[39m_make_samples(\n\u001b[0;32m    357\u001b[0m     X_class, y\u001b[38;5;241m.\u001b[39mdtype, class_sample, X_class, nns, n_samples, \u001b[38;5;241m1.0\u001b[39m\n\u001b[0;32m    358\u001b[0m )\n\u001b[0;32m    359\u001b[0m X_resampled\u001b[38;5;241m.\u001b[39mappend(X_new)\n",
      "File \u001b[1;32m~\\AppData\\Local\\Programs\\Python\\Python39\\lib\\site-packages\\sklearn\\neighbors\\_base.py:810\u001b[0m, in \u001b[0;36mKNeighborsMixin.kneighbors\u001b[1;34m(self, X, n_neighbors, return_distance)\u001b[0m\n\u001b[0;32m    808\u001b[0m n_samples_fit \u001b[38;5;241m=\u001b[39m \u001b[38;5;28mself\u001b[39m\u001b[38;5;241m.\u001b[39mn_samples_fit_\n\u001b[0;32m    809\u001b[0m \u001b[38;5;28;01mif\u001b[39;00m n_neighbors \u001b[38;5;241m>\u001b[39m n_samples_fit:\n\u001b[1;32m--> 810\u001b[0m     \u001b[38;5;28;01mraise\u001b[39;00m \u001b[38;5;167;01mValueError\u001b[39;00m(\n\u001b[0;32m    811\u001b[0m         \u001b[38;5;124m\"\u001b[39m\u001b[38;5;124mExpected n_neighbors <= n_samples, \u001b[39m\u001b[38;5;124m\"\u001b[39m\n\u001b[0;32m    812\u001b[0m         \u001b[38;5;124m\"\u001b[39m\u001b[38;5;124m but n_samples = \u001b[39m\u001b[38;5;132;01m%d\u001b[39;00m\u001b[38;5;124m, n_neighbors = \u001b[39m\u001b[38;5;132;01m%d\u001b[39;00m\u001b[38;5;124m\"\u001b[39m \u001b[38;5;241m%\u001b[39m (n_samples_fit, n_neighbors)\n\u001b[0;32m    813\u001b[0m     )\n\u001b[0;32m    815\u001b[0m n_jobs \u001b[38;5;241m=\u001b[39m effective_n_jobs(\u001b[38;5;28mself\u001b[39m\u001b[38;5;241m.\u001b[39mn_jobs)\n\u001b[0;32m    816\u001b[0m chunked_results \u001b[38;5;241m=\u001b[39m \u001b[38;5;28;01mNone\u001b[39;00m\n",
      "\u001b[1;31mValueError\u001b[0m: Expected n_neighbors <= n_samples,  but n_samples = 2, n_neighbors = 6"
     ]
    }
   ],
   "source": [
    "import imblearn\n",
    "oversample = imblearn.over_sampling.SMOTE()\n",
    "HqSplit, floods = oversample.fit_resample(HqSplit, floods['powerLabel'])"
   ]
  },
  {
   "cell_type": "code",
   "execution_count": 119,
   "id": "637c8735",
   "metadata": {},
   "outputs": [
    {
     "data": {
      "text/plain": [
       "0     3342\n",
       "4      131\n",
       "2       78\n",
       "16      22\n",
       "6       18\n",
       "8       17\n",
       "12       7\n",
       "32       6\n",
       "18       5\n",
       "22       4\n",
       "14       4\n",
       "10       3\n",
       "36       3\n",
       "48       2\n",
       "34       2\n",
       "1        2\n",
       "21       1\n",
       "46       1\n",
       "20       1\n",
       "30       1\n",
       "56       1\n",
       "17       1\n",
       "Name: powerLabel, dtype: int64"
      ]
     },
     "execution_count": 119,
     "metadata": {},
     "output_type": "execute_result"
    }
   ],
   "source": [
    "floods['powerLabel'].value_counts()"
   ]
  },
  {
   "cell_type": "code",
   "execution_count": null,
   "id": "acdb26b2",
   "metadata": {},
   "outputs": [],
   "source": [
    "samplingDict = {0:0}"
   ]
  },
  {
   "cell_type": "code",
   "execution_count": 118,
   "id": "2a8ef2dd",
   "metadata": {},
   "outputs": [],
   "source": [
    "ROS = imblearn.over_sampling.RandomOverSampler(random_state=42)\n",
    "X_res, y_res = ROS.fit_resample(HqSplit, floods['powerLabel'])"
   ]
  },
  {
   "cell_type": "code",
   "execution_count": 111,
   "id": "cfe92e16",
   "metadata": {},
   "outputs": [
    {
     "data": {
      "text/plain": [
       "0         0\n",
       "1         0\n",
       "2         0\n",
       "3         0\n",
       "4         0\n",
       "         ..\n",
       "73519    56\n",
       "73520    56\n",
       "73521    56\n",
       "73522    56\n",
       "73523    56\n",
       "Name: powerLabel, Length: 73524, dtype: int64"
      ]
     },
     "execution_count": 111,
     "metadata": {},
     "output_type": "execute_result"
    }
   ],
   "source": [
    "y_res = y_res.fillna(value=0)\n",
    "y_res"
   ]
  },
  {
   "cell_type": "code",
   "execution_count": 112,
   "id": "100e428a",
   "metadata": {},
   "outputs": [],
   "source": [
    "def unpowerLabel(label):\n",
    "    value = int(bin(int(label))[2:])\n",
    "    values = [int(x) for x in str(value)]\n",
    "    while len(values) != 6:\n",
    "        values.insert(0,0)\n",
    "    return values"
   ]
  },
  {
   "cell_type": "code",
   "execution_count": 113,
   "id": "5eaf43be",
   "metadata": {},
   "outputs": [],
   "source": [
    "y_unpowered = []\n",
    "for i in range(len(y_res)):\n",
    "    y_unpowered.append(unpowerLabel(y_res[i]))"
   ]
  },
  {
   "cell_type": "markdown",
   "id": "fcc3f929",
   "metadata": {},
   "source": [
    "### Multiple Logistic Regression"
   ]
  },
  {
   "cell_type": "code",
   "execution_count": 122,
   "id": "d64f75b3",
   "metadata": {},
   "outputs": [],
   "source": [
    "from sklearn.multioutput import MultiOutputClassifier\n",
    "from sklearn.linear_model import LogisticRegression\n",
    "\n",
    "multiClf = MultiOutputClassifier(LogisticRegression(max_iter=10000)).fit(X_train,y_train)"
   ]
  },
  {
   "cell_type": "code",
   "execution_count": 128,
   "id": "7ed9a877",
   "metadata": {},
   "outputs": [
    {
     "data": {
      "text/plain": [
       "array([[2.27269884e-03, 9.97727301e-01],\n",
       "       [1.00000000e+00, 1.35237192e-10],\n",
       "       [1.81775802e-03, 9.98182242e-01],\n",
       "       ...,\n",
       "       [5.32373874e-05, 9.99946763e-01],\n",
       "       [9.99942928e-01, 5.70720618e-05],\n",
       "       [9.99989439e-01, 1.05610782e-05]])"
      ]
     },
     "execution_count": 128,
     "metadata": {},
     "output_type": "execute_result"
    }
   ],
   "source": [
    "multiPredictions = multiClf.predict_proba(X_test)\n",
    "multiPredictions[0]"
   ]
  },
  {
   "cell_type": "code",
   "execution_count": 131,
   "id": "7849adf6",
   "metadata": {},
   "outputs": [
    {
     "data": {
      "text/plain": [
       "0.9381970513029759"
      ]
     },
     "execution_count": 131,
     "metadata": {},
     "output_type": "execute_result"
    }
   ],
   "source": [
    "multiScore = multiClf.score(X_test,np.array(y_test))\n",
    "multiScore"
   ]
  },
  {
   "cell_type": "code",
   "execution_count": 116,
   "id": "eb78404c",
   "metadata": {},
   "outputs": [
    {
     "data": {
      "text/plain": [
       "0.9956476796692236"
      ]
     },
     "execution_count": 116,
     "metadata": {},
     "output_type": "execute_result"
    }
   ],
   "source": [
    "X_train, X_test, y_train, y_test = train_test_split(X_res, y_unpowered, random_state=42)\n",
    "clf = MLPClassifier(random_state=42, max_iter=300).fit(X_train, y_train)\n",
    "clf.score(X_test, y_test)"
   ]
  },
  {
   "cell_type": "code",
   "execution_count": 45,
   "id": "6bc18752",
   "metadata": {},
   "outputs": [
    {
     "data": {
      "text/plain": [
       "0.9972797997932648"
      ]
     },
     "execution_count": 45,
     "metadata": {},
     "output_type": "execute_result"
    }
   ],
   "source": [
    "X_train, X_test, y_train, y_test = train_test_split(X_res, y_res, random_state=42)\n",
    "clf = MLPClassifier(random_state=42, max_iter=300).fit(X_train, y_train)\n",
    "clf.score(X_test, y_test)"
   ]
  },
  {
   "cell_type": "code",
   "execution_count": 46,
   "id": "d0c24eab",
   "metadata": {},
   "outputs": [
    {
     "name": "stdout",
     "output_type": "stream",
     "text": [
      "[[[17552     4]\n",
      "  [   46   779]]\n",
      "\n",
      " [[17547     0]\n",
      "  [    0   834]]\n",
      "\n",
      " [[17524    17]\n",
      "  [    0   840]]\n",
      "\n",
      " [[17544    19]\n",
      "  [    4   814]]\n",
      "\n",
      " [[17527     3]\n",
      "  [    0   851]]\n",
      "\n",
      " [[17578     2]\n",
      "  [    0   801]]\n",
      "\n",
      " [[17558     0]\n",
      "  [    0   823]]\n",
      "\n",
      " [[17514     0]\n",
      "  [    0   867]]\n",
      "\n",
      " [[17551     0]\n",
      "  [    0   830]]\n",
      "\n",
      " [[17502     3]\n",
      "  [    0   876]]\n",
      "\n",
      " [[17496     0]\n",
      "  [    0   885]]\n",
      "\n",
      " [[17507     0]\n",
      "  [    0   874]]\n",
      "\n",
      " [[17535     0]\n",
      "  [    0   846]]\n",
      "\n",
      " [[17579     0]\n",
      "  [    0   802]]\n",
      "\n",
      " [[17560     2]\n",
      "  [    0   819]]\n",
      "\n",
      " [[17531     0]\n",
      "  [    0   850]]\n",
      "\n",
      " [[17564     0]\n",
      "  [    0   817]]\n",
      "\n",
      " [[17581     0]\n",
      "  [    0   800]]\n",
      "\n",
      " [[17580     0]\n",
      "  [    0   801]]\n",
      "\n",
      " [[17510     0]\n",
      "  [    0   871]]\n",
      "\n",
      " [[17553     0]\n",
      "  [    0   828]]\n",
      "\n",
      " [[17558     0]\n",
      "  [    0   823]]]\n"
     ]
    }
   ],
   "source": [
    "predictions = clf.predict(X_test)\n",
    "cm = metrics.multilabel_confusion_matrix(y_test,predictions)\n",
    "print(cm)"
   ]
  },
  {
   "cell_type": "code",
   "execution_count": 47,
   "id": "bce1bbeb",
   "metadata": {},
   "outputs": [],
   "source": [
    "test = pd.read_csv('HQprecipitation Data Test.csv')"
   ]
  },
  {
   "cell_type": "code",
   "execution_count": 49,
   "id": "5cbd7642",
   "metadata": {},
   "outputs": [
    {
     "data": {
      "text/html": [
       "<div>\n",
       "<style scoped>\n",
       "    .dataframe tbody tr th:only-of-type {\n",
       "        vertical-align: middle;\n",
       "    }\n",
       "\n",
       "    .dataframe tbody tr th {\n",
       "        vertical-align: top;\n",
       "    }\n",
       "\n",
       "    .dataframe thead th {\n",
       "        text-align: right;\n",
       "    }\n",
       "</style>\n",
       "<table border=\"1\" class=\"dataframe\">\n",
       "  <thead>\n",
       "    <tr style=\"text-align: right;\">\n",
       "      <th></th>\n",
       "      <th>time</th>\n",
       "      <th>HqPrecips</th>\n",
       "    </tr>\n",
       "  </thead>\n",
       "  <tbody>\n",
       "    <tr>\n",
       "      <th>0</th>\n",
       "      <td>2021-12-01</td>\n",
       "      <td>[0.10499999672174454, 0.09999999403953552, 0.0...</td>\n",
       "    </tr>\n",
       "    <tr>\n",
       "      <th>1</th>\n",
       "      <td>2021-12-02</td>\n",
       "      <td>[2.5199999809265137, 2.4600002765655518, 2.230...</td>\n",
       "    </tr>\n",
       "    <tr>\n",
       "      <th>2</th>\n",
       "      <td>2021-12-03</td>\n",
       "      <td>[1.9449999332427979, 0.1549999862909317, 0.014...</td>\n",
       "    </tr>\n",
       "    <tr>\n",
       "      <th>3</th>\n",
       "      <td>2021-12-04</td>\n",
       "      <td>[0.019999999552965164, 0.17499999701976776, 0....</td>\n",
       "    </tr>\n",
       "    <tr>\n",
       "      <th>4</th>\n",
       "      <td>2021-12-05</td>\n",
       "      <td>[0.029999999329447746, 0.03500000014901161, 0....</td>\n",
       "    </tr>\n",
       "  </tbody>\n",
       "</table>\n",
       "</div>"
      ],
      "text/plain": [
       "        time                                          HqPrecips\n",
       "0 2021-12-01  [0.10499999672174454, 0.09999999403953552, 0.0...\n",
       "1 2021-12-02  [2.5199999809265137, 2.4600002765655518, 2.230...\n",
       "2 2021-12-03  [1.9449999332427979, 0.1549999862909317, 0.014...\n",
       "3 2021-12-04  [0.019999999552965164, 0.17499999701976776, 0....\n",
       "4 2021-12-05  [0.029999999329447746, 0.03500000014901161, 0...."
      ]
     },
     "execution_count": 49,
     "metadata": {},
     "output_type": "execute_result"
    }
   ],
   "source": [
    "for i in range(31):\n",
    "    test['time'][i] = test['time'][i][:10]\n",
    "    \n",
    "test['time'] = pd.to_datetime(test['time'], format='%Y-%m-%d')\n",
    "test.head()"
   ]
  },
  {
   "cell_type": "code",
   "execution_count": 50,
   "id": "f287669f",
   "metadata": {},
   "outputs": [],
   "source": [
    "column_list = []\n",
    "for i in range(225):\n",
    "    colName = 'HqPrecip_'+str(i)\n",
    "    column_list.append(colName)\n",
    "    \n",
    "column = []\n",
    "for i in range(31):\n",
    "    values = (test['HqPrecips'][i])[1:-1].split(', ')\n",
    "    for j in range(225):\n",
    "        values[j] = float(values[j])\n",
    "    column.append(values)\n",
    "\n",
    "testSplit = pd.DataFrame(np.column_stack(list(zip(*column))), columns=column_list)"
   ]
  },
  {
   "cell_type": "code",
   "execution_count": 132,
   "id": "a89dbdf6",
   "metadata": {},
   "outputs": [
    {
     "data": {
      "text/plain": [
       "array([[0, 0, 0, 0, 0, 0],\n",
       "       [0, 0, 0, 0, 0, 0],\n",
       "       [0, 0, 0, 0, 0, 0],\n",
       "       [0, 0, 0, 0, 0, 0],\n",
       "       [0, 0, 0, 0, 0, 0],\n",
       "       [0, 1, 0, 0, 1, 0],\n",
       "       [0, 0, 0, 0, 0, 0],\n",
       "       [0, 0, 0, 0, 0, 0],\n",
       "       [0, 1, 0, 0, 0, 0],\n",
       "       [0, 0, 0, 1, 0, 0],\n",
       "       [0, 0, 0, 0, 0, 0],\n",
       "       [1, 0, 0, 0, 0, 0],\n",
       "       [0, 0, 0, 1, 0, 0],\n",
       "       [0, 0, 0, 1, 0, 0],\n",
       "       [0, 0, 0, 1, 0, 0],\n",
       "       [0, 0, 0, 1, 0, 0],\n",
       "       [0, 0, 0, 0, 1, 0],\n",
       "       [0, 0, 0, 0, 0, 0],\n",
       "       [0, 0, 0, 0, 0, 0],\n",
       "       [0, 0, 0, 0, 0, 0],\n",
       "       [0, 0, 0, 1, 0, 0],\n",
       "       [0, 1, 0, 0, 0, 0],\n",
       "       [0, 0, 0, 0, 0, 0],\n",
       "       [0, 0, 0, 0, 0, 0],\n",
       "       [0, 1, 1, 0, 0, 0],\n",
       "       [0, 0, 0, 0, 0, 0],\n",
       "       [0, 1, 0, 0, 0, 0],\n",
       "       [0, 0, 0, 0, 0, 0],\n",
       "       [0, 1, 1, 0, 0, 0],\n",
       "       [0, 0, 0, 0, 0, 0],\n",
       "       [0, 0, 0, 0, 0, 0]])"
      ]
     },
     "execution_count": 132,
     "metadata": {},
     "output_type": "execute_result"
    }
   ],
   "source": [
    "testPreds = multiClf.predict(testSplit)\n",
    "testPreds"
   ]
  },
  {
   "cell_type": "code",
   "execution_count": 133,
   "id": "48b327ab",
   "metadata": {},
   "outputs": [
    {
     "data": {
      "text/html": [
       "<div>\n",
       "<style scoped>\n",
       "    .dataframe tbody tr th:only-of-type {\n",
       "        vertical-align: middle;\n",
       "    }\n",
       "\n",
       "    .dataframe tbody tr th {\n",
       "        vertical-align: top;\n",
       "    }\n",
       "\n",
       "    .dataframe thead th {\n",
       "        text-align: right;\n",
       "    }\n",
       "</style>\n",
       "<table border=\"1\" class=\"dataframe\">\n",
       "  <thead>\n",
       "    <tr style=\"text-align: right;\">\n",
       "      <th></th>\n",
       "      <th>Bernam River</th>\n",
       "      <th>Selangor River</th>\n",
       "      <th>Buloh River</th>\n",
       "      <th>Klang River</th>\n",
       "      <th>Langat River</th>\n",
       "      <th>Sepang River</th>\n",
       "      <th>powerLabel</th>\n",
       "    </tr>\n",
       "  </thead>\n",
       "  <tbody>\n",
       "    <tr>\n",
       "      <th>0</th>\n",
       "      <td>0</td>\n",
       "      <td>0</td>\n",
       "      <td>0</td>\n",
       "      <td>0</td>\n",
       "      <td>0</td>\n",
       "      <td>0</td>\n",
       "      <td>0</td>\n",
       "    </tr>\n",
       "    <tr>\n",
       "      <th>1</th>\n",
       "      <td>0</td>\n",
       "      <td>0</td>\n",
       "      <td>0</td>\n",
       "      <td>0</td>\n",
       "      <td>0</td>\n",
       "      <td>0</td>\n",
       "      <td>0</td>\n",
       "    </tr>\n",
       "    <tr>\n",
       "      <th>2</th>\n",
       "      <td>0</td>\n",
       "      <td>0</td>\n",
       "      <td>0</td>\n",
       "      <td>0</td>\n",
       "      <td>0</td>\n",
       "      <td>0</td>\n",
       "      <td>0</td>\n",
       "    </tr>\n",
       "    <tr>\n",
       "      <th>3</th>\n",
       "      <td>0</td>\n",
       "      <td>0</td>\n",
       "      <td>0</td>\n",
       "      <td>0</td>\n",
       "      <td>0</td>\n",
       "      <td>0</td>\n",
       "      <td>0</td>\n",
       "    </tr>\n",
       "    <tr>\n",
       "      <th>4</th>\n",
       "      <td>0</td>\n",
       "      <td>0</td>\n",
       "      <td>0</td>\n",
       "      <td>0</td>\n",
       "      <td>0</td>\n",
       "      <td>0</td>\n",
       "      <td>0</td>\n",
       "    </tr>\n",
       "    <tr>\n",
       "      <th>...</th>\n",
       "      <td>...</td>\n",
       "      <td>...</td>\n",
       "      <td>...</td>\n",
       "      <td>...</td>\n",
       "      <td>...</td>\n",
       "      <td>...</td>\n",
       "      <td>...</td>\n",
       "    </tr>\n",
       "    <tr>\n",
       "      <th>3647</th>\n",
       "      <td>0</td>\n",
       "      <td>0</td>\n",
       "      <td>0</td>\n",
       "      <td>0</td>\n",
       "      <td>0</td>\n",
       "      <td>0</td>\n",
       "      <td>0</td>\n",
       "    </tr>\n",
       "    <tr>\n",
       "      <th>3648</th>\n",
       "      <td>0</td>\n",
       "      <td>0</td>\n",
       "      <td>0</td>\n",
       "      <td>0</td>\n",
       "      <td>0</td>\n",
       "      <td>0</td>\n",
       "      <td>0</td>\n",
       "    </tr>\n",
       "    <tr>\n",
       "      <th>3649</th>\n",
       "      <td>0</td>\n",
       "      <td>0</td>\n",
       "      <td>0</td>\n",
       "      <td>0</td>\n",
       "      <td>0</td>\n",
       "      <td>0</td>\n",
       "      <td>0</td>\n",
       "    </tr>\n",
       "    <tr>\n",
       "      <th>3650</th>\n",
       "      <td>0</td>\n",
       "      <td>0</td>\n",
       "      <td>0</td>\n",
       "      <td>0</td>\n",
       "      <td>0</td>\n",
       "      <td>0</td>\n",
       "      <td>0</td>\n",
       "    </tr>\n",
       "    <tr>\n",
       "      <th>3651</th>\n",
       "      <td>0</td>\n",
       "      <td>0</td>\n",
       "      <td>0</td>\n",
       "      <td>0</td>\n",
       "      <td>0</td>\n",
       "      <td>0</td>\n",
       "      <td>0</td>\n",
       "    </tr>\n",
       "  </tbody>\n",
       "</table>\n",
       "<p>3652 rows × 7 columns</p>\n",
       "</div>"
      ],
      "text/plain": [
       "      Bernam River  Selangor River  Buloh River  Klang River  Langat River  \\\n",
       "0                0               0            0            0             0   \n",
       "1                0               0            0            0             0   \n",
       "2                0               0            0            0             0   \n",
       "3                0               0            0            0             0   \n",
       "4                0               0            0            0             0   \n",
       "...            ...             ...          ...          ...           ...   \n",
       "3647             0               0            0            0             0   \n",
       "3648             0               0            0            0             0   \n",
       "3649             0               0            0            0             0   \n",
       "3650             0               0            0            0             0   \n",
       "3651             0               0            0            0             0   \n",
       "\n",
       "      Sepang River  powerLabel  \n",
       "0                0           0  \n",
       "1                0           0  \n",
       "2                0           0  \n",
       "3                0           0  \n",
       "4                0           0  \n",
       "...            ...         ...  \n",
       "3647             0           0  \n",
       "3648             0           0  \n",
       "3649             0           0  \n",
       "3650             0           0  \n",
       "3651             0           0  \n",
       "\n",
       "[3652 rows x 7 columns]"
      ]
     },
     "execution_count": 133,
     "metadata": {},
     "output_type": "execute_result"
    }
   ],
   "source": [
    "floods"
   ]
  },
  {
   "cell_type": "code",
   "execution_count": null,
   "id": "02b66605",
   "metadata": {},
   "outputs": [],
   "source": []
  }
 ],
 "metadata": {
  "kernelspec": {
   "display_name": "Python 3 (ipykernel)",
   "language": "python",
   "name": "python3"
  },
  "language_info": {
   "codemirror_mode": {
    "name": "ipython",
    "version": 3
   },
   "file_extension": ".py",
   "mimetype": "text/x-python",
   "name": "python",
   "nbconvert_exporter": "python",
   "pygments_lexer": "ipython3",
   "version": "3.9.2"
  }
 },
 "nbformat": 4,
 "nbformat_minor": 5
}
